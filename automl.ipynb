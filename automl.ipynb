{
 "cells": [
  {
   "cell_type": "markdown",
   "metadata": {},
   "source": [
    "# Automated ML"
   ]
  },
  {
   "cell_type": "code",
   "execution_count": 1,
   "metadata": {
    "gather": {
     "logged": 1598423888013
    },
    "jupyter": {
     "outputs_hidden": false,
     "source_hidden": false
    },
    "nteract": {
     "transient": {
      "deleting": false
     }
    }
   },
   "outputs": [],
   "source": [
    "from azureml.core import Workspace, Experiment\n",
    "from azureml.core.compute import ComputeTarget, AmlCompute\n",
    "from azureml.core.compute_target import ComputeTargetException\n",
    "from azureml.widgets import RunDetails\n",
    "from azureml.data.dataset_factory import TabularDatasetFactory\n",
    "from sklearn.model_selection import train_test_split\n",
    "import pandas as pd\n",
    "from azureml.core.dataset import Dataset\n",
    "from azureml.train.automl.utilities import get_primary_metrics\n",
    "from azureml.train.automl import AutoMLConfig\n",
    "from azureml.core.model import InferenceConfig\n",
    "from azureml.core.webservice import AciWebservice\n",
    "from azureml.core.webservice import Webservice\n",
    "from azureml.core.model import Model\n",
    "from azureml.core.environment import Environment\n",
    "from azureml.automl.core.shared import constants\n",
    "import joblib"
   ]
  },
  {
   "cell_type": "markdown",
   "metadata": {},
   "source": [
    "## Dataset\n",
    "\n",
    "### Overview\n",
    "\n",
    "The dataset used for this project is the [Heart Failure Prediction](https://www.kaggle.com/andrewmvd/heart-failure-clinical-data) dataset taken from Kaggle.\n",
    "\n",
    "This dataset contains 12 features that can be used to predict mortality by heart failure:\n",
    "\n",
    "- age: Age of the patient\n",
    "- amaemia: Decrease of red blood cells or hemoglobin\n",
    "- creatinine_phosphokinase: Level of the CPK enzyme in the blood (mcg/L)\n",
    "- diabetes: If the patient has diabetes\n",
    "- ejection_fraction: Percentage of blood leaving the heart at each contraction\n",
    "- high_blood_pressure: If the patient has hypertension\n",
    "- platelets: Platelets in the blood (kiloplatelets/mL)\n",
    "- serum_creatinine: Level of serum creatinine in the blood (mg/dL)\n",
    "- serum_sodium: Level of serum sodium in the blood (mEq/L)\n",
    "- sex: Woman or man\n",
    "- smoking: If the patient smokes or not\n",
    "- time: Follow-up period (days)\n",
    "\n",
    "The target column is DEATH_EVENT which tells if the patient deceased during the follow-up period. The task performed in this project is to predict whether or not a death event occurs."
   ]
  },
  {
   "cell_type": "code",
   "execution_count": 2,
   "metadata": {
    "gather": {
     "logged": 1598423890461
    },
    "jupyter": {
     "outputs_hidden": false,
     "source_hidden": false
    },
    "nteract": {
     "transient": {
      "deleting": false
     }
    }
   },
   "outputs": [
    {
     "name": "stdout",
     "output_type": "stream",
     "text": [
      "Workspace name: quick-starts-ws-138271\n",
      "Azure region: southcentralus\n",
      "Subscription id: cdbe0b43-92a0-4715-838a-f2648cc7ad21\n",
      "Resource group: aml-quickstarts-138271\n"
     ]
    }
   ],
   "source": [
    "## Creating a new Experiment\n",
    "ws = Workspace.from_config()\n",
    "experiment_name = 'heart-failure-automl'\n",
    "\n",
    "experiment=Experiment(ws, experiment_name)\n",
    "\n",
    "print('Workspace name: ' + ws.name, \n",
    "      'Azure region: ' + ws.location, \n",
    "      'Subscription id: ' + ws.subscription_id, \n",
    "      'Resource group: ' + ws.resource_group, sep = '\\n')\n",
    "\n",
    "run = experiment.start_logging()"
   ]
  },
  {
   "cell_type": "code",
   "execution_count": 3,
   "metadata": {},
   "outputs": [
    {
     "name": "stdout",
     "output_type": "stream",
     "text": [
      "notebook138271 ComputeInstance Succeeded\n",
      "aml-compute AmlCompute Succeeded\n"
     ]
    }
   ],
   "source": [
    "#Checking and printing existing compute targets\n",
    "compute_targets= ws.compute_targets\n",
    "for name, ct in compute_targets.items():\n",
    "    print(name, ct.type, ct.provisioning_state)"
   ]
  },
  {
   "cell_type": "code",
   "execution_count": 4,
   "metadata": {},
   "outputs": [
    {
     "name": "stdout",
     "output_type": "stream",
     "text": [
      "Creating new cluster...\n",
      "Creating\n",
      "Succeeded\n",
      "AmlCompute wait for completion finished\n",
      "\n",
      "Minimum number of nodes requested have been provisioned\n"
     ]
    }
   ],
   "source": [
    "#Create compute cluster\n",
    "compute_cluster_name= \"cpu-compute\"\n",
    "\n",
    "#Check if compute cluster already exists\n",
    "try:\n",
    "    compute_cluster=ComputeTarget(workspace=ws, name=compute_cluster_name)\n",
    "    print(\"Found existing cluster, use it...\")\n",
    "except ComputeTargetException:\n",
    "    print(\"Creating new cluster...\")\n",
    "    compute_config = AmlCompute.provisioning_configuration(vm_size='STANDARD_D2_V2',max_nodes=4)\n",
    "    compute_cluster = ComputeTarget.create(ws, compute_cluster_name, compute_config)\n",
    "    \n",
    "compute_cluster.wait_for_completion(show_output=True)"
   ]
  },
  {
   "cell_type": "code",
   "execution_count": 5,
   "metadata": {},
   "outputs": [],
   "source": [
    "#Get data\n",
    "from azureml.data.dataset_factory import TabularDatasetFactory\n",
    "\n",
    "# Create TabularDataset using TabularDatasetFactory\n",
    "# Data is available at: \n",
    "# \"https://raw.githubusercontent.com/neha7598/azure-ml-capstone/main/data/heart_failure_clinical_records_dataset.csv\"\n",
    "\n",
    "path_to_data= \"https://raw.githubusercontent.com/neha7598/azure-ml-capstone/main/data/heart_failure_clinical_records_dataset.csv\"\n",
    "data=TabularDatasetFactory.from_delimited_files(path=path_to_data)"
   ]
  },
  {
   "cell_type": "code",
   "execution_count": 6,
   "metadata": {},
   "outputs": [
    {
     "data": {
      "text/html": [
       "<div>\n",
       "<style scoped>\n",
       "    .dataframe tbody tr th:only-of-type {\n",
       "        vertical-align: middle;\n",
       "    }\n",
       "\n",
       "    .dataframe tbody tr th {\n",
       "        vertical-align: top;\n",
       "    }\n",
       "\n",
       "    .dataframe thead th {\n",
       "        text-align: right;\n",
       "    }\n",
       "</style>\n",
       "<table border=\"1\" class=\"dataframe\">\n",
       "  <thead>\n",
       "    <tr style=\"text-align: right;\">\n",
       "      <th></th>\n",
       "      <th>age</th>\n",
       "      <th>anaemia</th>\n",
       "      <th>creatinine_phosphokinase</th>\n",
       "      <th>diabetes</th>\n",
       "      <th>ejection_fraction</th>\n",
       "      <th>high_blood_pressure</th>\n",
       "      <th>platelets</th>\n",
       "      <th>serum_creatinine</th>\n",
       "      <th>serum_sodium</th>\n",
       "      <th>sex</th>\n",
       "      <th>smoking</th>\n",
       "      <th>time</th>\n",
       "      <th>DEATH_EVENT</th>\n",
       "    </tr>\n",
       "  </thead>\n",
       "  <tbody>\n",
       "    <tr>\n",
       "      <th>120</th>\n",
       "      <td>60.0</td>\n",
       "      <td>1</td>\n",
       "      <td>737</td>\n",
       "      <td>0</td>\n",
       "      <td>60</td>\n",
       "      <td>1</td>\n",
       "      <td>210000.00</td>\n",
       "      <td>1.50</td>\n",
       "      <td>135</td>\n",
       "      <td>1</td>\n",
       "      <td>1</td>\n",
       "      <td>95</td>\n",
       "      <td>0</td>\n",
       "    </tr>\n",
       "    <tr>\n",
       "      <th>109</th>\n",
       "      <td>45.0</td>\n",
       "      <td>0</td>\n",
       "      <td>292</td>\n",
       "      <td>1</td>\n",
       "      <td>35</td>\n",
       "      <td>0</td>\n",
       "      <td>850000.00</td>\n",
       "      <td>1.30</td>\n",
       "      <td>142</td>\n",
       "      <td>1</td>\n",
       "      <td>1</td>\n",
       "      <td>88</td>\n",
       "      <td>0</td>\n",
       "    </tr>\n",
       "    <tr>\n",
       "      <th>143</th>\n",
       "      <td>61.0</td>\n",
       "      <td>1</td>\n",
       "      <td>84</td>\n",
       "      <td>0</td>\n",
       "      <td>40</td>\n",
       "      <td>1</td>\n",
       "      <td>229000.00</td>\n",
       "      <td>0.90</td>\n",
       "      <td>141</td>\n",
       "      <td>0</td>\n",
       "      <td>0</td>\n",
       "      <td>110</td>\n",
       "      <td>0</td>\n",
       "    </tr>\n",
       "    <tr>\n",
       "      <th>63</th>\n",
       "      <td>45.0</td>\n",
       "      <td>0</td>\n",
       "      <td>582</td>\n",
       "      <td>0</td>\n",
       "      <td>35</td>\n",
       "      <td>0</td>\n",
       "      <td>385000.00</td>\n",
       "      <td>1.00</td>\n",
       "      <td>145</td>\n",
       "      <td>1</td>\n",
       "      <td>0</td>\n",
       "      <td>61</td>\n",
       "      <td>1</td>\n",
       "    </tr>\n",
       "    <tr>\n",
       "      <th>155</th>\n",
       "      <td>60.0</td>\n",
       "      <td>1</td>\n",
       "      <td>231</td>\n",
       "      <td>1</td>\n",
       "      <td>25</td>\n",
       "      <td>0</td>\n",
       "      <td>194000.00</td>\n",
       "      <td>1.70</td>\n",
       "      <td>140</td>\n",
       "      <td>1</td>\n",
       "      <td>0</td>\n",
       "      <td>120</td>\n",
       "      <td>0</td>\n",
       "    </tr>\n",
       "    <tr>\n",
       "      <th>...</th>\n",
       "      <td>...</td>\n",
       "      <td>...</td>\n",
       "      <td>...</td>\n",
       "      <td>...</td>\n",
       "      <td>...</td>\n",
       "      <td>...</td>\n",
       "      <td>...</td>\n",
       "      <td>...</td>\n",
       "      <td>...</td>\n",
       "      <td>...</td>\n",
       "      <td>...</td>\n",
       "      <td>...</td>\n",
       "      <td>...</td>\n",
       "    </tr>\n",
       "    <tr>\n",
       "      <th>34</th>\n",
       "      <td>65.0</td>\n",
       "      <td>0</td>\n",
       "      <td>94</td>\n",
       "      <td>1</td>\n",
       "      <td>50</td>\n",
       "      <td>1</td>\n",
       "      <td>188000.00</td>\n",
       "      <td>1.00</td>\n",
       "      <td>140</td>\n",
       "      <td>1</td>\n",
       "      <td>0</td>\n",
       "      <td>29</td>\n",
       "      <td>1</td>\n",
       "    </tr>\n",
       "    <tr>\n",
       "      <th>65</th>\n",
       "      <td>60.0</td>\n",
       "      <td>0</td>\n",
       "      <td>68</td>\n",
       "      <td>0</td>\n",
       "      <td>20</td>\n",
       "      <td>0</td>\n",
       "      <td>119000.00</td>\n",
       "      <td>2.90</td>\n",
       "      <td>127</td>\n",
       "      <td>1</td>\n",
       "      <td>1</td>\n",
       "      <td>64</td>\n",
       "      <td>1</td>\n",
       "    </tr>\n",
       "    <tr>\n",
       "      <th>135</th>\n",
       "      <td>75.0</td>\n",
       "      <td>0</td>\n",
       "      <td>582</td>\n",
       "      <td>0</td>\n",
       "      <td>40</td>\n",
       "      <td>0</td>\n",
       "      <td>263358.03</td>\n",
       "      <td>1.18</td>\n",
       "      <td>137</td>\n",
       "      <td>1</td>\n",
       "      <td>0</td>\n",
       "      <td>107</td>\n",
       "      <td>0</td>\n",
       "    </tr>\n",
       "    <tr>\n",
       "      <th>247</th>\n",
       "      <td>64.0</td>\n",
       "      <td>0</td>\n",
       "      <td>143</td>\n",
       "      <td>0</td>\n",
       "      <td>25</td>\n",
       "      <td>0</td>\n",
       "      <td>246000.00</td>\n",
       "      <td>2.40</td>\n",
       "      <td>135</td>\n",
       "      <td>1</td>\n",
       "      <td>0</td>\n",
       "      <td>214</td>\n",
       "      <td>0</td>\n",
       "    </tr>\n",
       "    <tr>\n",
       "      <th>171</th>\n",
       "      <td>52.0</td>\n",
       "      <td>0</td>\n",
       "      <td>3966</td>\n",
       "      <td>0</td>\n",
       "      <td>40</td>\n",
       "      <td>0</td>\n",
       "      <td>325000.00</td>\n",
       "      <td>0.90</td>\n",
       "      <td>140</td>\n",
       "      <td>1</td>\n",
       "      <td>1</td>\n",
       "      <td>146</td>\n",
       "      <td>0</td>\n",
       "    </tr>\n",
       "  </tbody>\n",
       "</table>\n",
       "<p>239 rows × 13 columns</p>\n",
       "</div>"
      ],
      "text/plain": [
       "      age  anaemia  creatinine_phosphokinase  diabetes  ejection_fraction  \\\n",
       "120  60.0        1                       737         0                 60   \n",
       "109  45.0        0                       292         1                 35   \n",
       "143  61.0        1                        84         0                 40   \n",
       "63   45.0        0                       582         0                 35   \n",
       "155  60.0        1                       231         1                 25   \n",
       "..    ...      ...                       ...       ...                ...   \n",
       "34   65.0        0                        94         1                 50   \n",
       "65   60.0        0                        68         0                 20   \n",
       "135  75.0        0                       582         0                 40   \n",
       "247  64.0        0                       143         0                 25   \n",
       "171  52.0        0                      3966         0                 40   \n",
       "\n",
       "     high_blood_pressure  platelets  serum_creatinine  serum_sodium  sex  \\\n",
       "120                    1  210000.00              1.50           135    1   \n",
       "109                    0  850000.00              1.30           142    1   \n",
       "143                    1  229000.00              0.90           141    0   \n",
       "63                     0  385000.00              1.00           145    1   \n",
       "155                    0  194000.00              1.70           140    1   \n",
       "..                   ...        ...               ...           ...  ...   \n",
       "34                     1  188000.00              1.00           140    1   \n",
       "65                     0  119000.00              2.90           127    1   \n",
       "135                    0  263358.03              1.18           137    1   \n",
       "247                    0  246000.00              2.40           135    1   \n",
       "171                    0  325000.00              0.90           140    1   \n",
       "\n",
       "     smoking  time  DEATH_EVENT  \n",
       "120        1    95            0  \n",
       "109        1    88            0  \n",
       "143        0   110            0  \n",
       "63         0    61            1  \n",
       "155        0   120            0  \n",
       "..       ...   ...          ...  \n",
       "34         0    29            1  \n",
       "65         1    64            1  \n",
       "135        0   107            0  \n",
       "247        0   214            0  \n",
       "171        1   146            0  \n",
       "\n",
       "[239 rows x 13 columns]"
      ]
     },
     "execution_count": 6,
     "metadata": {},
     "output_type": "execute_result"
    }
   ],
   "source": [
    "data = data.to_pandas_dataframe()\n",
    "x=data.drop('DEATH_EVENT',axis=1)\n",
    "y=data['DEATH_EVENT']\n",
    "\n",
    "##split into train and test datasets\n",
    "x_train, x_test, y_train, y_test= train_test_split(x, y, test_size=0.20)\n",
    "\n",
    "#concatenate to form train and test datasets \n",
    "train_df=pd.concat([x_train, y_train], axis=1)\n",
    "test_df=pd.concat([x_test, y_test], axis=1)\n",
    "\n",
    "train_df"
   ]
  },
  {
   "cell_type": "code",
   "execution_count": 7,
   "metadata": {},
   "outputs": [
    {
     "name": "stdout",
     "output_type": "stream",
     "text": [
      "Uploading an estimated of 2 files\n",
      "Uploading ./data/test_data.csv\n",
      "Uploaded ./data/test_data.csv, 1 files out of an estimated total of 2\n",
      "Uploading ./data/train_data.csv\n",
      "Uploaded ./data/train_data.csv, 2 files out of an estimated total of 2\n",
      "Uploaded 2 files\n"
     ]
    },
    {
     "data": {
      "text/plain": [
       "$AZUREML_DATAREFERENCE_0e32e7b53a8945c3a4fa96ca64b39a3c"
      ]
     },
     "execution_count": 7,
     "metadata": {},
     "output_type": "execute_result"
    }
   ],
   "source": [
    "#save pandas dataframe as .csv and upload to datastore\n",
    "if not os.path.isdir('data'):\n",
    "    os.mkdir('data')\n",
    "pd.DataFrame(train_df).to_csv(\"data/train_data.csv\", index=False)\n",
    "pd.DataFrame(test_df).to_csv(\"data/test_data.csv\", index=False)\n",
    "\n",
    "ds = ws.get_default_datastore()\n",
    "ds.upload(src_dir='./data', target_path='heart-failure', overwrite=True, show_progress=True)"
   ]
  },
  {
   "cell_type": "code",
   "execution_count": 8,
   "metadata": {},
   "outputs": [],
   "source": [
    "#Load dataset as TabularDataset\n",
    "train_data = Dataset.Tabular.from_delimited_files(path=ds.path('heart-failure/train_data.csv'))"
   ]
  },
  {
   "cell_type": "code",
   "execution_count": 9,
   "metadata": {},
   "outputs": [
    {
     "data": {
      "text/plain": [
       "['average_precision_score_weighted',\n",
       " 'norm_macro_recall',\n",
       " 'accuracy',\n",
       " 'AUC_weighted',\n",
       " 'precision_score_weighted']"
      ]
     },
     "execution_count": 9,
     "metadata": {},
     "output_type": "execute_result"
    }
   ],
   "source": [
    "get_primary_metrics(\"classification\")"
   ]
  },
  {
   "cell_type": "markdown",
   "metadata": {},
   "source": [
    "## AutoML Configuration\n",
    "The AutoML Config class is a way of leveraging the AutoML SDK to automate machine learning. \n",
    "\n",
    "The AutoML settings file is a dictionary that specifies all the parameters controlling the experiment like experiment_timeout_minutes, whether or not to enable early stoppong, number of cross validations, the primary metric, etc.\n",
    "\n",
    "In the AutoML Config, we specify the task, the training data to be used, the target column name, the compute target and we pass the automl settings dictionary."
   ]
  },
  {
   "cell_type": "code",
   "execution_count": 10,
   "metadata": {
    "gather": {
     "logged": 1598429217746
    },
    "jupyter": {
     "outputs_hidden": false,
     "source_hidden": false
    },
    "nteract": {
     "transient": {
      "deleting": false
     }
    }
   },
   "outputs": [],
   "source": [
    "# automl settings \n",
    "automl_settings = {\n",
    "    \"enable_early_stopping\" : True,\n",
    "    \"experiment_timeout_minutes\": 30,\n",
    "    \"n_cross_validations\": 4\n",
    "    \"featurization\": 'auto',\n",
    "    \"primary_metric\": 'accuracy',\n",
    "    \"verbosity\": logging.INFO\n",
    "}\n",
    "\n",
    "# automl config \n",
    "automl_config = AutoMLConfig(\n",
    "    task='classification',\n",
    "    debug_log = 'automl_errors.log'\n",
    "    training_data=train_data,\n",
    "    label_column_name='DEATH_EVENT',\n",
    "    compute_target=compute_cluster,\n",
    "    **automl_settings\n",
    ")"
   ]
  },
  {
   "cell_type": "code",
   "execution_count": 11,
   "metadata": {
    "gather": {
     "logged": 1598431107951
    },
    "jupyter": {
     "outputs_hidden": false,
     "source_hidden": false
    },
    "nteract": {
     "transient": {
      "deleting": false
     }
    }
   },
   "outputs": [
    {
     "name": "stdout",
     "output_type": "stream",
     "text": [
      "Running on remote.\n"
     ]
    }
   ],
   "source": [
    "# Submit your experiment\n",
    "remote_run = experiment.submit(automl_config)"
   ]
  },
  {
   "cell_type": "markdown",
   "metadata": {},
   "source": [
    "## Run Details"
   ]
  },
  {
   "cell_type": "code",
   "execution_count": 12,
   "metadata": {
    "gather": {
     "logged": 1598431121770
    },
    "jupyter": {
     "outputs_hidden": false,
     "source_hidden": false
    },
    "nteract": {
     "transient": {
      "deleting": false
     }
    }
   },
   "outputs": [
    {
     "data": {
      "application/vnd.jupyter.widget-view+json": {
       "model_id": "ddfcc453fcd04ed092d7c0bfcaceaeb3",
       "version_major": 2,
       "version_minor": 0
      },
      "text/plain": [
       "_AutoMLWidget(widget_settings={'childWidgetDisplay': 'popup', 'send_telemetry': False, 'log_level': 'INFO', 's…"
      ]
     },
     "metadata": {},
     "output_type": "display_data"
    },
    {
     "data": {
      "application/aml.mini.widget.v1": "{\"status\": \"Completed\", \"workbench_run_details_uri\": \"https://ml.azure.com/experiments/heart-failure-automl/runs/AutoML_8460f68a-b31a-4570-b383-18f00fbb3873?wsid=/subscriptions/cdbe0b43-92a0-4715-838a-f2648cc7ad21/resourcegroups/aml-quickstarts-138271/workspaces/quick-starts-ws-138271\", \"run_id\": \"AutoML_8460f68a-b31a-4570-b383-18f00fbb3873\", \"run_properties\": {\"run_id\": \"AutoML_8460f68a-b31a-4570-b383-18f00fbb3873\", \"created_utc\": \"2021-02-09T16:40:39.040144Z\", \"properties\": {\"num_iterations\": \"1000\", \"training_type\": \"TrainFull\", \"acquisition_function\": \"EI\", \"primary_metric\": \"accuracy\", \"train_split\": \"0\", \"acquisition_parameter\": \"0\", \"num_cross_validation\": \"4\", \"target\": \"cpu-compute\", \"AMLSettingsJsonString\": \"{\\\"path\\\":null,\\\"name\\\":\\\"heart-failure-automl\\\",\\\"subscription_id\\\":\\\"cdbe0b43-92a0-4715-838a-f2648cc7ad21\\\",\\\"resource_group\\\":\\\"aml-quickstarts-138271\\\",\\\"workspace_name\\\":\\\"quick-starts-ws-138271\\\",\\\"region\\\":\\\"southcentralus\\\",\\\"compute_target\\\":\\\"cpu-compute\\\",\\\"spark_service\\\":null,\\\"azure_service\\\":\\\"remote\\\",\\\"many_models\\\":false,\\\"pipeline_fetch_max_batch_size\\\":1,\\\"iterations\\\":1000,\\\"primary_metric\\\":\\\"accuracy\\\",\\\"task_type\\\":\\\"classification\\\",\\\"data_script\\\":null,\\\"validation_size\\\":0.0,\\\"n_cross_validations\\\":4,\\\"y_min\\\":null,\\\"y_max\\\":null,\\\"num_classes\\\":null,\\\"featurization\\\":\\\"auto\\\",\\\"_ignore_package_version_incompatibilities\\\":false,\\\"is_timeseries\\\":false,\\\"max_cores_per_iteration\\\":1,\\\"max_concurrent_iterations\\\":1,\\\"iteration_timeout_minutes\\\":null,\\\"mem_in_mb\\\":null,\\\"enforce_time_on_windows\\\":false,\\\"experiment_timeout_minutes\\\":30,\\\"experiment_exit_score\\\":null,\\\"whitelist_models\\\":null,\\\"blacklist_algos\\\":[\\\"TensorFlowLinearClassifier\\\",\\\"TensorFlowDNN\\\"],\\\"supported_models\\\":[\\\"LinearSVM\\\",\\\"MultinomialNaiveBayes\\\",\\\"DecisionTree\\\",\\\"GradientBoosting\\\",\\\"ExtremeRandomTrees\\\",\\\"LightGBM\\\",\\\"XGBoostClassifier\\\",\\\"TensorFlowLinearClassifier\\\",\\\"RandomForest\\\",\\\"TensorFlowDNN\\\",\\\"SVM\\\",\\\"LogisticRegression\\\",\\\"AveragedPerceptronClassifier\\\",\\\"KNN\\\",\\\"BernoulliNaiveBayes\\\",\\\"SGD\\\"],\\\"auto_blacklist\\\":true,\\\"blacklist_samples_reached\\\":false,\\\"exclude_nan_labels\\\":true,\\\"verbosity\\\":20,\\\"_debug_log\\\":\\\"azureml_automl.log\\\",\\\"show_warnings\\\":false,\\\"model_explainability\\\":true,\\\"service_url\\\":null,\\\"sdk_url\\\":null,\\\"sdk_packages\\\":null,\\\"enable_onnx_compatible_models\\\":false,\\\"enable_split_onnx_featurizer_estimator_models\\\":false,\\\"vm_type\\\":\\\"STANDARD_D2_V2\\\",\\\"telemetry_verbosity\\\":20,\\\"send_telemetry\\\":true,\\\"enable_dnn\\\":false,\\\"scenario\\\":\\\"SDK-1.13.0\\\",\\\"environment_label\\\":null,\\\"force_text_dnn\\\":false,\\\"enable_feature_sweeping\\\":true,\\\"enable_early_stopping\\\":true,\\\"early_stopping_n_iters\\\":10,\\\"metrics\\\":null,\\\"enable_ensembling\\\":true,\\\"enable_stack_ensembling\\\":true,\\\"ensemble_iterations\\\":15,\\\"enable_tf\\\":false,\\\"enable_subsampling\\\":null,\\\"subsample_seed\\\":null,\\\"enable_nimbusml\\\":false,\\\"enable_streaming\\\":false,\\\"force_streaming\\\":false,\\\"track_child_runs\\\":true,\\\"allowed_private_models\\\":[],\\\"label_column_name\\\":\\\"DEATH_EVENT\\\",\\\"weight_column_name\\\":null,\\\"cv_split_column_names\\\":null,\\\"enable_local_managed\\\":false,\\\"_local_managed_run_id\\\":null,\\\"cost_mode\\\":1,\\\"lag_length\\\":0,\\\"metric_operation\\\":\\\"maximize\\\",\\\"preprocess\\\":true}\", \"DataPrepJsonString\": \"{\\\\\\\"training_data\\\\\\\": \\\\\\\"{\\\\\\\\\\\\\\\"blocks\\\\\\\\\\\\\\\": [{\\\\\\\\\\\\\\\"id\\\\\\\\\\\\\\\": \\\\\\\\\\\\\\\"ab475806-eb9e-4e28-b3f9-0d0ce12d3aeb\\\\\\\\\\\\\\\", \\\\\\\\\\\\\\\"type\\\\\\\\\\\\\\\": \\\\\\\\\\\\\\\"Microsoft.DPrep.GetDatastoreFilesBlock\\\\\\\\\\\\\\\", \\\\\\\\\\\\\\\"arguments\\\\\\\\\\\\\\\": {\\\\\\\\\\\\\\\"datastores\\\\\\\\\\\\\\\": [{\\\\\\\\\\\\\\\"datastoreName\\\\\\\\\\\\\\\": \\\\\\\\\\\\\\\"workspaceblobstore\\\\\\\\\\\\\\\", \\\\\\\\\\\\\\\"path\\\\\\\\\\\\\\\": \\\\\\\\\\\\\\\"heart-failure/train_data.csv\\\\\\\\\\\\\\\", \\\\\\\\\\\\\\\"resourceGroup\\\\\\\\\\\\\\\": \\\\\\\\\\\\\\\"aml-quickstarts-138271\\\\\\\\\\\\\\\", \\\\\\\\\\\\\\\"subscription\\\\\\\\\\\\\\\": \\\\\\\\\\\\\\\"cdbe0b43-92a0-4715-838a-f2648cc7ad21\\\\\\\\\\\\\\\", \\\\\\\\\\\\\\\"workspaceName\\\\\\\\\\\\\\\": \\\\\\\\\\\\\\\"quick-starts-ws-138271\\\\\\\\\\\\\\\"}]}, \\\\\\\\\\\\\\\"localData\\\\\\\\\\\\\\\": {}, \\\\\\\\\\\\\\\"isEnabled\\\\\\\\\\\\\\\": true, \\\\\\\\\\\\\\\"name\\\\\\\\\\\\\\\": null, \\\\\\\\\\\\\\\"annotation\\\\\\\\\\\\\\\": null}, {\\\\\\\\\\\\\\\"id\\\\\\\\\\\\\\\": \\\\\\\\\\\\\\\"0ceafcc9-ff5b-4e04-86c8-9159613afdae\\\\\\\\\\\\\\\", \\\\\\\\\\\\\\\"type\\\\\\\\\\\\\\\": \\\\\\\\\\\\\\\"Microsoft.DPrep.ParseDelimitedBlock\\\\\\\\\\\\\\\", \\\\\\\\\\\\\\\"arguments\\\\\\\\\\\\\\\": {\\\\\\\\\\\\\\\"columnHeadersMode\\\\\\\\\\\\\\\": 3, \\\\\\\\\\\\\\\"fileEncoding\\\\\\\\\\\\\\\": 0, \\\\\\\\\\\\\\\"handleQuotedLineBreaks\\\\\\\\\\\\\\\": false, \\\\\\\\\\\\\\\"preview\\\\\\\\\\\\\\\": false, \\\\\\\\\\\\\\\"separator\\\\\\\\\\\\\\\": \\\\\\\\\\\\\\\",\\\\\\\\\\\\\\\", \\\\\\\\\\\\\\\"skipRows\\\\\\\\\\\\\\\": 0, \\\\\\\\\\\\\\\"skipRowsMode\\\\\\\\\\\\\\\": 0}, \\\\\\\\\\\\\\\"localData\\\\\\\\\\\\\\\": {}, \\\\\\\\\\\\\\\"isEnabled\\\\\\\\\\\\\\\": true, \\\\\\\\\\\\\\\"name\\\\\\\\\\\\\\\": null, \\\\\\\\\\\\\\\"annotation\\\\\\\\\\\\\\\": null}, {\\\\\\\\\\\\\\\"id\\\\\\\\\\\\\\\": \\\\\\\\\\\\\\\"a5646d63-67b7-4444-b717-5f8c7d7e4601\\\\\\\\\\\\\\\", \\\\\\\\\\\\\\\"type\\\\\\\\\\\\\\\": \\\\\\\\\\\\\\\"Microsoft.DPrep.DropColumnsBlock\\\\\\\\\\\\\\\", \\\\\\\\\\\\\\\"arguments\\\\\\\\\\\\\\\": {\\\\\\\\\\\\\\\"columns\\\\\\\\\\\\\\\": {\\\\\\\\\\\\\\\"type\\\\\\\\\\\\\\\": 0, \\\\\\\\\\\\\\\"details\\\\\\\\\\\\\\\": {\\\\\\\\\\\\\\\"selectedColumns\\\\\\\\\\\\\\\": [\\\\\\\\\\\\\\\"Path\\\\\\\\\\\\\\\"]}}}, \\\\\\\\\\\\\\\"localData\\\\\\\\\\\\\\\": {}, \\\\\\\\\\\\\\\"isEnabled\\\\\\\\\\\\\\\": true, \\\\\\\\\\\\\\\"name\\\\\\\\\\\\\\\": null, \\\\\\\\\\\\\\\"annotation\\\\\\\\\\\\\\\": null}, {\\\\\\\\\\\\\\\"id\\\\\\\\\\\\\\\": \\\\\\\\\\\\\\\"9209a4a3-0f3a-411e-aa7b-30761a044861\\\\\\\\\\\\\\\", \\\\\\\\\\\\\\\"type\\\\\\\\\\\\\\\": \\\\\\\\\\\\\\\"Microsoft.DPrep.SetColumnTypesBlock\\\\\\\\\\\\\\\", \\\\\\\\\\\\\\\"arguments\\\\\\\\\\\\\\\": {\\\\\\\\\\\\\\\"columnConversion\\\\\\\\\\\\\\\": [{\\\\\\\\\\\\\\\"column\\\\\\\\\\\\\\\": {\\\\\\\\\\\\\\\"type\\\\\\\\\\\\\\\": 2, \\\\\\\\\\\\\\\"details\\\\\\\\\\\\\\\": {\\\\\\\\\\\\\\\"selectedColumn\\\\\\\\\\\\\\\": \\\\\\\\\\\\\\\"age\\\\\\\\\\\\\\\"}}, \\\\\\\\\\\\\\\"typeProperty\\\\\\\\\\\\\\\": 3}, {\\\\\\\\\\\\\\\"column\\\\\\\\\\\\\\\": {\\\\\\\\\\\\\\\"type\\\\\\\\\\\\\\\": 2, \\\\\\\\\\\\\\\"details\\\\\\\\\\\\\\\": {\\\\\\\\\\\\\\\"selectedColumn\\\\\\\\\\\\\\\": \\\\\\\\\\\\\\\"anaemia\\\\\\\\\\\\\\\"}}, \\\\\\\\\\\\\\\"typeProperty\\\\\\\\\\\\\\\": 2}, {\\\\\\\\\\\\\\\"column\\\\\\\\\\\\\\\": {\\\\\\\\\\\\\\\"type\\\\\\\\\\\\\\\": 2, \\\\\\\\\\\\\\\"details\\\\\\\\\\\\\\\": {\\\\\\\\\\\\\\\"selectedColumn\\\\\\\\\\\\\\\": \\\\\\\\\\\\\\\"creatinine_phosphokinase\\\\\\\\\\\\\\\"}}, \\\\\\\\\\\\\\\"typeProperty\\\\\\\\\\\\\\\": 2}, {\\\\\\\\\\\\\\\"column\\\\\\\\\\\\\\\": {\\\\\\\\\\\\\\\"type\\\\\\\\\\\\\\\": 2, \\\\\\\\\\\\\\\"details\\\\\\\\\\\\\\\": {\\\\\\\\\\\\\\\"selectedColumn\\\\\\\\\\\\\\\": \\\\\\\\\\\\\\\"diabetes\\\\\\\\\\\\\\\"}}, \\\\\\\\\\\\\\\"typeProperty\\\\\\\\\\\\\\\": 2}, {\\\\\\\\\\\\\\\"column\\\\\\\\\\\\\\\": {\\\\\\\\\\\\\\\"type\\\\\\\\\\\\\\\": 2, \\\\\\\\\\\\\\\"details\\\\\\\\\\\\\\\": {\\\\\\\\\\\\\\\"selectedColumn\\\\\\\\\\\\\\\": \\\\\\\\\\\\\\\"ejection_fraction\\\\\\\\\\\\\\\"}}, \\\\\\\\\\\\\\\"typeProperty\\\\\\\\\\\\\\\": 2}, {\\\\\\\\\\\\\\\"column\\\\\\\\\\\\\\\": {\\\\\\\\\\\\\\\"type\\\\\\\\\\\\\\\": 2, \\\\\\\\\\\\\\\"details\\\\\\\\\\\\\\\": {\\\\\\\\\\\\\\\"selectedColumn\\\\\\\\\\\\\\\": \\\\\\\\\\\\\\\"high_blood_pressure\\\\\\\\\\\\\\\"}}, \\\\\\\\\\\\\\\"typeProperty\\\\\\\\\\\\\\\": 2}, {\\\\\\\\\\\\\\\"column\\\\\\\\\\\\\\\": {\\\\\\\\\\\\\\\"type\\\\\\\\\\\\\\\": 2, \\\\\\\\\\\\\\\"details\\\\\\\\\\\\\\\": {\\\\\\\\\\\\\\\"selectedColumn\\\\\\\\\\\\\\\": \\\\\\\\\\\\\\\"platelets\\\\\\\\\\\\\\\"}}, \\\\\\\\\\\\\\\"typeProperty\\\\\\\\\\\\\\\": 3}, {\\\\\\\\\\\\\\\"column\\\\\\\\\\\\\\\": {\\\\\\\\\\\\\\\"type\\\\\\\\\\\\\\\": 2, \\\\\\\\\\\\\\\"details\\\\\\\\\\\\\\\": {\\\\\\\\\\\\\\\"selectedColumn\\\\\\\\\\\\\\\": \\\\\\\\\\\\\\\"serum_creatinine\\\\\\\\\\\\\\\"}}, \\\\\\\\\\\\\\\"typeProperty\\\\\\\\\\\\\\\": 3}, {\\\\\\\\\\\\\\\"column\\\\\\\\\\\\\\\": {\\\\\\\\\\\\\\\"type\\\\\\\\\\\\\\\": 2, \\\\\\\\\\\\\\\"details\\\\\\\\\\\\\\\": {\\\\\\\\\\\\\\\"selectedColumn\\\\\\\\\\\\\\\": \\\\\\\\\\\\\\\"serum_sodium\\\\\\\\\\\\\\\"}}, \\\\\\\\\\\\\\\"typeProperty\\\\\\\\\\\\\\\": 2}, {\\\\\\\\\\\\\\\"column\\\\\\\\\\\\\\\": {\\\\\\\\\\\\\\\"type\\\\\\\\\\\\\\\": 2, \\\\\\\\\\\\\\\"details\\\\\\\\\\\\\\\": {\\\\\\\\\\\\\\\"selectedColumn\\\\\\\\\\\\\\\": \\\\\\\\\\\\\\\"sex\\\\\\\\\\\\\\\"}}, \\\\\\\\\\\\\\\"typeProperty\\\\\\\\\\\\\\\": 2}, {\\\\\\\\\\\\\\\"column\\\\\\\\\\\\\\\": {\\\\\\\\\\\\\\\"type\\\\\\\\\\\\\\\": 2, \\\\\\\\\\\\\\\"details\\\\\\\\\\\\\\\": {\\\\\\\\\\\\\\\"selectedColumn\\\\\\\\\\\\\\\": \\\\\\\\\\\\\\\"smoking\\\\\\\\\\\\\\\"}}, \\\\\\\\\\\\\\\"typeProperty\\\\\\\\\\\\\\\": 2}, {\\\\\\\\\\\\\\\"column\\\\\\\\\\\\\\\": {\\\\\\\\\\\\\\\"type\\\\\\\\\\\\\\\": 2, \\\\\\\\\\\\\\\"details\\\\\\\\\\\\\\\": {\\\\\\\\\\\\\\\"selectedColumn\\\\\\\\\\\\\\\": \\\\\\\\\\\\\\\"time\\\\\\\\\\\\\\\"}}, \\\\\\\\\\\\\\\"typeProperty\\\\\\\\\\\\\\\": 2}, {\\\\\\\\\\\\\\\"column\\\\\\\\\\\\\\\": {\\\\\\\\\\\\\\\"type\\\\\\\\\\\\\\\": 2, \\\\\\\\\\\\\\\"details\\\\\\\\\\\\\\\": {\\\\\\\\\\\\\\\"selectedColumn\\\\\\\\\\\\\\\": \\\\\\\\\\\\\\\"DEATH_EVENT\\\\\\\\\\\\\\\"}}, \\\\\\\\\\\\\\\"typeProperty\\\\\\\\\\\\\\\": 2}]}, \\\\\\\\\\\\\\\"localData\\\\\\\\\\\\\\\": {}, \\\\\\\\\\\\\\\"isEnabled\\\\\\\\\\\\\\\": true, \\\\\\\\\\\\\\\"name\\\\\\\\\\\\\\\": null, \\\\\\\\\\\\\\\"annotation\\\\\\\\\\\\\\\": null}], \\\\\\\\\\\\\\\"inspectors\\\\\\\\\\\\\\\": [], \\\\\\\\\\\\\\\"meta\\\\\\\\\\\\\\\": {\\\\\\\\\\\\\\\"savedDatasetId\\\\\\\\\\\\\\\": \\\\\\\\\\\\\\\"2cbea18e-7aeb-4529-8742-cb450e462c98\\\\\\\\\\\\\\\", \\\\\\\\\\\\\\\"datasetType\\\\\\\\\\\\\\\": \\\\\\\\\\\\\\\"tabular\\\\\\\\\\\\\\\", \\\\\\\\\\\\\\\"subscriptionId\\\\\\\\\\\\\\\": \\\\\\\\\\\\\\\"cdbe0b43-92a0-4715-838a-f2648cc7ad21\\\\\\\\\\\\\\\", \\\\\\\\\\\\\\\"workspaceId\\\\\\\\\\\\\\\": \\\\\\\\\\\\\\\"09d57fa8-99b8-4e05-b624-60df9fee0708\\\\\\\\\\\\\\\", \\\\\\\\\\\\\\\"workspaceLocation\\\\\\\\\\\\\\\": \\\\\\\\\\\\\\\"southcentralus\\\\\\\\\\\\\\\"}}\\\\\\\", \\\\\\\"activities\\\\\\\": 0}\", \"EnableSubsampling\": null, \"runTemplate\": \"AutoML\", \"azureml.runsource\": \"automl\", \"display_task_type\": \"classification\", \"dependencies_versions\": \"{\\\"azureml-widgets\\\": \\\"1.20.0\\\", \\\"azureml-train\\\": \\\"1.20.0\\\", \\\"azureml-train-restclients-hyperdrive\\\": \\\"1.20.0\\\", \\\"azureml-train-core\\\": \\\"1.20.0\\\", \\\"azureml-train-automl\\\": \\\"1.20.0\\\", \\\"azureml-train-automl-runtime\\\": \\\"1.20.0\\\", \\\"azureml-train-automl-client\\\": \\\"1.20.0\\\", \\\"azureml-tensorboard\\\": \\\"1.20.0\\\", \\\"azureml-telemetry\\\": \\\"1.20.0\\\", \\\"azureml-sdk\\\": \\\"1.20.0\\\", \\\"azureml-samples\\\": \\\"0+unknown\\\", \\\"azureml-pipeline\\\": \\\"1.20.0\\\", \\\"azureml-pipeline-steps\\\": \\\"1.20.0\\\", \\\"azureml-pipeline-core\\\": \\\"1.20.0\\\", \\\"azureml-opendatasets\\\": \\\"1.20.0\\\", \\\"azureml-model-management-sdk\\\": \\\"1.0.1b6.post1\\\", \\\"azureml-mlflow\\\": \\\"1.20.0.post1\\\", \\\"azureml-interpret\\\": \\\"1.20.0\\\", \\\"azureml-explain-model\\\": \\\"1.20.0\\\", \\\"azureml-defaults\\\": \\\"1.20.0\\\", \\\"azureml-dataset-runtime\\\": \\\"1.20.0\\\", \\\"azureml-dataprep\\\": \\\"2.7.3\\\", \\\"azureml-dataprep-rslex\\\": \\\"1.5.0\\\", \\\"azureml-dataprep-native\\\": \\\"27.0.0\\\", \\\"azureml-datadrift\\\": \\\"1.20.0\\\", \\\"azureml-core\\\": \\\"1.20.0\\\", \\\"azureml-contrib-services\\\": \\\"1.20.0\\\", \\\"azureml-contrib-server\\\": \\\"1.20.0\\\", \\\"azureml-contrib-reinforcementlearning\\\": \\\"1.20.0\\\", \\\"azureml-contrib-pipeline-steps\\\": \\\"1.20.0\\\", \\\"azureml-contrib-notebook\\\": \\\"1.20.0\\\", \\\"azureml-contrib-interpret\\\": \\\"1.20.0\\\", \\\"azureml-contrib-gbdt\\\": \\\"1.20.0\\\", \\\"azureml-contrib-fairness\\\": \\\"1.20.0\\\", \\\"azureml-contrib-dataset\\\": \\\"1.20.0\\\", \\\"azureml-cli-common\\\": \\\"1.20.0\\\", \\\"azureml-automl-runtime\\\": \\\"1.20.0\\\", \\\"azureml-automl-core\\\": \\\"1.20.0\\\", \\\"azureml-accel-models\\\": \\\"1.20.0\\\"}\", \"_aml_system_scenario_identification\": \"Remote.Parent\", \"ClientType\": \"SDK\", \"environment_cpu_name\": \"AzureML-AutoML\", \"environment_cpu_label\": \"prod\", \"environment_gpu_name\": \"AzureML-AutoML-GPU\", \"environment_gpu_label\": \"prod\", \"root_attribution\": \"automl\", \"attribution\": \"AutoML\", \"Orchestrator\": \"AutoML\", \"CancelUri\": \"https://southcentralus.experiments.azureml.net/jasmine/v1.0/subscriptions/cdbe0b43-92a0-4715-838a-f2648cc7ad21/resourceGroups/aml-quickstarts-138271/providers/Microsoft.MachineLearningServices/workspaces/quick-starts-ws-138271/experimentids/f0c06b37-e5a3-4f32-b08c-5e1b28148ab5/cancel/AutoML_8460f68a-b31a-4570-b383-18f00fbb3873\", \"ClientSdkVersion\": \"1.21.0\", \"snapshotId\": \"00000000-0000-0000-0000-000000000000\", \"SetupRunId\": \"AutoML_8460f68a-b31a-4570-b383-18f00fbb3873_setup\", \"SetupRunContainerId\": \"dcid.AutoML_8460f68a-b31a-4570-b383-18f00fbb3873_setup\", \"FeaturizationRunJsonPath\": \"featurizer_container.json\", \"FeaturizationRunId\": \"AutoML_8460f68a-b31a-4570-b383-18f00fbb3873_featurize\", \"ProblemInfoJsonString\": \"{\\\"dataset_num_categorical\\\": 0, \\\"is_sparse\\\": false, \\\"subsampling\\\": false, \\\"dataset_classes\\\": 2, \\\"dataset_features\\\": 12, \\\"dataset_samples\\\": 239, \\\"single_frequency_class_detected\\\": false}\", \"ModelExplainRunId\": \"AutoML_8460f68a-b31a-4570-b383-18f00fbb3873_ModelExplain\"}, \"tags\": {\"model_explain_run\": \"best_run\", \"_aml_system_azureml.automlComponent\": \"AutoML\", \"pipeline_id\": \"\", \"score\": \"\", \"predicted_cost\": \"\", \"fit_time\": \"\", \"training_percent\": \"\", \"iteration\": \"\", \"run_preprocessor\": \"\", \"run_algorithm\": \"\", \"automl_best_child_run_id\": \"AutoML_8460f68a-b31a-4570-b383-18f00fbb3873_24\", \"model_explain_best_run_child_id\": \"AutoML_8460f68a-b31a-4570-b383-18f00fbb3873_24\"}, \"end_time_utc\": \"2021-02-09T17:23:14.503627Z\", \"status\": \"Completed\", \"log_files\": {}, \"log_groups\": [], \"run_duration\": \"0:42:35\"}, \"child_runs\": [{\"run_id\": \"AutoML_8460f68a-b31a-4570-b383-18f00fbb3873_0\", \"run_number\": 6, \"metric\": null, \"status\": \"Completed\", \"run_type\": \"azureml.scriptrun\", \"training_percent\": \"100\", \"start_time\": \"2021-02-09T16:49:34.64328Z\", \"end_time\": \"2021-02-09T16:50:27.140017Z\", \"created_time\": \"2021-02-09T16:49:18.795864Z\", \"created_time_dt\": \"2021-02-09T16:49:18.795864Z\", \"duration\": \"0:01:08\", \"iteration\": \"0\", \"goal\": \"accuracy_max\", \"run_name\": \"MaxAbsScaler, LightGBM\", \"run_properties\": \"copy=True\", \"primary_metric\": 0.83248588, \"best_metric\": 0.83248588}, {\"run_id\": \"AutoML_8460f68a-b31a-4570-b383-18f00fbb3873_1\", \"run_number\": 7, \"metric\": null, \"status\": \"Completed\", \"run_type\": \"azureml.scriptrun\", \"training_percent\": \"100\", \"start_time\": \"2021-02-09T16:50:42.049474Z\", \"end_time\": \"2021-02-09T16:51:43.380612Z\", \"created_time\": \"2021-02-09T16:50:28.001451Z\", \"created_time_dt\": \"2021-02-09T16:50:28.001451Z\", \"duration\": \"0:01:15\", \"iteration\": \"1\", \"goal\": \"accuracy_max\", \"run_name\": \"MaxAbsScaler, XGBoostClassifier\", \"run_properties\": \"copy=True\", \"primary_metric\": 0.82415254, \"best_metric\": 0.83248588}, {\"run_id\": \"AutoML_8460f68a-b31a-4570-b383-18f00fbb3873_2\", \"run_number\": 8, \"metric\": null, \"status\": \"Completed\", \"run_type\": \"azureml.scriptrun\", \"training_percent\": \"100\", \"start_time\": \"2021-02-09T16:51:57.415183Z\", \"end_time\": \"2021-02-09T16:52:55.956645Z\", \"created_time\": \"2021-02-09T16:51:44.645985Z\", \"created_time_dt\": \"2021-02-09T16:51:44.645985Z\", \"duration\": \"0:01:11\", \"iteration\": \"2\", \"goal\": \"accuracy_max\", \"run_name\": \"MinMaxScaler, RandomForest\", \"run_properties\": \"copy=True, feature_range=(0, 1\", \"primary_metric\": 0.85769774, \"best_metric\": 0.85769774}, {\"run_id\": \"AutoML_8460f68a-b31a-4570-b383-18f00fbb3873_3\", \"run_number\": 9, \"metric\": null, \"status\": \"Completed\", \"run_type\": \"azureml.scriptrun\", \"training_percent\": \"100\", \"start_time\": \"2021-02-09T16:53:11.162Z\", \"end_time\": \"2021-02-09T16:54:09.373801Z\", \"created_time\": \"2021-02-09T16:52:57.925808Z\", \"created_time_dt\": \"2021-02-09T16:52:57.925808Z\", \"duration\": \"0:01:11\", \"iteration\": \"3\", \"goal\": \"accuracy_max\", \"run_name\": \"MinMaxScaler, RandomForest\", \"run_properties\": \"copy=True, feature_range=(0, 1\", \"primary_metric\": 0.84491525, \"best_metric\": 0.85769774}, {\"run_id\": \"AutoML_8460f68a-b31a-4570-b383-18f00fbb3873_4\", \"run_number\": 10, \"metric\": null, \"status\": \"Completed\", \"run_type\": \"azureml.scriptrun\", \"training_percent\": \"100\", \"start_time\": \"2021-02-09T16:54:27.405435Z\", \"end_time\": \"2021-02-09T16:55:20.454915Z\", \"created_time\": \"2021-02-09T16:54:13.075981Z\", \"created_time_dt\": \"2021-02-09T16:54:13.075981Z\", \"duration\": \"0:01:07\", \"iteration\": \"4\", \"goal\": \"accuracy_max\", \"run_name\": \"MinMaxScaler, RandomForest\", \"run_properties\": \"copy=True, feature_range=(0, 1\", \"primary_metric\": 0.85748588, \"best_metric\": 0.85769774}, {\"run_id\": \"AutoML_8460f68a-b31a-4570-b383-18f00fbb3873_5\", \"run_number\": 11, \"metric\": null, \"status\": \"Completed\", \"run_type\": \"azureml.scriptrun\", \"training_percent\": \"100\", \"start_time\": \"2021-02-09T16:55:35.333122Z\", \"end_time\": \"2021-02-09T16:56:25.974805Z\", \"created_time\": \"2021-02-09T16:55:23.506739Z\", \"created_time_dt\": \"2021-02-09T16:55:23.506739Z\", \"duration\": \"0:01:02\", \"iteration\": \"5\", \"goal\": \"accuracy_max\", \"run_name\": \"MinMaxScaler, SVM\", \"run_properties\": \"copy=True, feature_range=(0, 1\", \"primary_metric\": 0.73248588, \"best_metric\": 0.85769774}, {\"run_id\": \"AutoML_8460f68a-b31a-4570-b383-18f00fbb3873_6\", \"run_number\": 12, \"metric\": null, \"status\": \"Completed\", \"run_type\": \"azureml.scriptrun\", \"training_percent\": \"100\", \"start_time\": \"2021-02-09T16:56:41.097091Z\", \"end_time\": \"2021-02-09T16:57:39.156418Z\", \"created_time\": \"2021-02-09T16:56:28.186391Z\", \"created_time_dt\": \"2021-02-09T16:56:28.186391Z\", \"duration\": \"0:01:10\", \"iteration\": \"6\", \"goal\": \"accuracy_max\", \"run_name\": \"MaxAbsScaler, GradientBoosting\", \"run_properties\": \"copy=True\", \"primary_metric\": 0.8575565, \"best_metric\": 0.85769774}, {\"run_id\": \"AutoML_8460f68a-b31a-4570-b383-18f00fbb3873_7\", \"run_number\": 13, \"metric\": null, \"status\": \"Completed\", \"run_type\": \"azureml.scriptrun\", \"training_percent\": \"100\", \"start_time\": \"2021-02-09T16:58:23.96321Z\", \"end_time\": \"2021-02-09T16:59:40.519425Z\", \"created_time\": \"2021-02-09T16:58:12.6615Z\", \"created_time_dt\": \"2021-02-09T16:58:12.6615Z\", \"duration\": \"0:01:27\", \"iteration\": \"7\", \"goal\": \"accuracy_max\", \"run_name\": \"StandardScalerWrapper, RandomForest\", \"run_properties\": \"<azureml.automl.runtime.shared.model_wrappers.StandardScalerWrapper object at 0x7f1ffe531b00\", \"primary_metric\": 0.84519774, \"best_metric\": 0.85769774}, {\"run_id\": \"AutoML_8460f68a-b31a-4570-b383-18f00fbb3873_8\", \"run_number\": 14, \"metric\": null, \"status\": \"Completed\", \"run_type\": \"azureml.scriptrun\", \"training_percent\": \"100\", \"start_time\": \"2021-02-09T16:59:56.421079Z\", \"end_time\": \"2021-02-09T17:01:05.726555Z\", \"created_time\": \"2021-02-09T16:59:43.404243Z\", \"created_time_dt\": \"2021-02-09T16:59:43.404243Z\", \"duration\": \"0:01:22\", \"iteration\": \"8\", \"goal\": \"accuracy_max\", \"run_name\": \"SparseNormalizer, XGBoostClassifier\", \"run_properties\": \"<azureml.automl.runtime.shared.model_wrappers.SparseNormalizer object at 0x7f314e08ceb8\", \"primary_metric\": 0.82429379, \"best_metric\": 0.85769774}, {\"run_id\": \"AutoML_8460f68a-b31a-4570-b383-18f00fbb3873_9\", \"run_number\": 15, \"metric\": null, \"status\": \"Completed\", \"run_type\": \"azureml.scriptrun\", \"training_percent\": \"100\", \"start_time\": \"2021-02-09T17:01:21.181651Z\", \"end_time\": \"2021-02-09T17:02:13.198066Z\", \"created_time\": \"2021-02-09T17:01:08.580354Z\", \"created_time_dt\": \"2021-02-09T17:01:08.580354Z\", \"duration\": \"0:01:04\", \"iteration\": \"9\", \"goal\": \"accuracy_max\", \"run_name\": \"SparseNormalizer, LightGBM\", \"run_properties\": \"<azureml.automl.runtime.shared.model_wrappers.SparseNormalizer object at 0x7fcd611eed68\", \"primary_metric\": 0.82429379, \"best_metric\": 0.85769774}, {\"run_id\": \"AutoML_8460f68a-b31a-4570-b383-18f00fbb3873_10\", \"run_number\": 16, \"metric\": null, \"status\": \"Completed\", \"run_type\": \"azureml.scriptrun\", \"training_percent\": \"100\", \"start_time\": \"2021-02-09T17:02:29.042975Z\", \"end_time\": \"2021-02-09T17:03:27.304174Z\", \"created_time\": \"2021-02-09T17:02:15.872898Z\", \"created_time_dt\": \"2021-02-09T17:02:15.872898Z\", \"duration\": \"0:01:11\", \"iteration\": \"10\", \"goal\": \"accuracy_max\", \"run_name\": \"RobustScaler, RandomForest\", \"run_properties\": \"copy=True, quantile_range=[10, 90], with_centering=True,\\n             with_scaling=True\", \"primary_metric\": 0.83644068, \"best_metric\": 0.85769774}, {\"run_id\": \"AutoML_8460f68a-b31a-4570-b383-18f00fbb3873_11\", \"run_number\": 17, \"metric\": null, \"status\": \"Completed\", \"run_type\": \"azureml.scriptrun\", \"training_percent\": \"100\", \"start_time\": \"2021-02-09T17:03:42.598002Z\", \"end_time\": \"2021-02-09T17:05:00.405079Z\", \"created_time\": \"2021-02-09T17:03:29.963415Z\", \"created_time_dt\": \"2021-02-09T17:03:29.963415Z\", \"duration\": \"0:01:30\", \"iteration\": \"11\", \"goal\": \"accuracy_max\", \"run_name\": \"MaxAbsScaler, LightGBM\", \"run_properties\": \"copy=True\", \"primary_metric\": 0.85346045, \"best_metric\": 0.85769774}, {\"run_id\": \"AutoML_8460f68a-b31a-4570-b383-18f00fbb3873_12\", \"run_number\": 18, \"metric\": null, \"status\": \"Completed\", \"run_type\": \"azureml.scriptrun\", \"training_percent\": \"100\", \"start_time\": \"2021-02-09T17:05:17.32422Z\", \"end_time\": \"2021-02-09T17:06:13.71041Z\", \"created_time\": \"2021-02-09T17:05:03.153531Z\", \"created_time_dt\": \"2021-02-09T17:05:03.153531Z\", \"duration\": \"0:01:10\", \"iteration\": \"12\", \"goal\": \"accuracy_max\", \"run_name\": \"RobustScaler, ExtremeRandomTrees\", \"run_properties\": \"copy=True, quantile_range=[25, 75], with_centering=True,\\n             with_scaling=False\", \"primary_metric\": 0.84922316, \"best_metric\": 0.85769774}, {\"run_id\": \"AutoML_8460f68a-b31a-4570-b383-18f00fbb3873_13\", \"run_number\": 19, \"metric\": null, \"status\": \"Completed\", \"run_type\": \"azureml.scriptrun\", \"training_percent\": \"100\", \"start_time\": \"2021-02-09T17:06:26.777818Z\", \"end_time\": \"2021-02-09T17:07:29.774903Z\", \"created_time\": \"2021-02-09T17:06:15.899468Z\", \"created_time_dt\": \"2021-02-09T17:06:15.899468Z\", \"duration\": \"0:01:13\", \"iteration\": \"13\", \"goal\": \"accuracy_max\", \"run_name\": \"SparseNormalizer, XGBoostClassifier\", \"run_properties\": \"<azureml.automl.runtime.shared.model_wrappers.SparseNormalizer object at 0x7fd7f9171f60\", \"primary_metric\": 0.82450565, \"best_metric\": 0.85769774}, {\"run_id\": \"AutoML_8460f68a-b31a-4570-b383-18f00fbb3873_14\", \"run_number\": 20, \"metric\": null, \"status\": \"Completed\", \"run_type\": \"azureml.scriptrun\", \"training_percent\": \"100\", \"start_time\": \"2021-02-09T17:07:47.369806Z\", \"end_time\": \"2021-02-09T17:08:46.460697Z\", \"created_time\": \"2021-02-09T17:07:31.544864Z\", \"created_time_dt\": \"2021-02-09T17:07:31.544864Z\", \"duration\": \"0:01:14\", \"iteration\": \"14\", \"goal\": \"accuracy_max\", \"run_name\": \"StandardScalerWrapper, ExtremeRandomTrees\", \"run_properties\": \"<azureml.automl.runtime.shared.model_wrappers.StandardScalerWrapper object at 0x7fc722a5d630\", \"primary_metric\": 0.84922316, \"best_metric\": 0.85769774}, {\"run_id\": \"AutoML_8460f68a-b31a-4570-b383-18f00fbb3873_15\", \"run_number\": 21, \"metric\": null, \"status\": \"Completed\", \"run_type\": \"azureml.scriptrun\", \"training_percent\": \"100\", \"start_time\": \"2021-02-09T17:09:05.540501Z\", \"end_time\": \"2021-02-09T17:10:09.445006Z\", \"created_time\": \"2021-02-09T17:08:49.470812Z\", \"created_time_dt\": \"2021-02-09T17:08:49.470812Z\", \"duration\": \"0:01:19\", \"iteration\": \"15\", \"goal\": \"accuracy_max\", \"run_name\": \"StandardScalerWrapper, XGBoostClassifier\", \"run_properties\": \"<azureml.automl.runtime.shared.model_wrappers.StandardScalerWrapper object at 0x7f01f0671c18\", \"primary_metric\": 0.8115113, \"best_metric\": 0.85769774}, {\"run_id\": \"AutoML_8460f68a-b31a-4570-b383-18f00fbb3873_16\", \"run_number\": 22, \"metric\": null, \"status\": \"Completed\", \"run_type\": \"azureml.scriptrun\", \"training_percent\": \"100\", \"start_time\": \"2021-02-09T17:10:57.194554Z\", \"end_time\": \"2021-02-09T17:11:43.931876Z\", \"created_time\": \"2021-02-09T17:10:12.378281Z\", \"created_time_dt\": \"2021-02-09T17:10:12.378281Z\", \"duration\": \"0:01:31\", \"iteration\": \"16\", \"goal\": \"accuracy_max\", \"run_name\": \"StandardScalerWrapper, GradientBoosting\", \"run_properties\": \"<azureml.automl.runtime.shared.model_wrappers.StandardScalerWrapper object at 0x7f25b62549e8\", \"primary_metric\": 0.84922316, \"best_metric\": 0.85769774}, {\"run_id\": \"AutoML_8460f68a-b31a-4570-b383-18f00fbb3873_17\", \"run_number\": 23, \"metric\": null, \"status\": \"Completed\", \"run_type\": \"azureml.scriptrun\", \"training_percent\": \"100\", \"start_time\": \"2021-02-09T17:11:59.042353Z\", \"end_time\": \"2021-02-09T17:12:56.598993Z\", \"created_time\": \"2021-02-09T17:11:46.819598Z\", \"created_time_dt\": \"2021-02-09T17:11:46.819598Z\", \"duration\": \"0:01:09\", \"iteration\": \"17\", \"goal\": \"accuracy_max\", \"run_name\": \"StandardScalerWrapper, ExtremeRandomTrees\", \"run_properties\": \"<azureml.automl.runtime.shared.model_wrappers.StandardScalerWrapper object at 0x7f7d168012b0\", \"primary_metric\": 0.77394068, \"best_metric\": 0.85769774}, {\"run_id\": \"AutoML_8460f68a-b31a-4570-b383-18f00fbb3873_18\", \"run_number\": 24, \"metric\": null, \"status\": \"Completed\", \"run_type\": \"azureml.scriptrun\", \"training_percent\": \"100\", \"start_time\": \"2021-02-09T17:13:12.031762Z\", \"end_time\": \"2021-02-09T17:14:16.807825Z\", \"created_time\": \"2021-02-09T17:12:59.060384Z\", \"created_time_dt\": \"2021-02-09T17:12:59.060384Z\", \"duration\": \"0:01:17\", \"iteration\": \"18\", \"goal\": \"accuracy_max\", \"run_name\": \"RobustScaler, ExtremeRandomTrees\", \"run_properties\": \"copy=True, quantile_range=[25, 75], with_centering=True,\\n             with_scaling=True\", \"primary_metric\": 0.85338983, \"best_metric\": 0.85769774}, {\"run_id\": \"AutoML_8460f68a-b31a-4570-b383-18f00fbb3873_19\", \"run_number\": 25, \"metric\": null, \"status\": \"Completed\", \"run_type\": \"azureml.scriptrun\", \"training_percent\": \"100\", \"start_time\": \"2021-02-09T17:14:32.797168Z\", \"end_time\": \"2021-02-09T17:15:31.270807Z\", \"created_time\": \"2021-02-09T17:14:19.775756Z\", \"created_time_dt\": \"2021-02-09T17:14:19.775756Z\", \"duration\": \"0:01:11\", \"iteration\": \"19\", \"goal\": \"accuracy_max\", \"run_name\": \"StandardScalerWrapper, XGBoostClassifier\", \"run_properties\": \"<azureml.automl.runtime.shared.model_wrappers.StandardScalerWrapper object at 0x7f4860cfc0b8\", \"primary_metric\": 0.84929379, \"best_metric\": 0.85769774}, {\"run_id\": \"AutoML_8460f68a-b31a-4570-b383-18f00fbb3873_20\", \"run_number\": 26, \"metric\": null, \"status\": \"Completed\", \"run_type\": \"azureml.scriptrun\", \"training_percent\": \"100\", \"start_time\": \"2021-02-09T17:15:45.626728Z\", \"end_time\": \"2021-02-09T17:16:33.388266Z\", \"created_time\": \"2021-02-09T17:15:34.10949Z\", \"created_time_dt\": \"2021-02-09T17:15:34.10949Z\", \"duration\": \"0:00:59\", \"iteration\": \"20\", \"goal\": \"accuracy_max\", \"run_name\": \"StandardScalerWrapper, LightGBM\", \"run_properties\": \"<azureml.automl.runtime.shared.model_wrappers.StandardScalerWrapper object at 0x7f3ccd5c9a20\", \"primary_metric\": 0.86179379, \"best_metric\": 0.86179379}, {\"run_id\": \"AutoML_8460f68a-b31a-4570-b383-18f00fbb3873_21\", \"run_number\": 27, \"metric\": null, \"status\": \"Completed\", \"run_type\": \"azureml.scriptrun\", \"training_percent\": \"100\", \"start_time\": \"2021-02-09T17:16:48.22565Z\", \"end_time\": \"2021-02-09T17:17:43.214107Z\", \"created_time\": \"2021-02-09T17:16:35.627773Z\", \"created_time_dt\": \"2021-02-09T17:16:35.627773Z\", \"duration\": \"0:01:07\", \"iteration\": \"21\", \"goal\": \"accuracy_max\", \"run_name\": \"SparseNormalizer, RandomForest\", \"run_properties\": \"<azureml.automl.runtime.shared.model_wrappers.SparseNormalizer object at 0x7f80706dc780\", \"primary_metric\": 0.78686441, \"best_metric\": 0.86179379}, {\"run_id\": \"AutoML_8460f68a-b31a-4570-b383-18f00fbb3873_22\", \"run_number\": 28, \"metric\": null, \"status\": \"Completed\", \"run_type\": \"azureml.scriptrun\", \"training_percent\": \"100\", \"start_time\": \"2021-02-09T17:17:57.892207Z\", \"end_time\": \"2021-02-09T17:18:52.479355Z\", \"created_time\": \"2021-02-09T17:17:45.012729Z\", \"created_time_dt\": \"2021-02-09T17:17:45.012729Z\", \"duration\": \"0:01:07\", \"iteration\": \"22\", \"goal\": \"accuracy_max\", \"run_name\": \"SparseNormalizer, XGBoostClassifier\", \"run_properties\": \"<azureml.automl.runtime.shared.model_wrappers.SparseNormalizer object at 0x7f78833b40f0\", \"primary_metric\": 0.82415254, \"best_metric\": 0.86179379}, {\"run_id\": \"AutoML_8460f68a-b31a-4570-b383-18f00fbb3873_23\", \"run_number\": 29, \"metric\": null, \"status\": \"Completed\", \"run_type\": \"azureml.scriptrun\", \"training_percent\": \"100\", \"start_time\": \"2021-02-09T17:19:05.661923Z\", \"end_time\": \"2021-02-09T17:19:53.241701Z\", \"created_time\": \"2021-02-09T17:18:54.70142Z\", \"created_time_dt\": \"2021-02-09T17:18:54.70142Z\", \"duration\": \"0:00:58\", \"iteration\": \"23\", \"goal\": \"accuracy_max\", \"run_name\": \"RobustScaler, LightGBM\", \"run_properties\": \"copy=True, quantile_range=[10, 90], with_centering=True,\\n             with_scaling=False\", \"primary_metric\": 0.79067797, \"best_metric\": 0.86179379}, {\"run_id\": \"AutoML_8460f68a-b31a-4570-b383-18f00fbb3873_24\", \"run_number\": 30, \"metric\": null, \"status\": \"Completed\", \"run_type\": \"azureml.scriptrun\", \"training_percent\": \"100\", \"start_time\": \"2021-02-09T17:20:07.787967Z\", \"end_time\": \"2021-02-09T17:21:36.03855Z\", \"created_time\": \"2021-02-09T17:19:54.244142Z\", \"created_time_dt\": \"2021-02-09T17:19:54.244142Z\", \"duration\": \"0:01:41\", \"iteration\": \"24\", \"goal\": \"accuracy_max\", \"run_name\": \"VotingEnsemble\", \"run_properties\": \"classification_labels=None,\\n                              estimators=[('20',\\n                                           Pipeline(memory=None,\\n                                                    steps=[('standardscalerwrapper',\\n                                                            <azureml.automl.runtime.shared.model_wrappers.StandardScalerWrapper object at 0x7f7cc764dcf8>\", \"primary_metric\": 0.88693503, \"best_metric\": 0.88693503}, {\"run_id\": \"AutoML_8460f68a-b31a-4570-b383-18f00fbb3873_25\", \"run_number\": 31, \"metric\": null, \"status\": \"Completed\", \"run_type\": \"azureml.scriptrun\", \"training_percent\": \"100\", \"start_time\": \"2021-02-09T17:21:50.722784Z\", \"end_time\": \"2021-02-09T17:23:04.025666Z\", \"created_time\": \"2021-02-09T17:21:37.084127Z\", \"created_time_dt\": \"2021-02-09T17:21:37.084127Z\", \"duration\": \"0:01:26\", \"iteration\": \"25\", \"goal\": \"accuracy_max\", \"run_name\": \"StackEnsemble\", \"run_properties\": \"base_learners=[('20',\\n                                        Pipeline(memory=None,\\n                                                 steps=[('standardscalerwrapper',\\n                                                         <azureml.automl.runtime.shared.model_wrappers.StandardScalerWrapper object at 0x7fd85b26f3c8>\", \"primary_metric\": 0.87860169, \"best_metric\": 0.88693503}], \"children_metrics\": {\"categories\": [0], \"series\": {\"average_precision_score_micro\": [{\"categories\": [\"0\", \"1\", \"2\", \"3\", \"4\", \"5\", \"6\", \"7\", \"8\", \"9\", \"10\", \"11\", \"12\", \"13\", \"14\", \"15\", \"16\", \"17\", \"18\", \"19\", \"20\", \"21\", \"22\", \"23\", \"24\", \"25\"], \"mode\": \"markers\", \"name\": \"average_precision_score_micro\", \"stepped\": false, \"type\": \"scatter\", \"data\": [0.9095112945564782, 0.9098116776688209, 0.9256421146360335, 0.9206687618143372, 0.925928956521777, 0.7873507115722487, 0.93474443928471, 0.9203399154601217, 0.9181558126389746, 0.9059568621505204, 0.9182368093423285, 0.9252062837453567, 0.9166084492190703, 0.8884117623299006, 0.9086964043154511, 0.8991583079756712, 0.9278258498396106, 0.8633152826266445, 0.9078013967002132, 0.9180326234729307, 0.9258592790925854, 0.8903805664140647, 0.9064663242564779, 0.8931998704440649, 0.9347014518807041, 0.9346289953098371]}, {\"categories\": [\"0\", \"1\", \"2\", \"3\", \"4\", \"5\", \"6\", \"7\", \"8\", \"9\", \"10\", \"11\", \"12\", \"13\", \"14\", \"15\", \"16\", \"17\", \"18\", \"19\", \"20\", \"21\", \"22\", \"23\", \"24\", \"25\"], \"mode\": \"lines\", \"name\": \"average_precision_score_micro_max\", \"stepped\": true, \"type\": \"scatter\", \"data\": [0.9095112945564782, 0.9098116776688209, 0.9256421146360335, 0.9256421146360335, 0.925928956521777, 0.925928956521777, 0.93474443928471, 0.93474443928471, 0.93474443928471, 0.93474443928471, 0.93474443928471, 0.93474443928471, 0.93474443928471, 0.93474443928471, 0.93474443928471, 0.93474443928471, 0.93474443928471, 0.93474443928471, 0.93474443928471, 0.93474443928471, 0.93474443928471, 0.93474443928471, 0.93474443928471, 0.93474443928471, 0.93474443928471, 0.93474443928471]}], \"f1_score_micro\": [{\"categories\": [\"0\", \"1\", \"2\", \"3\", \"4\", \"5\", \"6\", \"7\", \"8\", \"9\", \"10\", \"11\", \"12\", \"13\", \"14\", \"15\", \"16\", \"17\", \"18\", \"19\", \"20\", \"21\", \"22\", \"23\", \"24\", \"25\"], \"mode\": \"markers\", \"name\": \"f1_score_micro\", \"stepped\": false, \"type\": \"scatter\", \"data\": [0.8324858757062147, 0.8241525423728814, 0.8576977401129944, 0.8449152542372882, 0.8574858757062147, 0.7324858757062147, 0.8575564971751413, 0.8451977401129944, 0.8242937853107345, 0.8242937853107345, 0.8364406779661018, 0.8534604519774012, 0.8492231638418078, 0.8245056497175142, 0.8492231638418078, 0.8115112994350282, 0.8492231638418078, 0.7739406779661018, 0.8533898305084746, 0.8492937853107344, 0.8617937853107345, 0.7868644067796611, 0.8241525423728814, 0.7906779661016949, 0.8869350282485876, 0.8786016949152542]}, {\"categories\": [\"0\", \"1\", \"2\", \"3\", \"4\", \"5\", \"6\", \"7\", \"8\", \"9\", \"10\", \"11\", \"12\", \"13\", \"14\", \"15\", \"16\", \"17\", \"18\", \"19\", \"20\", \"21\", \"22\", \"23\", \"24\", \"25\"], \"mode\": \"lines\", \"name\": \"f1_score_micro_max\", \"stepped\": true, \"type\": \"scatter\", \"data\": [0.8324858757062147, 0.8324858757062147, 0.8576977401129944, 0.8576977401129944, 0.8576977401129944, 0.8576977401129944, 0.8576977401129944, 0.8576977401129944, 0.8576977401129944, 0.8576977401129944, 0.8576977401129944, 0.8576977401129944, 0.8576977401129944, 0.8576977401129944, 0.8576977401129944, 0.8576977401129944, 0.8576977401129944, 0.8576977401129944, 0.8576977401129944, 0.8576977401129944, 0.8617937853107345, 0.8617937853107345, 0.8617937853107345, 0.8617937853107345, 0.8869350282485876, 0.8869350282485876]}], \"balanced_accuracy\": [{\"categories\": [\"0\", \"1\", \"2\", \"3\", \"4\", \"5\", \"6\", \"7\", \"8\", \"9\", \"10\", \"11\", \"12\", \"13\", \"14\", \"15\", \"16\", \"17\", \"18\", \"19\", \"20\", \"21\", \"22\", \"23\", \"24\", \"25\"], \"mode\": \"markers\", \"name\": \"balanced_accuracy\", \"stepped\": false, \"type\": \"scatter\", \"data\": [0.8079730576441102, 0.7979036131996659, 0.8359153091060987, 0.8134633458646617, 0.8340329991645781, 0.6500339390142021, 0.8313048245614035, 0.8057905179615705, 0.7813022138680034, 0.7770520050125314, 0.8046026524644945, 0.8075579573934837, 0.7925438596491228, 0.7778273809523808, 0.7920817669172933, 0.7417867585630744, 0.8185724728487886, 0.6676926691729322, 0.7956688596491227, 0.8052762113617375, 0.826689118629908, 0.7608813700918964, 0.7671313700918965, 0.6886591478696741, 0.8525323725981622, 0.8433061821219716]}, {\"categories\": [\"0\", \"1\", \"2\", \"3\", \"4\", \"5\", \"6\", \"7\", \"8\", \"9\", \"10\", \"11\", \"12\", \"13\", \"14\", \"15\", \"16\", \"17\", \"18\", \"19\", \"20\", \"21\", \"22\", \"23\", \"24\", \"25\"], \"mode\": \"lines\", \"name\": \"balanced_accuracy_max\", \"stepped\": true, \"type\": \"scatter\", \"data\": [0.8079730576441102, 0.8079730576441102, 0.8359153091060987, 0.8359153091060987, 0.8359153091060987, 0.8359153091060987, 0.8359153091060987, 0.8359153091060987, 0.8359153091060987, 0.8359153091060987, 0.8359153091060987, 0.8359153091060987, 0.8359153091060987, 0.8359153091060987, 0.8359153091060987, 0.8359153091060987, 0.8359153091060987, 0.8359153091060987, 0.8359153091060987, 0.8359153091060987, 0.8359153091060987, 0.8359153091060987, 0.8359153091060987, 0.8359153091060987, 0.8525323725981622, 0.8525323725981622]}], \"precision_score_weighted\": [{\"categories\": [\"0\", \"1\", \"2\", \"3\", \"4\", \"5\", \"6\", \"7\", \"8\", \"9\", \"10\", \"11\", \"12\", \"13\", \"14\", \"15\", \"16\", \"17\", \"18\", \"19\", \"20\", \"21\", \"22\", \"23\", \"24\", \"25\"], \"mode\": \"markers\", \"name\": \"precision_score_weighted\", \"stepped\": false, \"type\": \"scatter\", \"data\": [0.8365513002459495, 0.8257121945209174, 0.8579813238902336, 0.842751398464503, 0.856762661536274, 0.7240484665092491, 0.8565151231358723, 0.8425896890985322, 0.8209951613323694, 0.8278235715976048, 0.8345569007782948, 0.8552135915068857, 0.8561420900358874, 0.8258564237285682, 0.8544619052462543, 0.8196645744099936, 0.8484190530461602, 0.8037945884855626, 0.8615481171810451, 0.8503935167863804, 0.8607782077641757, 0.7950643245533864, 0.8258407767619265, 0.8277550603821792, 0.8878058876823796, 0.8779560843687194]}, {\"categories\": [\"0\", \"1\", \"2\", \"3\", \"4\", \"5\", \"6\", \"7\", \"8\", \"9\", \"10\", \"11\", \"12\", \"13\", \"14\", \"15\", \"16\", \"17\", \"18\", \"19\", \"20\", \"21\", \"22\", \"23\", \"24\", \"25\"], \"mode\": \"lines\", \"name\": \"precision_score_weighted_max\", \"stepped\": true, \"type\": \"scatter\", \"data\": [0.8365513002459495, 0.8365513002459495, 0.8579813238902336, 0.8579813238902336, 0.8579813238902336, 0.8579813238902336, 0.8579813238902336, 0.8579813238902336, 0.8579813238902336, 0.8579813238902336, 0.8579813238902336, 0.8579813238902336, 0.8579813238902336, 0.8579813238902336, 0.8579813238902336, 0.8579813238902336, 0.8579813238902336, 0.8579813238902336, 0.8615481171810451, 0.8615481171810451, 0.8615481171810451, 0.8615481171810451, 0.8615481171810451, 0.8615481171810451, 0.8878058876823796, 0.8878058876823796]}], \"average_precision_score_macro\": [{\"categories\": [\"0\", \"1\", \"2\", \"3\", \"4\", \"5\", \"6\", \"7\", \"8\", \"9\", \"10\", \"11\", \"12\", \"13\", \"14\", \"15\", \"16\", \"17\", \"18\", \"19\", \"20\", \"21\", \"22\", \"23\", \"24\", \"25\"], \"mode\": \"markers\", \"name\": \"average_precision_score_macro\", \"stepped\": false, \"type\": \"scatter\", \"data\": [0.8772188143533167, 0.8774364032623817, 0.9029979291506542, 0.8985177466402654, 0.8946112723510302, 0.7396533840114865, 0.910896748985256, 0.9021601896174372, 0.8804584265017087, 0.8740173098053886, 0.8919561836876507, 0.9141702943934591, 0.8957092676255907, 0.8656859064252311, 0.8884234623458543, 0.8698319693754822, 0.9016281561683477, 0.8586477497836835, 0.887416514979194, 0.9038621104219511, 0.9106861082610285, 0.8705248772175456, 0.8742294972964463, 0.8984479714437145, 0.9148365559723477, 0.9148018525833379]}, {\"categories\": [\"0\", \"1\", \"2\", \"3\", \"4\", \"5\", \"6\", \"7\", \"8\", \"9\", \"10\", \"11\", \"12\", \"13\", \"14\", \"15\", \"16\", \"17\", \"18\", \"19\", \"20\", \"21\", \"22\", \"23\", \"24\", \"25\"], \"mode\": \"lines\", \"name\": \"average_precision_score_macro_max\", \"stepped\": true, \"type\": \"scatter\", \"data\": [0.8772188143533167, 0.8774364032623817, 0.9029979291506542, 0.9029979291506542, 0.9029979291506542, 0.9029979291506542, 0.910896748985256, 0.910896748985256, 0.910896748985256, 0.910896748985256, 0.910896748985256, 0.9141702943934591, 0.9141702943934591, 0.9141702943934591, 0.9141702943934591, 0.9141702943934591, 0.9141702943934591, 0.9141702943934591, 0.9141702943934591, 0.9141702943934591, 0.9141702943934591, 0.9141702943934591, 0.9141702943934591, 0.9141702943934591, 0.9148365559723477, 0.9148365559723477]}], \"recall_score_weighted\": [{\"categories\": [\"0\", \"1\", \"2\", \"3\", \"4\", \"5\", \"6\", \"7\", \"8\", \"9\", \"10\", \"11\", \"12\", \"13\", \"14\", \"15\", \"16\", \"17\", \"18\", \"19\", \"20\", \"21\", \"22\", \"23\", \"24\", \"25\"], \"mode\": \"markers\", \"name\": \"recall_score_weighted\", \"stepped\": false, \"type\": \"scatter\", \"data\": [0.8324858757062147, 0.8241525423728814, 0.8576977401129944, 0.8449152542372882, 0.8574858757062147, 0.7324858757062147, 0.8575564971751413, 0.8451977401129944, 0.8242937853107345, 0.8242937853107345, 0.8364406779661018, 0.8534604519774012, 0.8492231638418078, 0.824505649717514, 0.8492231638418078, 0.8115112994350282, 0.8492231638418078, 0.7739406779661018, 0.8533898305084746, 0.8492937853107344, 0.8617937853107345, 0.7868644067796611, 0.8241525423728814, 0.7906779661016949, 0.8869350282485876, 0.8786016949152542]}, {\"categories\": [\"0\", \"1\", \"2\", \"3\", \"4\", \"5\", \"6\", \"7\", \"8\", \"9\", \"10\", \"11\", \"12\", \"13\", \"14\", \"15\", \"16\", \"17\", \"18\", \"19\", \"20\", \"21\", \"22\", \"23\", \"24\", \"25\"], \"mode\": \"lines\", \"name\": \"recall_score_weighted_max\", \"stepped\": true, \"type\": \"scatter\", \"data\": [0.8324858757062147, 0.8324858757062147, 0.8576977401129944, 0.8576977401129944, 0.8576977401129944, 0.8576977401129944, 0.8576977401129944, 0.8576977401129944, 0.8576977401129944, 0.8576977401129944, 0.8576977401129944, 0.8576977401129944, 0.8576977401129944, 0.8576977401129944, 0.8576977401129944, 0.8576977401129944, 0.8576977401129944, 0.8576977401129944, 0.8576977401129944, 0.8576977401129944, 0.8617937853107345, 0.8617937853107345, 0.8617937853107345, 0.8617937853107345, 0.8869350282485876, 0.8869350282485876]}], \"average_precision_score_weighted\": [{\"categories\": [\"0\", \"1\", \"2\", \"3\", \"4\", \"5\", \"6\", \"7\", \"8\", \"9\", \"10\", \"11\", \"12\", \"13\", \"14\", \"15\", \"16\", \"17\", \"18\", \"19\", \"20\", \"21\", \"22\", \"23\", \"24\", \"25\"], \"mode\": \"markers\", \"name\": \"average_precision_score_weighted\", \"stepped\": false, \"type\": \"scatter\", \"data\": [0.9009589774506659, 0.901638833077117, 0.919433628469709, 0.9147024929174605, 0.9148386651127909, 0.7692654418371179, 0.928331806387411, 0.9187843118547766, 0.9060289899055246, 0.8968371904093085, 0.9114714534890527, 0.9289190452359157, 0.9138371275880767, 0.8899588373647828, 0.907952001804343, 0.892192687039158, 0.9218832062040483, 0.8809378153554285, 0.9066228369968007, 0.9184263899312582, 0.924686593012161, 0.8921653893832514, 0.8983870731206294, 0.9167095170032749, 0.930592954643481, 0.930637733151968]}, {\"categories\": [\"0\", \"1\", \"2\", \"3\", \"4\", \"5\", \"6\", \"7\", \"8\", \"9\", \"10\", \"11\", \"12\", \"13\", \"14\", \"15\", \"16\", \"17\", \"18\", \"19\", \"20\", \"21\", \"22\", \"23\", \"24\", \"25\"], \"mode\": \"lines\", \"name\": \"average_precision_score_weighted_max\", \"stepped\": true, \"type\": \"scatter\", \"data\": [0.9009589774506659, 0.901638833077117, 0.919433628469709, 0.919433628469709, 0.919433628469709, 0.919433628469709, 0.928331806387411, 0.928331806387411, 0.928331806387411, 0.928331806387411, 0.928331806387411, 0.9289190452359157, 0.9289190452359157, 0.9289190452359157, 0.9289190452359157, 0.9289190452359157, 0.9289190452359157, 0.9289190452359157, 0.9289190452359157, 0.9289190452359157, 0.9289190452359157, 0.9289190452359157, 0.9289190452359157, 0.9289190452359157, 0.930592954643481, 0.930637733151968]}], \"f1_score_macro\": [{\"categories\": [\"0\", \"1\", \"2\", \"3\", \"4\", \"5\", \"6\", \"7\", \"8\", \"9\", \"10\", \"11\", \"12\", \"13\", \"14\", \"15\", \"16\", \"17\", \"18\", \"19\", \"20\", \"21\", \"22\", \"23\", \"24\", \"25\"], \"mode\": \"markers\", \"name\": \"f1_score_macro\", \"stepped\": false, \"type\": \"scatter\", \"data\": [0.8090006119135795, 0.7987562938934829, 0.8374382450631475, 0.8194478353812837, 0.8355242229259168, 0.6587785351774526, 0.8360066793511931, 0.8162765474523337, 0.7903729288175463, 0.7884253712980205, 0.8115556091369183, 0.8239874820469285, 0.8133432930983193, 0.7886806274457703, 0.8133253715133997, 0.761737316159113, 0.82503346431601, 0.6807746331700248, 0.8175058883689859, 0.8199716587866649, 0.8378799398203188, 0.7587009744348212, 0.7837003205452189, 0.7070871099956666, 0.8649791170651248, 0.8554823480232842]}, {\"categories\": [\"0\", \"1\", \"2\", \"3\", \"4\", \"5\", \"6\", \"7\", \"8\", \"9\", \"10\", \"11\", \"12\", \"13\", \"14\", \"15\", \"16\", \"17\", \"18\", \"19\", \"20\", \"21\", \"22\", \"23\", \"24\", \"25\"], \"mode\": \"lines\", \"name\": \"f1_score_macro_max\", \"stepped\": true, \"type\": \"scatter\", \"data\": [0.8090006119135795, 0.8090006119135795, 0.8374382450631475, 0.8374382450631475, 0.8374382450631475, 0.8374382450631475, 0.8374382450631475, 0.8374382450631475, 0.8374382450631475, 0.8374382450631475, 0.8374382450631475, 0.8374382450631475, 0.8374382450631475, 0.8374382450631475, 0.8374382450631475, 0.8374382450631475, 0.8374382450631475, 0.8374382450631475, 0.8374382450631475, 0.8374382450631475, 0.8378799398203188, 0.8378799398203188, 0.8378799398203188, 0.8378799398203188, 0.8649791170651248, 0.8649791170651248]}], \"accuracy\": [{\"categories\": [\"0\", \"1\", \"2\", \"3\", \"4\", \"5\", \"6\", \"7\", \"8\", \"9\", \"10\", \"11\", \"12\", \"13\", \"14\", \"15\", \"16\", \"17\", \"18\", \"19\", \"20\", \"21\", \"22\", \"23\", \"24\", \"25\"], \"mode\": \"markers\", \"name\": \"accuracy\", \"stepped\": false, \"type\": \"scatter\", \"data\": [0.8324858757062147, 0.8241525423728814, 0.8576977401129944, 0.8449152542372882, 0.8574858757062147, 0.7324858757062147, 0.8575564971751413, 0.8451977401129944, 0.8242937853107345, 0.8242937853107345, 0.8364406779661018, 0.8534604519774012, 0.8492231638418078, 0.824505649717514, 0.8492231638418078, 0.8115112994350282, 0.8492231638418078, 0.7739406779661018, 0.8533898305084746, 0.8492937853107344, 0.8617937853107345, 0.7868644067796611, 0.8241525423728814, 0.7906779661016949, 0.8869350282485876, 0.8786016949152542]}, {\"categories\": [\"0\", \"1\", \"2\", \"3\", \"4\", \"5\", \"6\", \"7\", \"8\", \"9\", \"10\", \"11\", \"12\", \"13\", \"14\", \"15\", \"16\", \"17\", \"18\", \"19\", \"20\", \"21\", \"22\", \"23\", \"24\", \"25\"], \"mode\": \"lines\", \"name\": \"accuracy_max\", \"stepped\": true, \"type\": \"scatter\", \"data\": [0.8324858757062147, 0.8324858757062147, 0.8576977401129944, 0.8576977401129944, 0.8576977401129944, 0.8576977401129944, 0.8576977401129944, 0.8576977401129944, 0.8576977401129944, 0.8576977401129944, 0.8576977401129944, 0.8576977401129944, 0.8576977401129944, 0.8576977401129944, 0.8576977401129944, 0.8576977401129944, 0.8576977401129944, 0.8576977401129944, 0.8576977401129944, 0.8576977401129944, 0.8617937853107345, 0.8617937853107345, 0.8617937853107345, 0.8617937853107345, 0.8869350282485876, 0.8869350282485876]}], \"AUC_weighted\": [{\"categories\": [\"0\", \"1\", \"2\", \"3\", \"4\", \"5\", \"6\", \"7\", \"8\", \"9\", \"10\", \"11\", \"12\", \"13\", \"14\", \"15\", \"16\", \"17\", \"18\", \"19\", \"20\", \"21\", \"22\", \"23\", \"24\", \"25\"], \"mode\": \"markers\", \"name\": \"AUC_weighted\", \"stepped\": false, \"type\": \"scatter\", \"data\": [0.8930917571707044, 0.8951597744360903, 0.9131076388888888, 0.9043392335004177, 0.9069152917014758, 0.7379438613895851, 0.9214213485101643, 0.9108422967140072, 0.9019420077972711, 0.8825720551378446, 0.9035790866054024, 0.9211047584238373, 0.9010654239766083, 0.8759670008354219, 0.8964080339738234, 0.8810477582846004, 0.9143906641604009, 0.8630408486494013, 0.8938391986911725, 0.911911984823169, 0.9110963171818435, 0.87864574631022, 0.8896952450570872, 0.9033258493455861, 0.9223983570036202, 0.9223809523809524]}, {\"categories\": [\"0\", \"1\", \"2\", \"3\", \"4\", \"5\", \"6\", \"7\", \"8\", \"9\", \"10\", \"11\", \"12\", \"13\", \"14\", \"15\", \"16\", \"17\", \"18\", \"19\", \"20\", \"21\", \"22\", \"23\", \"24\", \"25\"], \"mode\": \"lines\", \"name\": \"AUC_weighted_max\", \"stepped\": true, \"type\": \"scatter\", \"data\": [0.8930917571707044, 0.8951597744360903, 0.9131076388888888, 0.9131076388888888, 0.9131076388888888, 0.9131076388888888, 0.9214213485101643, 0.9214213485101643, 0.9214213485101643, 0.9214213485101643, 0.9214213485101643, 0.9214213485101643, 0.9214213485101643, 0.9214213485101643, 0.9214213485101643, 0.9214213485101643, 0.9214213485101643, 0.9214213485101643, 0.9214213485101643, 0.9214213485101643, 0.9214213485101643, 0.9214213485101643, 0.9214213485101643, 0.9214213485101643, 0.9223983570036202, 0.9223983570036202]}], \"norm_macro_recall\": [{\"categories\": [\"0\", \"1\", \"2\", \"3\", \"4\", \"5\", \"6\", \"7\", \"8\", \"9\", \"10\", \"11\", \"12\", \"13\", \"14\", \"15\", \"16\", \"17\", \"18\", \"19\", \"20\", \"21\", \"22\", \"23\", \"24\", \"25\"], \"mode\": \"markers\", \"name\": \"norm_macro_recall\", \"stepped\": false, \"type\": \"scatter\", \"data\": [0.6159461152882205, 0.5958072263993317, 0.6718306182121973, 0.6269266917293235, 0.6680659983291563, 0.3000678780284043, 0.6626096491228071, 0.6115810359231413, 0.5626044277360066, 0.5541040100250626, 0.6092053049289892, 0.6151159147869674, 0.5850877192982455, 0.5556547619047618, 0.5841635338345864, 0.4835735171261487, 0.6371449456975773, 0.33538533834586465, 0.5913377192982455, 0.6105524227234753, 0.6533782372598161, 0.5217627401837928, 0.5342627401837927, 0.3773182957393483, 0.7050647451963242, 0.6866123642439431]}, {\"categories\": [\"0\", \"1\", \"2\", \"3\", \"4\", \"5\", \"6\", \"7\", \"8\", \"9\", \"10\", \"11\", \"12\", \"13\", \"14\", \"15\", \"16\", \"17\", \"18\", \"19\", \"20\", \"21\", \"22\", \"23\", \"24\", \"25\"], \"mode\": \"lines\", \"name\": \"norm_macro_recall_max\", \"stepped\": true, \"type\": \"scatter\", \"data\": [0.6159461152882205, 0.6159461152882205, 0.6718306182121973, 0.6718306182121973, 0.6718306182121973, 0.6718306182121973, 0.6718306182121973, 0.6718306182121973, 0.6718306182121973, 0.6718306182121973, 0.6718306182121973, 0.6718306182121973, 0.6718306182121973, 0.6718306182121973, 0.6718306182121973, 0.6718306182121973, 0.6718306182121973, 0.6718306182121973, 0.6718306182121973, 0.6718306182121973, 0.6718306182121973, 0.6718306182121973, 0.6718306182121973, 0.6718306182121973, 0.7050647451963242, 0.7050647451963242]}], \"precision_score_micro\": [{\"categories\": [\"0\", \"1\", \"2\", \"3\", \"4\", \"5\", \"6\", \"7\", \"8\", \"9\", \"10\", \"11\", \"12\", \"13\", \"14\", \"15\", \"16\", \"17\", \"18\", \"19\", \"20\", \"21\", \"22\", \"23\", \"24\", \"25\"], \"mode\": \"markers\", \"name\": \"precision_score_micro\", \"stepped\": false, \"type\": \"scatter\", \"data\": [0.8324858757062147, 0.8241525423728814, 0.8576977401129944, 0.8449152542372882, 0.8574858757062147, 0.7324858757062147, 0.8575564971751413, 0.8451977401129944, 0.8242937853107345, 0.8242937853107345, 0.8364406779661018, 0.8534604519774012, 0.8492231638418078, 0.824505649717514, 0.8492231638418078, 0.8115112994350282, 0.8492231638418078, 0.7739406779661018, 0.8533898305084746, 0.8492937853107344, 0.8617937853107345, 0.7868644067796611, 0.8241525423728814, 0.7906779661016949, 0.8869350282485876, 0.8786016949152542]}, {\"categories\": [\"0\", \"1\", \"2\", \"3\", \"4\", \"5\", \"6\", \"7\", \"8\", \"9\", \"10\", \"11\", \"12\", \"13\", \"14\", \"15\", \"16\", \"17\", \"18\", \"19\", \"20\", \"21\", \"22\", \"23\", \"24\", \"25\"], \"mode\": \"lines\", \"name\": \"precision_score_micro_max\", \"stepped\": true, \"type\": \"scatter\", \"data\": [0.8324858757062147, 0.8324858757062147, 0.8576977401129944, 0.8576977401129944, 0.8576977401129944, 0.8576977401129944, 0.8576977401129944, 0.8576977401129944, 0.8576977401129944, 0.8576977401129944, 0.8576977401129944, 0.8576977401129944, 0.8576977401129944, 0.8576977401129944, 0.8576977401129944, 0.8576977401129944, 0.8576977401129944, 0.8576977401129944, 0.8576977401129944, 0.8576977401129944, 0.8617937853107345, 0.8617937853107345, 0.8617937853107345, 0.8617937853107345, 0.8869350282485876, 0.8869350282485876]}], \"weighted_accuracy\": [{\"categories\": [\"0\", \"1\", \"2\", \"3\", \"4\", \"5\", \"6\", \"7\", \"8\", \"9\", \"10\", \"11\", \"12\", \"13\", \"14\", \"15\", \"16\", \"17\", \"18\", \"19\", \"20\", \"21\", \"22\", \"23\", \"24\", \"25\"], \"mode\": \"markers\", \"name\": \"weighted_accuracy\", \"stepped\": false, \"type\": \"scatter\", \"data\": [0.8519274977895667, 0.8447723253757736, 0.8747789566755083, 0.8695026525198938, 0.8753492484526967, 0.7976282051282051, 0.8777895667550839, 0.8757427055702918, 0.8579708222811672, 0.8620070733863837, 0.861549513704686, 0.8896507515473031, 0.8941489832007073, 0.8609637488947834, 0.894394341290893, 0.865683023872679, 0.8728890362511051, 0.857577365163572, 0.8991489832007074, 0.8842771883289124, 0.8895225464190982, 0.807550839964633, 0.869367816091954, 0.8706366047745359, 0.913339964633068, 0.9058112290008842]}, {\"categories\": [\"0\", \"1\", \"2\", \"3\", \"4\", \"5\", \"6\", \"7\", \"8\", \"9\", \"10\", \"11\", \"12\", \"13\", \"14\", \"15\", \"16\", \"17\", \"18\", \"19\", \"20\", \"21\", \"22\", \"23\", \"24\", \"25\"], \"mode\": \"lines\", \"name\": \"weighted_accuracy_max\", \"stepped\": true, \"type\": \"scatter\", \"data\": [0.8519274977895667, 0.8519274977895667, 0.8747789566755083, 0.8747789566755083, 0.8753492484526967, 0.8753492484526967, 0.8777895667550839, 0.8777895667550839, 0.8777895667550839, 0.8777895667550839, 0.8777895667550839, 0.8896507515473031, 0.8941489832007073, 0.8941489832007073, 0.894394341290893, 0.894394341290893, 0.894394341290893, 0.894394341290893, 0.8991489832007074, 0.8991489832007074, 0.8991489832007074, 0.8991489832007074, 0.8991489832007074, 0.8991489832007074, 0.913339964633068, 0.913339964633068]}], \"matthews_correlation\": [{\"categories\": [\"0\", \"1\", \"2\", \"3\", \"4\", \"5\", \"6\", \"7\", \"8\", \"9\", \"10\", \"11\", \"12\", \"13\", \"14\", \"15\", \"16\", \"17\", \"18\", \"19\", \"20\", \"21\", \"22\", \"23\", \"24\", \"25\"], \"mode\": \"markers\", \"name\": \"matthews_correlation\", \"stepped\": false, \"type\": \"scatter\", \"data\": [0.6240003408813366, 0.6010763522861065, 0.6766623814584786, 0.6423564331940353, 0.6732499495168425, 0.35161674336866916, 0.6735324522367717, 0.638356212717984, 0.5874019628162191, 0.5945022906760224, 0.6253704871143753, 0.6614012620193848, 0.6533100175860554, 0.5907965626682333, 0.6514858659016136, 0.561764113794187, 0.6533042467079271, 0.4691524899056295, 0.6636746243819255, 0.6518608282869033, 0.6809239503906768, 0.5260284667548157, 0.5886266852176736, 0.5201866590804647, 0.7384355460607587, 0.7174138228720935]}, {\"categories\": [\"0\", \"1\", \"2\", \"3\", \"4\", \"5\", \"6\", \"7\", \"8\", \"9\", \"10\", \"11\", \"12\", \"13\", \"14\", \"15\", \"16\", \"17\", \"18\", \"19\", \"20\", \"21\", \"22\", \"23\", \"24\", \"25\"], \"mode\": \"lines\", \"name\": \"matthews_correlation_max\", \"stepped\": true, \"type\": \"scatter\", \"data\": [0.6240003408813366, 0.6240003408813366, 0.6766623814584786, 0.6766623814584786, 0.6766623814584786, 0.6766623814584786, 0.6766623814584786, 0.6766623814584786, 0.6766623814584786, 0.6766623814584786, 0.6766623814584786, 0.6766623814584786, 0.6766623814584786, 0.6766623814584786, 0.6766623814584786, 0.6766623814584786, 0.6766623814584786, 0.6766623814584786, 0.6766623814584786, 0.6766623814584786, 0.6809239503906768, 0.6809239503906768, 0.6809239503906768, 0.6809239503906768, 0.7384355460607587, 0.7384355460607587]}], \"AUC_macro\": [{\"categories\": [\"0\", \"1\", \"2\", \"3\", \"4\", \"5\", \"6\", \"7\", \"8\", \"9\", \"10\", \"11\", \"12\", \"13\", \"14\", \"15\", \"16\", \"17\", \"18\", \"19\", \"20\", \"21\", \"22\", \"23\", \"24\", \"25\"], \"mode\": \"markers\", \"name\": \"AUC_macro\", \"stepped\": false, \"type\": \"scatter\", \"data\": [0.8930917571707045, 0.8951597744360903, 0.9131076388888889, 0.9043392335004177, 0.9069152917014758, 0.7379438613895851, 0.9214213485101643, 0.9108422967140072, 0.9019420077972709, 0.8825720551378446, 0.9035790866054023, 0.9211047584238373, 0.901065423976608, 0.8759670008354219, 0.8964080339738234, 0.8810477582846004, 0.9143906641604009, 0.8630408486494013, 0.8938391986911725, 0.9119119848231689, 0.9110963171818435, 0.87864574631022, 0.8896952450570872, 0.9033258493455861, 0.92239835700362, 0.9223809523809523]}, {\"categories\": [\"0\", \"1\", \"2\", \"3\", \"4\", \"5\", \"6\", \"7\", \"8\", \"9\", \"10\", \"11\", \"12\", \"13\", \"14\", \"15\", \"16\", \"17\", \"18\", \"19\", \"20\", \"21\", \"22\", \"23\", \"24\", \"25\"], \"mode\": \"lines\", \"name\": \"AUC_macro_max\", \"stepped\": true, \"type\": \"scatter\", \"data\": [0.8930917571707045, 0.8951597744360903, 0.9131076388888889, 0.9131076388888889, 0.9131076388888889, 0.9131076388888889, 0.9214213485101643, 0.9214213485101643, 0.9214213485101643, 0.9214213485101643, 0.9214213485101643, 0.9214213485101643, 0.9214213485101643, 0.9214213485101643, 0.9214213485101643, 0.9214213485101643, 0.9214213485101643, 0.9214213485101643, 0.9214213485101643, 0.9214213485101643, 0.9214213485101643, 0.9214213485101643, 0.9214213485101643, 0.9214213485101643, 0.92239835700362, 0.92239835700362]}], \"recall_score_macro\": [{\"categories\": [\"0\", \"1\", \"2\", \"3\", \"4\", \"5\", \"6\", \"7\", \"8\", \"9\", \"10\", \"11\", \"12\", \"13\", \"14\", \"15\", \"16\", \"17\", \"18\", \"19\", \"20\", \"21\", \"22\", \"23\", \"24\", \"25\"], \"mode\": \"markers\", \"name\": \"recall_score_macro\", \"stepped\": false, \"type\": \"scatter\", \"data\": [0.8079730576441102, 0.7979036131996659, 0.8359153091060987, 0.8134633458646617, 0.8340329991645781, 0.6500339390142021, 0.8313048245614035, 0.8057905179615705, 0.7813022138680034, 0.7770520050125314, 0.8046026524644945, 0.8075579573934837, 0.7925438596491228, 0.7778273809523808, 0.7920817669172933, 0.7417867585630744, 0.8185724728487886, 0.6676926691729322, 0.7956688596491227, 0.8052762113617375, 0.826689118629908, 0.7608813700918964, 0.7671313700918965, 0.6886591478696741, 0.8525323725981622, 0.8433061821219716]}, {\"categories\": [\"0\", \"1\", \"2\", \"3\", \"4\", \"5\", \"6\", \"7\", \"8\", \"9\", \"10\", \"11\", \"12\", \"13\", \"14\", \"15\", \"16\", \"17\", \"18\", \"19\", \"20\", \"21\", \"22\", \"23\", \"24\", \"25\"], \"mode\": \"lines\", \"name\": \"recall_score_macro_max\", \"stepped\": true, \"type\": \"scatter\", \"data\": [0.8079730576441102, 0.8079730576441102, 0.8359153091060987, 0.8359153091060987, 0.8359153091060987, 0.8359153091060987, 0.8359153091060987, 0.8359153091060987, 0.8359153091060987, 0.8359153091060987, 0.8359153091060987, 0.8359153091060987, 0.8359153091060987, 0.8359153091060987, 0.8359153091060987, 0.8359153091060987, 0.8359153091060987, 0.8359153091060987, 0.8359153091060987, 0.8359153091060987, 0.8359153091060987, 0.8359153091060987, 0.8359153091060987, 0.8359153091060987, 0.8525323725981622, 0.8525323725981622]}], \"f1_score_weighted\": [{\"categories\": [\"0\", \"1\", \"2\", \"3\", \"4\", \"5\", \"6\", \"7\", \"8\", \"9\", \"10\", \"11\", \"12\", \"13\", \"14\", \"15\", \"16\", \"17\", \"18\", \"19\", \"20\", \"21\", \"22\", \"23\", \"24\", \"25\"], \"mode\": \"markers\", \"name\": \"f1_score_weighted\", \"stepped\": false, \"type\": \"scatter\", \"data\": [0.8318159165229875, 0.823315033705581, 0.8570310212211462, 0.8423183766871093, 0.8561820319694208, 0.7129207061021441, 0.8563752902916361, 0.8413827903801401, 0.8196711604352598, 0.8180860192662154, 0.8344980217888875, 0.8483399969791485, 0.84065070619447, 0.8191029117537048, 0.8407520422440891, 0.7987314130220489, 0.8474161938611932, 0.739406825907634, 0.8445201609531177, 0.8444648589222747, 0.858973710719415, 0.7870721454824643, 0.815405623736725, 0.760576021466152, 0.8837461572203347, 0.8755119748050748]}, {\"categories\": [\"0\", \"1\", \"2\", \"3\", \"4\", \"5\", \"6\", \"7\", \"8\", \"9\", \"10\", \"11\", \"12\", \"13\", \"14\", \"15\", \"16\", \"17\", \"18\", \"19\", \"20\", \"21\", \"22\", \"23\", \"24\", \"25\"], \"mode\": \"lines\", \"name\": \"f1_score_weighted_max\", \"stepped\": true, \"type\": \"scatter\", \"data\": [0.8318159165229875, 0.8318159165229875, 0.8570310212211462, 0.8570310212211462, 0.8570310212211462, 0.8570310212211462, 0.8570310212211462, 0.8570310212211462, 0.8570310212211462, 0.8570310212211462, 0.8570310212211462, 0.8570310212211462, 0.8570310212211462, 0.8570310212211462, 0.8570310212211462, 0.8570310212211462, 0.8570310212211462, 0.8570310212211462, 0.8570310212211462, 0.8570310212211462, 0.858973710719415, 0.858973710719415, 0.858973710719415, 0.858973710719415, 0.8837461572203347, 0.8837461572203347]}], \"log_loss\": [{\"categories\": [\"0\", \"1\", \"2\", \"3\", \"4\", \"5\", \"6\", \"7\", \"8\", \"9\", \"10\", \"11\", \"12\", \"13\", \"14\", \"15\", \"16\", \"17\", \"18\", \"19\", \"20\", \"21\", \"22\", \"23\", \"24\", \"25\"], \"mode\": \"markers\", \"name\": \"log_loss\", \"stepped\": false, \"type\": \"scatter\", \"data\": [0.4359888940274849, 0.4088528270194823, 0.3636590901015124, 0.3842625281076922, 0.36596914488098037, 0.5529985445889402, 0.3405126783456012, 0.39087999619314145, 0.38085456334381995, 0.39372323433839507, 0.35989380948032773, 0.4081180712555237, 0.39217355388628194, 0.4877456168199015, 0.4126018084570604, 0.49257294594166806, 0.35875299366366536, 0.4988510088527302, 0.4066244052762106, 0.4179512965619626, 0.36086253384304207, 0.42106604268233955, 0.4018691585761143, 0.47722362731880763, 0.3505280354352506, 0.3506361725110083]}, {\"categories\": [\"0\", \"1\", \"2\", \"3\", \"4\", \"5\", \"6\", \"7\", \"8\", \"9\", \"10\", \"11\", \"12\", \"13\", \"14\", \"15\", \"16\", \"17\", \"18\", \"19\", \"20\", \"21\", \"22\", \"23\", \"24\", \"25\"], \"mode\": \"lines\", \"name\": \"log_loss_min\", \"stepped\": true, \"type\": \"scatter\", \"data\": [0.4359888940274849, 0.4088528270194823, 0.3636590901015124, 0.3636590901015124, 0.3636590901015124, 0.3636590901015124, 0.3405126783456012, 0.3405126783456012, 0.3405126783456012, 0.3405126783456012, 0.3405126783456012, 0.3405126783456012, 0.3405126783456012, 0.3405126783456012, 0.3405126783456012, 0.3405126783456012, 0.3405126783456012, 0.3405126783456012, 0.3405126783456012, 0.3405126783456012, 0.3405126783456012, 0.3405126783456012, 0.3405126783456012, 0.3405126783456012, 0.3405126783456012, 0.3405126783456012]}], \"AUC_micro\": [{\"categories\": [\"0\", \"1\", \"2\", \"3\", \"4\", \"5\", \"6\", \"7\", \"8\", \"9\", \"10\", \"11\", \"12\", \"13\", \"14\", \"15\", \"16\", \"17\", \"18\", \"19\", \"20\", \"21\", \"22\", \"23\", \"24\", \"25\"], \"mode\": \"markers\", \"name\": \"AUC_micro\", \"stepped\": false, \"type\": \"scatter\", \"data\": [0.9062144498707267, 0.9073837339206485, 0.9261521274218775, 0.920927774585847, 0.9232443582623128, 0.7988373691308372, 0.9313022878164001, 0.920295054103227, 0.9143607959079447, 0.9011545014204091, 0.9172027115452137, 0.9239465231893772, 0.9145632042197325, 0.8886206669539405, 0.9066429865300519, 0.8981108358070797, 0.9245774482109228, 0.8610328489578345, 0.9066685020268762, 0.9203817150244182, 0.9257318897826294, 0.8909669156372689, 0.9056784648408822, 0.886843619330333, 0.9328057271218361, 0.9325279493440582]}, {\"categories\": [\"0\", \"1\", \"2\", \"3\", \"4\", \"5\", \"6\", \"7\", \"8\", \"9\", \"10\", \"11\", \"12\", \"13\", \"14\", \"15\", \"16\", \"17\", \"18\", \"19\", \"20\", \"21\", \"22\", \"23\", \"24\", \"25\"], \"mode\": \"lines\", \"name\": \"AUC_micro_max\", \"stepped\": true, \"type\": \"scatter\", \"data\": [0.9062144498707267, 0.9073837339206485, 0.9261521274218775, 0.9261521274218775, 0.9261521274218775, 0.9261521274218775, 0.9313022878164001, 0.9313022878164001, 0.9313022878164001, 0.9313022878164001, 0.9313022878164001, 0.9313022878164001, 0.9313022878164001, 0.9313022878164001, 0.9313022878164001, 0.9313022878164001, 0.9313022878164001, 0.9313022878164001, 0.9313022878164001, 0.9313022878164001, 0.9313022878164001, 0.9313022878164001, 0.9313022878164001, 0.9313022878164001, 0.9328057271218361, 0.9328057271218361]}], \"precision_score_macro\": [{\"categories\": [\"0\", \"1\", \"2\", \"3\", \"4\", \"5\", \"6\", \"7\", \"8\", \"9\", \"10\", \"11\", \"12\", \"13\", \"14\", \"15\", \"16\", \"17\", \"18\", \"19\", \"20\", \"21\", \"22\", \"23\", \"24\", \"25\"], \"mode\": \"markers\", \"name\": \"precision_score_macro\", \"stepped\": false, \"type\": \"scatter\", \"data\": [0.8165775488256024, 0.8034730390655096, 0.8409200093056988, 0.8293185473063521, 0.8395042021165255, 0.7063677125179785, 0.842410315492793, 0.8333959820372864, 0.806868000876392, 0.8201449800264127, 0.8210287081439612, 0.8558096492879101, 0.8651925350063648, 0.8148964863638777, 0.8634030862754267, 0.8290189092074601, 0.8351781872558206, 0.8281810910140545, 0.8728184839366615, 0.8482034132363305, 0.854850028894574, 0.7658759796405146, 0.82457530392313, 0.8605526418026418, 0.887601530503087, 0.8752030658000703]}, {\"categories\": [\"0\", \"1\", \"2\", \"3\", \"4\", \"5\", \"6\", \"7\", \"8\", \"9\", \"10\", \"11\", \"12\", \"13\", \"14\", \"15\", \"16\", \"17\", \"18\", \"19\", \"20\", \"21\", \"22\", \"23\", \"24\", \"25\"], \"mode\": \"lines\", \"name\": \"precision_score_macro_max\", \"stepped\": true, \"type\": \"scatter\", \"data\": [0.8165775488256024, 0.8165775488256024, 0.8409200093056988, 0.8409200093056988, 0.8409200093056988, 0.8409200093056988, 0.842410315492793, 0.842410315492793, 0.842410315492793, 0.842410315492793, 0.842410315492793, 0.8558096492879101, 0.8651925350063648, 0.8651925350063648, 0.8651925350063648, 0.8651925350063648, 0.8651925350063648, 0.8651925350063648, 0.8728184839366615, 0.8728184839366615, 0.8728184839366615, 0.8728184839366615, 0.8728184839366615, 0.8728184839366615, 0.887601530503087, 0.887601530503087]}], \"recall_score_micro\": [{\"categories\": [\"0\", \"1\", \"2\", \"3\", \"4\", \"5\", \"6\", \"7\", \"8\", \"9\", \"10\", \"11\", \"12\", \"13\", \"14\", \"15\", \"16\", \"17\", \"18\", \"19\", \"20\", \"21\", \"22\", \"23\", \"24\", \"25\"], \"mode\": \"markers\", \"name\": \"recall_score_micro\", \"stepped\": false, \"type\": \"scatter\", \"data\": [0.8324858757062147, 0.8241525423728814, 0.8576977401129944, 0.8449152542372882, 0.8574858757062147, 0.7324858757062147, 0.8575564971751413, 0.8451977401129944, 0.8242937853107345, 0.8242937853107345, 0.8364406779661018, 0.8534604519774012, 0.8492231638418078, 0.824505649717514, 0.8492231638418078, 0.8115112994350282, 0.8492231638418078, 0.7739406779661018, 0.8533898305084746, 0.8492937853107344, 0.8617937853107345, 0.7868644067796611, 0.8241525423728814, 0.7906779661016949, 0.8869350282485876, 0.8786016949152542]}, {\"categories\": [\"0\", \"1\", \"2\", \"3\", \"4\", \"5\", \"6\", \"7\", \"8\", \"9\", \"10\", \"11\", \"12\", \"13\", \"14\", \"15\", \"16\", \"17\", \"18\", \"19\", \"20\", \"21\", \"22\", \"23\", \"24\", \"25\"], \"mode\": \"lines\", \"name\": \"recall_score_micro_max\", \"stepped\": true, \"type\": \"scatter\", \"data\": [0.8324858757062147, 0.8324858757062147, 0.8576977401129944, 0.8576977401129944, 0.8576977401129944, 0.8576977401129944, 0.8576977401129944, 0.8576977401129944, 0.8576977401129944, 0.8576977401129944, 0.8576977401129944, 0.8576977401129944, 0.8576977401129944, 0.8576977401129944, 0.8576977401129944, 0.8576977401129944, 0.8576977401129944, 0.8576977401129944, 0.8576977401129944, 0.8576977401129944, 0.8617937853107345, 0.8617937853107345, 0.8617937853107345, 0.8617937853107345, 0.8869350282485876, 0.8869350282485876]}]}, \"metricName\": null, \"primaryMetricName\": \"accuracy\", \"showLegend\": false}, \"run_metrics\": [{\"name\": \"experiment_status\", \"run_id\": \"AutoML_8460f68a-b31a-4570-b383-18f00fbb3873\", \"categories\": [0, 1, 2, 3, 4, 5, 6, 7, 8, 9, 10, 11, 12, 13], \"series\": [{\"data\": [\"DatasetEvaluation\", \"FeaturesGeneration\", \"DatasetFeaturization\", \"DatasetFeaturizationCompleted\", \"DatasetCrossValidationSplit\", \"ModelSelection\", \"BestRunExplainModel\", \"ModelExplanationDataSetSetup\", \"PickSurrogateModel\", \"EngineeredFeatureExplanations\", \"EngineeredFeatureExplanations\", \"RawFeaturesExplanations\", \"RawFeaturesExplanations\", \"BestRunExplainModel\"]}]}, {\"name\": \"experiment_status_description\", \"run_id\": \"AutoML_8460f68a-b31a-4570-b383-18f00fbb3873\", \"categories\": [0, 1, 2, 3, 4, 5, 6, 7, 8, 9, 10, 11, 12, 13], \"series\": [{\"data\": [\"Gathering dataset statistics.\", \"Generating features for the dataset.\", \"Beginning to fit featurizers and featurize the dataset.\", \"Completed fit featurizers and featurizing the dataset.\", \"Generating individually featurized CV splits.\", \"Beginning model selection.\", \"Best run model explanations started\", \"Model explanations data setup completed\", \"Choosing LightGBM as the surrogate model for explanations\", \"Computation of engineered features started\", \"Computation of engineered features completed\", \"Computation of raw features started\", \"Computation of raw features completed\", \"Best run model explanations completed\"]}]}, {\"name\": \"log_loss\", \"run_id\": \"AutoML_8460f68a-b31a-4570-b383-18f00fbb3873\", \"categories\": [0], \"series\": [{\"data\": [0.3505280354352506]}]}, {\"name\": \"recall_score_micro\", \"run_id\": \"AutoML_8460f68a-b31a-4570-b383-18f00fbb3873\", \"categories\": [0], \"series\": [{\"data\": [0.8869350282485876]}]}, {\"name\": \"average_precision_score_macro\", \"run_id\": \"AutoML_8460f68a-b31a-4570-b383-18f00fbb3873\", \"categories\": [0], \"series\": [{\"data\": [0.9148365559723477]}]}, {\"name\": \"recall_score_macro\", \"run_id\": \"AutoML_8460f68a-b31a-4570-b383-18f00fbb3873\", \"categories\": [0], \"series\": [{\"data\": [0.8525323725981622]}]}, {\"name\": \"precision_score_micro\", \"run_id\": \"AutoML_8460f68a-b31a-4570-b383-18f00fbb3873\", \"categories\": [0], \"series\": [{\"data\": [0.8869350282485876]}]}, {\"name\": \"f1_score_macro\", \"run_id\": \"AutoML_8460f68a-b31a-4570-b383-18f00fbb3873\", \"categories\": [0], \"series\": [{\"data\": [0.8649791170651248]}]}, {\"name\": \"average_precision_score_weighted\", \"run_id\": \"AutoML_8460f68a-b31a-4570-b383-18f00fbb3873\", \"categories\": [0], \"series\": [{\"data\": [0.930592954643481]}]}, {\"name\": \"precision_score_weighted\", \"run_id\": \"AutoML_8460f68a-b31a-4570-b383-18f00fbb3873\", \"categories\": [0], \"series\": [{\"data\": [0.8878058876823796]}]}, {\"name\": \"matthews_correlation\", \"run_id\": \"AutoML_8460f68a-b31a-4570-b383-18f00fbb3873\", \"categories\": [0], \"series\": [{\"data\": [0.7384355460607587]}]}, {\"name\": \"average_precision_score_micro\", \"run_id\": \"AutoML_8460f68a-b31a-4570-b383-18f00fbb3873\", \"categories\": [0], \"series\": [{\"data\": [0.9347014518807041]}]}, {\"name\": \"weighted_accuracy\", \"run_id\": \"AutoML_8460f68a-b31a-4570-b383-18f00fbb3873\", \"categories\": [0], \"series\": [{\"data\": [0.913339964633068]}]}, {\"name\": \"AUC_micro\", \"run_id\": \"AutoML_8460f68a-b31a-4570-b383-18f00fbb3873\", \"categories\": [0], \"series\": [{\"data\": [0.9328057271218361]}]}, {\"name\": \"f1_score_weighted\", \"run_id\": \"AutoML_8460f68a-b31a-4570-b383-18f00fbb3873\", \"categories\": [0], \"series\": [{\"data\": [0.8837461572203347]}]}, {\"name\": \"precision_score_macro\", \"run_id\": \"AutoML_8460f68a-b31a-4570-b383-18f00fbb3873\", \"categories\": [0], \"series\": [{\"data\": [0.887601530503087]}]}, {\"name\": \"accuracy\", \"run_id\": \"AutoML_8460f68a-b31a-4570-b383-18f00fbb3873\", \"categories\": [0], \"series\": [{\"data\": [0.8869350282485876]}]}, {\"name\": \"norm_macro_recall\", \"run_id\": \"AutoML_8460f68a-b31a-4570-b383-18f00fbb3873\", \"categories\": [0], \"series\": [{\"data\": [0.7050647451963242]}]}, {\"name\": \"recall_score_weighted\", \"run_id\": \"AutoML_8460f68a-b31a-4570-b383-18f00fbb3873\", \"categories\": [0], \"series\": [{\"data\": [0.8869350282485876]}]}, {\"name\": \"balanced_accuracy\", \"run_id\": \"AutoML_8460f68a-b31a-4570-b383-18f00fbb3873\", \"categories\": [0], \"series\": [{\"data\": [0.8525323725981622]}]}, {\"name\": \"AUC_weighted\", \"run_id\": \"AutoML_8460f68a-b31a-4570-b383-18f00fbb3873\", \"categories\": [0], \"series\": [{\"data\": [0.9223983570036202]}]}, {\"name\": \"f1_score_micro\", \"run_id\": \"AutoML_8460f68a-b31a-4570-b383-18f00fbb3873\", \"categories\": [0], \"series\": [{\"data\": [0.8869350282485876]}]}, {\"name\": \"AUC_macro\", \"run_id\": \"AutoML_8460f68a-b31a-4570-b383-18f00fbb3873\", \"categories\": [0], \"series\": [{\"data\": [0.92239835700362]}]}], \"run_logs\": \"\\nRun is completed.\", \"graph\": {}, \"widget_settings\": {\"childWidgetDisplay\": \"popup\", \"send_telemetry\": false, \"log_level\": \"INFO\", \"sdk_version\": \"1.20.0\"}, \"loading\": false}"
     },
     "metadata": {},
     "output_type": "display_data"
    }
   ],
   "source": [
    "from azureml.widgets import RunDetails\n",
    "RunDetails(remote_run).show()"
   ]
  },
  {
   "cell_type": "code",
   "execution_count": 13,
   "metadata": {},
   "outputs": [
    {
     "data": {
      "text/plain": [
       "{'runId': 'AutoML_8460f68a-b31a-4570-b383-18f00fbb3873',\n",
       " 'target': 'cpu-compute',\n",
       " 'status': 'Completed',\n",
       " 'startTimeUtc': '2021-02-09T16:40:56.037052Z',\n",
       " 'endTimeUtc': '2021-02-09T17:23:14.503627Z',\n",
       " 'properties': {'num_iterations': '1000',\n",
       "  'training_type': 'TrainFull',\n",
       "  'acquisition_function': 'EI',\n",
       "  'primary_metric': 'accuracy',\n",
       "  'train_split': '0',\n",
       "  'acquisition_parameter': '0',\n",
       "  'num_cross_validation': '4',\n",
       "  'target': 'cpu-compute',\n",
       "  'AMLSettingsJsonString': '{\"path\":null,\"name\":\"heart-failure-automl\",\"subscription_id\":\"cdbe0b43-92a0-4715-838a-f2648cc7ad21\",\"resource_group\":\"aml-quickstarts-138271\",\"workspace_name\":\"quick-starts-ws-138271\",\"region\":\"southcentralus\",\"compute_target\":\"cpu-compute\",\"spark_service\":null,\"azure_service\":\"remote\",\"many_models\":false,\"pipeline_fetch_max_batch_size\":1,\"iterations\":1000,\"primary_metric\":\"accuracy\",\"task_type\":\"classification\",\"data_script\":null,\"validation_size\":0.0,\"n_cross_validations\":4,\"y_min\":null,\"y_max\":null,\"num_classes\":null,\"featurization\":\"auto\",\"_ignore_package_version_incompatibilities\":false,\"is_timeseries\":false,\"max_cores_per_iteration\":1,\"max_concurrent_iterations\":1,\"iteration_timeout_minutes\":null,\"mem_in_mb\":null,\"enforce_time_on_windows\":false,\"experiment_timeout_minutes\":30,\"experiment_exit_score\":null,\"whitelist_models\":null,\"blacklist_algos\":[\"TensorFlowLinearClassifier\",\"TensorFlowDNN\"],\"supported_models\":[\"LinearSVM\",\"MultinomialNaiveBayes\",\"DecisionTree\",\"GradientBoosting\",\"ExtremeRandomTrees\",\"LightGBM\",\"XGBoostClassifier\",\"TensorFlowLinearClassifier\",\"RandomForest\",\"TensorFlowDNN\",\"SVM\",\"LogisticRegression\",\"AveragedPerceptronClassifier\",\"KNN\",\"BernoulliNaiveBayes\",\"SGD\"],\"auto_blacklist\":true,\"blacklist_samples_reached\":false,\"exclude_nan_labels\":true,\"verbosity\":20,\"_debug_log\":\"azureml_automl.log\",\"show_warnings\":false,\"model_explainability\":true,\"service_url\":null,\"sdk_url\":null,\"sdk_packages\":null,\"enable_onnx_compatible_models\":false,\"enable_split_onnx_featurizer_estimator_models\":false,\"vm_type\":\"STANDARD_D2_V2\",\"telemetry_verbosity\":20,\"send_telemetry\":true,\"enable_dnn\":false,\"scenario\":\"SDK-1.13.0\",\"environment_label\":null,\"force_text_dnn\":false,\"enable_feature_sweeping\":true,\"enable_early_stopping\":true,\"early_stopping_n_iters\":10,\"metrics\":null,\"enable_ensembling\":true,\"enable_stack_ensembling\":true,\"ensemble_iterations\":15,\"enable_tf\":false,\"enable_subsampling\":null,\"subsample_seed\":null,\"enable_nimbusml\":false,\"enable_streaming\":false,\"force_streaming\":false,\"track_child_runs\":true,\"allowed_private_models\":[],\"label_column_name\":\"DEATH_EVENT\",\"weight_column_name\":null,\"cv_split_column_names\":null,\"enable_local_managed\":false,\"_local_managed_run_id\":null,\"cost_mode\":1,\"lag_length\":0,\"metric_operation\":\"maximize\",\"preprocess\":true}',\n",
       "  'DataPrepJsonString': '{\\\\\"training_data\\\\\": \\\\\"{\\\\\\\\\\\\\"blocks\\\\\\\\\\\\\": [{\\\\\\\\\\\\\"id\\\\\\\\\\\\\": \\\\\\\\\\\\\"ab475806-eb9e-4e28-b3f9-0d0ce12d3aeb\\\\\\\\\\\\\", \\\\\\\\\\\\\"type\\\\\\\\\\\\\": \\\\\\\\\\\\\"Microsoft.DPrep.GetDatastoreFilesBlock\\\\\\\\\\\\\", \\\\\\\\\\\\\"arguments\\\\\\\\\\\\\": {\\\\\\\\\\\\\"datastores\\\\\\\\\\\\\": [{\\\\\\\\\\\\\"datastoreName\\\\\\\\\\\\\": \\\\\\\\\\\\\"workspaceblobstore\\\\\\\\\\\\\", \\\\\\\\\\\\\"path\\\\\\\\\\\\\": \\\\\\\\\\\\\"heart-failure/train_data.csv\\\\\\\\\\\\\", \\\\\\\\\\\\\"resourceGroup\\\\\\\\\\\\\": \\\\\\\\\\\\\"aml-quickstarts-138271\\\\\\\\\\\\\", \\\\\\\\\\\\\"subscription\\\\\\\\\\\\\": \\\\\\\\\\\\\"cdbe0b43-92a0-4715-838a-f2648cc7ad21\\\\\\\\\\\\\", \\\\\\\\\\\\\"workspaceName\\\\\\\\\\\\\": \\\\\\\\\\\\\"quick-starts-ws-138271\\\\\\\\\\\\\"}]}, \\\\\\\\\\\\\"localData\\\\\\\\\\\\\": {}, \\\\\\\\\\\\\"isEnabled\\\\\\\\\\\\\": true, \\\\\\\\\\\\\"name\\\\\\\\\\\\\": null, \\\\\\\\\\\\\"annotation\\\\\\\\\\\\\": null}, {\\\\\\\\\\\\\"id\\\\\\\\\\\\\": \\\\\\\\\\\\\"0ceafcc9-ff5b-4e04-86c8-9159613afdae\\\\\\\\\\\\\", \\\\\\\\\\\\\"type\\\\\\\\\\\\\": \\\\\\\\\\\\\"Microsoft.DPrep.ParseDelimitedBlock\\\\\\\\\\\\\", \\\\\\\\\\\\\"arguments\\\\\\\\\\\\\": {\\\\\\\\\\\\\"columnHeadersMode\\\\\\\\\\\\\": 3, \\\\\\\\\\\\\"fileEncoding\\\\\\\\\\\\\": 0, \\\\\\\\\\\\\"handleQuotedLineBreaks\\\\\\\\\\\\\": false, \\\\\\\\\\\\\"preview\\\\\\\\\\\\\": false, \\\\\\\\\\\\\"separator\\\\\\\\\\\\\": \\\\\\\\\\\\\",\\\\\\\\\\\\\", \\\\\\\\\\\\\"skipRows\\\\\\\\\\\\\": 0, \\\\\\\\\\\\\"skipRowsMode\\\\\\\\\\\\\": 0}, \\\\\\\\\\\\\"localData\\\\\\\\\\\\\": {}, \\\\\\\\\\\\\"isEnabled\\\\\\\\\\\\\": true, \\\\\\\\\\\\\"name\\\\\\\\\\\\\": null, \\\\\\\\\\\\\"annotation\\\\\\\\\\\\\": null}, {\\\\\\\\\\\\\"id\\\\\\\\\\\\\": \\\\\\\\\\\\\"a5646d63-67b7-4444-b717-5f8c7d7e4601\\\\\\\\\\\\\", \\\\\\\\\\\\\"type\\\\\\\\\\\\\": \\\\\\\\\\\\\"Microsoft.DPrep.DropColumnsBlock\\\\\\\\\\\\\", \\\\\\\\\\\\\"arguments\\\\\\\\\\\\\": {\\\\\\\\\\\\\"columns\\\\\\\\\\\\\": {\\\\\\\\\\\\\"type\\\\\\\\\\\\\": 0, \\\\\\\\\\\\\"details\\\\\\\\\\\\\": {\\\\\\\\\\\\\"selectedColumns\\\\\\\\\\\\\": [\\\\\\\\\\\\\"Path\\\\\\\\\\\\\"]}}}, \\\\\\\\\\\\\"localData\\\\\\\\\\\\\": {}, \\\\\\\\\\\\\"isEnabled\\\\\\\\\\\\\": true, \\\\\\\\\\\\\"name\\\\\\\\\\\\\": null, \\\\\\\\\\\\\"annotation\\\\\\\\\\\\\": null}, {\\\\\\\\\\\\\"id\\\\\\\\\\\\\": \\\\\\\\\\\\\"9209a4a3-0f3a-411e-aa7b-30761a044861\\\\\\\\\\\\\", \\\\\\\\\\\\\"type\\\\\\\\\\\\\": \\\\\\\\\\\\\"Microsoft.DPrep.SetColumnTypesBlock\\\\\\\\\\\\\", \\\\\\\\\\\\\"arguments\\\\\\\\\\\\\": {\\\\\\\\\\\\\"columnConversion\\\\\\\\\\\\\": [{\\\\\\\\\\\\\"column\\\\\\\\\\\\\": {\\\\\\\\\\\\\"type\\\\\\\\\\\\\": 2, \\\\\\\\\\\\\"details\\\\\\\\\\\\\": {\\\\\\\\\\\\\"selectedColumn\\\\\\\\\\\\\": \\\\\\\\\\\\\"age\\\\\\\\\\\\\"}}, \\\\\\\\\\\\\"typeProperty\\\\\\\\\\\\\": 3}, {\\\\\\\\\\\\\"column\\\\\\\\\\\\\": {\\\\\\\\\\\\\"type\\\\\\\\\\\\\": 2, \\\\\\\\\\\\\"details\\\\\\\\\\\\\": {\\\\\\\\\\\\\"selectedColumn\\\\\\\\\\\\\": \\\\\\\\\\\\\"anaemia\\\\\\\\\\\\\"}}, \\\\\\\\\\\\\"typeProperty\\\\\\\\\\\\\": 2}, {\\\\\\\\\\\\\"column\\\\\\\\\\\\\": {\\\\\\\\\\\\\"type\\\\\\\\\\\\\": 2, \\\\\\\\\\\\\"details\\\\\\\\\\\\\": {\\\\\\\\\\\\\"selectedColumn\\\\\\\\\\\\\": \\\\\\\\\\\\\"creatinine_phosphokinase\\\\\\\\\\\\\"}}, \\\\\\\\\\\\\"typeProperty\\\\\\\\\\\\\": 2}, {\\\\\\\\\\\\\"column\\\\\\\\\\\\\": {\\\\\\\\\\\\\"type\\\\\\\\\\\\\": 2, \\\\\\\\\\\\\"details\\\\\\\\\\\\\": {\\\\\\\\\\\\\"selectedColumn\\\\\\\\\\\\\": \\\\\\\\\\\\\"diabetes\\\\\\\\\\\\\"}}, \\\\\\\\\\\\\"typeProperty\\\\\\\\\\\\\": 2}, {\\\\\\\\\\\\\"column\\\\\\\\\\\\\": {\\\\\\\\\\\\\"type\\\\\\\\\\\\\": 2, \\\\\\\\\\\\\"details\\\\\\\\\\\\\": {\\\\\\\\\\\\\"selectedColumn\\\\\\\\\\\\\": \\\\\\\\\\\\\"ejection_fraction\\\\\\\\\\\\\"}}, \\\\\\\\\\\\\"typeProperty\\\\\\\\\\\\\": 2}, {\\\\\\\\\\\\\"column\\\\\\\\\\\\\": {\\\\\\\\\\\\\"type\\\\\\\\\\\\\": 2, \\\\\\\\\\\\\"details\\\\\\\\\\\\\": {\\\\\\\\\\\\\"selectedColumn\\\\\\\\\\\\\": \\\\\\\\\\\\\"high_blood_pressure\\\\\\\\\\\\\"}}, \\\\\\\\\\\\\"typeProperty\\\\\\\\\\\\\": 2}, {\\\\\\\\\\\\\"column\\\\\\\\\\\\\": {\\\\\\\\\\\\\"type\\\\\\\\\\\\\": 2, \\\\\\\\\\\\\"details\\\\\\\\\\\\\": {\\\\\\\\\\\\\"selectedColumn\\\\\\\\\\\\\": \\\\\\\\\\\\\"platelets\\\\\\\\\\\\\"}}, \\\\\\\\\\\\\"typeProperty\\\\\\\\\\\\\": 3}, {\\\\\\\\\\\\\"column\\\\\\\\\\\\\": {\\\\\\\\\\\\\"type\\\\\\\\\\\\\": 2, \\\\\\\\\\\\\"details\\\\\\\\\\\\\": {\\\\\\\\\\\\\"selectedColumn\\\\\\\\\\\\\": \\\\\\\\\\\\\"serum_creatinine\\\\\\\\\\\\\"}}, \\\\\\\\\\\\\"typeProperty\\\\\\\\\\\\\": 3}, {\\\\\\\\\\\\\"column\\\\\\\\\\\\\": {\\\\\\\\\\\\\"type\\\\\\\\\\\\\": 2, \\\\\\\\\\\\\"details\\\\\\\\\\\\\": {\\\\\\\\\\\\\"selectedColumn\\\\\\\\\\\\\": \\\\\\\\\\\\\"serum_sodium\\\\\\\\\\\\\"}}, \\\\\\\\\\\\\"typeProperty\\\\\\\\\\\\\": 2}, {\\\\\\\\\\\\\"column\\\\\\\\\\\\\": {\\\\\\\\\\\\\"type\\\\\\\\\\\\\": 2, \\\\\\\\\\\\\"details\\\\\\\\\\\\\": {\\\\\\\\\\\\\"selectedColumn\\\\\\\\\\\\\": \\\\\\\\\\\\\"sex\\\\\\\\\\\\\"}}, \\\\\\\\\\\\\"typeProperty\\\\\\\\\\\\\": 2}, {\\\\\\\\\\\\\"column\\\\\\\\\\\\\": {\\\\\\\\\\\\\"type\\\\\\\\\\\\\": 2, \\\\\\\\\\\\\"details\\\\\\\\\\\\\": {\\\\\\\\\\\\\"selectedColumn\\\\\\\\\\\\\": \\\\\\\\\\\\\"smoking\\\\\\\\\\\\\"}}, \\\\\\\\\\\\\"typeProperty\\\\\\\\\\\\\": 2}, {\\\\\\\\\\\\\"column\\\\\\\\\\\\\": {\\\\\\\\\\\\\"type\\\\\\\\\\\\\": 2, \\\\\\\\\\\\\"details\\\\\\\\\\\\\": {\\\\\\\\\\\\\"selectedColumn\\\\\\\\\\\\\": \\\\\\\\\\\\\"time\\\\\\\\\\\\\"}}, \\\\\\\\\\\\\"typeProperty\\\\\\\\\\\\\": 2}, {\\\\\\\\\\\\\"column\\\\\\\\\\\\\": {\\\\\\\\\\\\\"type\\\\\\\\\\\\\": 2, \\\\\\\\\\\\\"details\\\\\\\\\\\\\": {\\\\\\\\\\\\\"selectedColumn\\\\\\\\\\\\\": \\\\\\\\\\\\\"DEATH_EVENT\\\\\\\\\\\\\"}}, \\\\\\\\\\\\\"typeProperty\\\\\\\\\\\\\": 2}]}, \\\\\\\\\\\\\"localData\\\\\\\\\\\\\": {}, \\\\\\\\\\\\\"isEnabled\\\\\\\\\\\\\": true, \\\\\\\\\\\\\"name\\\\\\\\\\\\\": null, \\\\\\\\\\\\\"annotation\\\\\\\\\\\\\": null}], \\\\\\\\\\\\\"inspectors\\\\\\\\\\\\\": [], \\\\\\\\\\\\\"meta\\\\\\\\\\\\\": {\\\\\\\\\\\\\"savedDatasetId\\\\\\\\\\\\\": \\\\\\\\\\\\\"2cbea18e-7aeb-4529-8742-cb450e462c98\\\\\\\\\\\\\", \\\\\\\\\\\\\"datasetType\\\\\\\\\\\\\": \\\\\\\\\\\\\"tabular\\\\\\\\\\\\\", \\\\\\\\\\\\\"subscriptionId\\\\\\\\\\\\\": \\\\\\\\\\\\\"cdbe0b43-92a0-4715-838a-f2648cc7ad21\\\\\\\\\\\\\", \\\\\\\\\\\\\"workspaceId\\\\\\\\\\\\\": \\\\\\\\\\\\\"09d57fa8-99b8-4e05-b624-60df9fee0708\\\\\\\\\\\\\", \\\\\\\\\\\\\"workspaceLocation\\\\\\\\\\\\\": \\\\\\\\\\\\\"southcentralus\\\\\\\\\\\\\"}}\\\\\", \\\\\"activities\\\\\": 0}',\n",
       "  'EnableSubsampling': None,\n",
       "  'runTemplate': 'AutoML',\n",
       "  'azureml.runsource': 'automl',\n",
       "  'display_task_type': 'classification',\n",
       "  'dependencies_versions': '{\"azureml-widgets\": \"1.20.0\", \"azureml-train\": \"1.20.0\", \"azureml-train-restclients-hyperdrive\": \"1.20.0\", \"azureml-train-core\": \"1.20.0\", \"azureml-train-automl\": \"1.20.0\", \"azureml-train-automl-runtime\": \"1.20.0\", \"azureml-train-automl-client\": \"1.20.0\", \"azureml-tensorboard\": \"1.20.0\", \"azureml-telemetry\": \"1.20.0\", \"azureml-sdk\": \"1.20.0\", \"azureml-samples\": \"0+unknown\", \"azureml-pipeline\": \"1.20.0\", \"azureml-pipeline-steps\": \"1.20.0\", \"azureml-pipeline-core\": \"1.20.0\", \"azureml-opendatasets\": \"1.20.0\", \"azureml-model-management-sdk\": \"1.0.1b6.post1\", \"azureml-mlflow\": \"1.20.0.post1\", \"azureml-interpret\": \"1.20.0\", \"azureml-explain-model\": \"1.20.0\", \"azureml-defaults\": \"1.20.0\", \"azureml-dataset-runtime\": \"1.20.0\", \"azureml-dataprep\": \"2.7.3\", \"azureml-dataprep-rslex\": \"1.5.0\", \"azureml-dataprep-native\": \"27.0.0\", \"azureml-datadrift\": \"1.20.0\", \"azureml-core\": \"1.20.0\", \"azureml-contrib-services\": \"1.20.0\", \"azureml-contrib-server\": \"1.20.0\", \"azureml-contrib-reinforcementlearning\": \"1.20.0\", \"azureml-contrib-pipeline-steps\": \"1.20.0\", \"azureml-contrib-notebook\": \"1.20.0\", \"azureml-contrib-interpret\": \"1.20.0\", \"azureml-contrib-gbdt\": \"1.20.0\", \"azureml-contrib-fairness\": \"1.20.0\", \"azureml-contrib-dataset\": \"1.20.0\", \"azureml-cli-common\": \"1.20.0\", \"azureml-automl-runtime\": \"1.20.0\", \"azureml-automl-core\": \"1.20.0\", \"azureml-accel-models\": \"1.20.0\"}',\n",
       "  '_aml_system_scenario_identification': 'Remote.Parent',\n",
       "  'ClientType': 'SDK',\n",
       "  'environment_cpu_name': 'AzureML-AutoML',\n",
       "  'environment_cpu_label': 'prod',\n",
       "  'environment_gpu_name': 'AzureML-AutoML-GPU',\n",
       "  'environment_gpu_label': 'prod',\n",
       "  'root_attribution': 'automl',\n",
       "  'attribution': 'AutoML',\n",
       "  'Orchestrator': 'AutoML',\n",
       "  'CancelUri': 'https://southcentralus.experiments.azureml.net/jasmine/v1.0/subscriptions/cdbe0b43-92a0-4715-838a-f2648cc7ad21/resourceGroups/aml-quickstarts-138271/providers/Microsoft.MachineLearningServices/workspaces/quick-starts-ws-138271/experimentids/f0c06b37-e5a3-4f32-b08c-5e1b28148ab5/cancel/AutoML_8460f68a-b31a-4570-b383-18f00fbb3873',\n",
       "  'ClientSdkVersion': '1.21.0',\n",
       "  'snapshotId': '00000000-0000-0000-0000-000000000000',\n",
       "  'SetupRunId': 'AutoML_8460f68a-b31a-4570-b383-18f00fbb3873_setup',\n",
       "  'SetupRunContainerId': 'dcid.AutoML_8460f68a-b31a-4570-b383-18f00fbb3873_setup',\n",
       "  'FeaturizationRunJsonPath': 'featurizer_container.json',\n",
       "  'FeaturizationRunId': 'AutoML_8460f68a-b31a-4570-b383-18f00fbb3873_featurize',\n",
       "  'ProblemInfoJsonString': '{\"dataset_num_categorical\": 0, \"is_sparse\": false, \"subsampling\": false, \"dataset_classes\": 2, \"dataset_features\": 12, \"dataset_samples\": 239, \"single_frequency_class_detected\": false}',\n",
       "  'ModelExplainRunId': 'AutoML_8460f68a-b31a-4570-b383-18f00fbb3873_ModelExplain'},\n",
       " 'inputDatasets': [{'dataset': {'id': '2cbea18e-7aeb-4529-8742-cb450e462c98'}, 'consumptionDetails': {'type': 'RunInput', 'inputName': 'training_data', 'mechanism': 'Direct'}}],\n",
       " 'outputDatasets': [],\n",
       " 'logFiles': {},\n",
       " 'submittedBy': 'ODL_User 138271'}"
      ]
     },
     "execution_count": 13,
     "metadata": {},
     "output_type": "execute_result"
    }
   ],
   "source": [
    "remote_run.wait_for_completion()"
   ]
  },
  {
   "cell_type": "markdown",
   "metadata": {},
   "source": [
    "## Best Model"
   ]
  },
  {
   "cell_type": "code",
   "execution_count": 14,
   "metadata": {
    "gather": {
     "logged": 1598431425670
    },
    "jupyter": {
     "outputs_hidden": false,
     "source_hidden": false
    },
    "nteract": {
     "transient": {
      "deleting": false
     }
    }
   },
   "outputs": [
    {
     "name": "stderr",
     "output_type": "stream",
     "text": [
      "WARNING:root:The version of the SDK does not match the version the model was trained on.\n",
      "WARNING:root:The consistency in the result may not be guaranteed.\n",
      "WARNING:root:Package:azureml-automl-core, training version:1.21.0, current version:1.20.0\n",
      "Package:azureml-automl-runtime, training version:1.21.0, current version:1.20.0\n",
      "Package:azureml-core, training version:1.21.0.post1, current version:1.20.0\n",
      "Package:azureml-dataprep, training version:2.8.2, current version:2.7.3\n",
      "Package:azureml-dataprep-native, training version:28.0.0, current version:27.0.0\n",
      "Package:azureml-dataprep-rslex, training version:1.6.0, current version:1.5.0\n",
      "Package:azureml-dataset-runtime, training version:1.21.0, current version:1.20.0\n",
      "Package:azureml-defaults, training version:1.21.0, current version:1.20.0\n",
      "Package:azureml-interpret, training version:1.21.0, current version:1.20.0\n",
      "Package:azureml-pipeline-core, training version:1.21.0, current version:1.20.0\n",
      "Package:azureml-telemetry, training version:1.21.0, current version:1.20.0\n",
      "Package:azureml-train-automl-client, training version:1.21.0, current version:1.20.0\n",
      "Package:azureml-train-automl-runtime, training version:1.21.0, current version:1.20.0\n",
      "WARNING:root:Please ensure the version of your local conda dependencies match the version on which your model was trained in order to properly retrieve your model.\n"
     ]
    },
    {
     "name": "stdout",
     "output_type": "stream",
     "text": [
      "AUC_macro 0.92239835700362\n",
      "f1_score_micro 0.8869350282485876\n",
      "f1_score_weighted 0.8837461572203347\n",
      "AUC_micro 0.9328057271218361\n",
      "precision_score_macro 0.887601530503087\n",
      "average_precision_score_weighted 0.930592954643481\n",
      "accuracy 0.8869350282485876\n",
      "average_precision_score_micro 0.9347014518807041\n",
      "log_loss 0.3505280354352506\n",
      "recall_score_micro 0.8869350282485876\n",
      "precision_score_micro 0.8869350282485876\n",
      "recall_score_weighted 0.8869350282485876\n",
      "AUC_weighted 0.9223983570036202\n",
      "matthews_correlation 0.7384355460607587\n",
      "balanced_accuracy 0.8525323725981622\n",
      "recall_score_macro 0.8525323725981622\n",
      "f1_score_macro 0.8649791170651248\n",
      "weighted_accuracy 0.913339964633068\n",
      "norm_macro_recall 0.7050647451963242\n",
      "precision_score_weighted 0.8878058876823796\n",
      "average_precision_score_macro 0.9148365559723477\n",
      "confusion_matrix aml://artifactId/ExperimentRun/dcid.AutoML_8460f68a-b31a-4570-b383-18f00fbb3873_24/confusion_matrix\n",
      "accuracy_table aml://artifactId/ExperimentRun/dcid.AutoML_8460f68a-b31a-4570-b383-18f00fbb3873_24/accuracy_table\n"
     ]
    }
   ],
   "source": [
    "#get best model and print all the metrics\n",
    "best_run, fitted_model = remote_run.get_output()\n",
    "\n",
    "best_run_metrics = best_run.get_metrics() \n",
    "for metric_name in best_run_metrics:\n",
    "    metric = best_run_metrics[metric_name]\n",
    "    print(metric_name, metric)"
   ]
  },
  {
   "cell_type": "code",
   "execution_count": null,
   "metadata": {},
   "outputs": [],
   "source": [
    "# Details of best model as well as the parameters selected\n",
    "print(best_run)\n",
    "print(fitted_model)"
   ]
  },
  {
   "cell_type": "code",
   "execution_count": 15,
   "metadata": {
    "gather": {
     "logged": 1598431426111
    },
    "jupyter": {
     "outputs_hidden": false,
     "source_hidden": false
    },
    "nteract": {
     "transient": {
      "deleting": false
     }
    }
   },
   "outputs": [
    {
     "data": {
      "text/plain": [
       "Model(workspace=Workspace.create(name='quick-starts-ws-138271', subscription_id='cdbe0b43-92a0-4715-838a-f2648cc7ad21', resource_group='aml-quickstarts-138271'), name=automl_best_model.pkl, id=automl_best_model.pkl:1, version=1, tags={}, properties={})"
      ]
     },
     "execution_count": 15,
     "metadata": {},
     "output_type": "execute_result"
    }
   ],
   "source": [
    "#Save the best model\n",
    "best_run.register_model(model_name = 'automl_best_model.pkl', model_path = './outputs/')\n",
    "joblib.dump(fitted_model, filename= \"outputs/automl_model.pkl\")"
   ]
  },
  {
   "cell_type": "markdown",
   "metadata": {},
   "source": [
    "## Model Deployment"
   ]
  },
  {
   "cell_type": "code",
   "execution_count": 18,
   "metadata": {},
   "outputs": [],
   "source": [
    "# Download score.py and env file\n",
    "best_run.download_file('outputs/scoring_file_v_1_0_0.py', 'inference/score.py')\n",
    "best_run.download_file(constants.CONDA_ENV_FILE_PATH,'automl_env.yml')"
   ]
  },
  {
   "cell_type": "code",
   "execution_count": 19,
   "metadata": {},
   "outputs": [
    {
     "name": "stdout",
     "output_type": "stream",
     "text": [
      "AutoML8460f68ab24\n"
     ]
    }
   ],
   "source": [
    "# Register the model\n",
    "model_name = best_run.properties['model_name']\n",
    "description = 'AutoML Model trained on heart failure data to predict if death event occurs or not'\n",
    "tags = None\n",
    "model = remote_run.register_model(model_name = model_name, description = description, tags = tags)\n",
    "\n",
    "print(remote_run.model_id) # This will be written to the script file later in the notebook."
   ]
  },
  {
   "cell_type": "code",
   "execution_count": 20,
   "metadata": {},
   "outputs": [
    {
     "name": "stdout",
     "output_type": "stream",
     "text": [
      "automl-heart-failure\n",
      "Tips: You can try get_logs(): https://aka.ms/debugimage#dockerlog or local deployment: https://aka.ms/debugimage#debug-locally to debug if deployment takes longer than 10 minutes.\n",
      "Running................................................\n",
      "Succeeded\n",
      "ACI service creation operation finished, operation \"Succeeded\"\n",
      "Healthy\n"
     ]
    }
   ],
   "source": [
    "# Create inference config\n",
    "inference_config = InferenceConfig(entry_script=script_file_name)\n",
    "\n",
    "aciconfig = AciWebservice.deploy_configuration(cpu_cores = 1, \n",
    "                                               memory_gb = 1, \n",
    "                                               tags = {'area': \"hfData\", 'type': \"automl_classification\"}, \n",
    "                                               description = 'Heart Failure Prediction')\n",
    "\n",
    "aci_service_name = 'automl-heart-failure'\n",
    "print(aci_service_name)\n",
    "aci_service = Model.deploy(ws, aci_service_name, [model], inference_config, aciconfig)\n",
    "aci_service.wait_for_deployment(True)\n",
    "print(aci_service.state)"
   ]
  },
  {
   "cell_type": "code",
   "execution_count": 26,
   "metadata": {},
   "outputs": [],
   "source": [
    "# Enable Application Insights\n",
    "aci_service.update(enable_app_insights=True)"
   ]
  },
  {
   "cell_type": "code",
   "execution_count": 27,
   "metadata": {},
   "outputs": [
    {
     "name": "stdout",
     "output_type": "stream",
     "text": [
      "State Healthy\n",
      "Swagger URI http://7a93d622-7028-4861-8b9a-7f3dfb46df1c.southcentralus.azurecontainer.io/swagger.json\n",
      "Scoring URI http://7a93d622-7028-4861-8b9a-7f3dfb46df1c.southcentralus.azurecontainer.io/score\n"
     ]
    }
   ],
   "source": [
    "print(\"State \"+ aci_service.state)\n",
    "print(\"Swagger URI \" + aci_service.swagger_uri)\n",
    "print(\"Scoring URI \" + aci_service.scoring_uri)"
   ]
  },
  {
   "cell_type": "markdown",
   "metadata": {
    "collapsed": true,
    "gather": {
     "logged": 1598431657736
    },
    "jupyter": {
     "outputs_hidden": false,
     "source_hidden": false
    },
    "nteract": {
     "transient": {
      "deleting": false
     }
    }
   },
   "source": [
    "In the cell below, a request is sent to the web service deployed to test it."
   ]
  },
  {
   "cell_type": "code",
   "execution_count": 29,
   "metadata": {
    "gather": {
     "logged": 1598432707604
    },
    "jupyter": {
     "outputs_hidden": false,
     "source_hidden": false
    },
    "nteract": {
     "transient": {
      "deleting": false
     }
    }
   },
   "outputs": [
    {
     "name": "stdout",
     "output_type": "stream",
     "text": [
      "{\"result\": [1, 1]}\n"
     ]
    }
   ],
   "source": [
    "import requests\n",
    "import json\n",
    "\n",
    "# URL for the web service, should be similar to:\n",
    "# 'http://8530a665-66f3-49c8-a953-b82a2d312917.eastus.azurecontainer.io/score'\n",
    "scoring_uri = aci_service.scoring_uri\n",
    "# If the service is authenticated, set the key or token\n",
    "\n",
    "# Two sets of data to score, so we get two results back\n",
    "data = {\"data\":\n",
    "        [\n",
    "          {\n",
    "            \"age\": 70.0,\n",
    "            \"anaemia\": 1,\n",
    "            \"creatinine_phosphokinase\": 4020,\n",
    "            \"diabetes\": 1,\n",
    "            \"ejection_fraction\": 32,\n",
    "            \"high_blood_pressure\": 1,\n",
    "            \"platelets\": 234558.23,\n",
    "            \"serum_creatinine\": 1.4,\n",
    "            \"serum_sodium\": 125,\n",
    "            \"sex\": 0,\n",
    "            \"smoking\": 1,\n",
    "            \"time\": 12\n",
    "          },\n",
    "          {\n",
    "            \"age\": 75.0,\n",
    "            \"anaemia\": 0,\n",
    "            \"creatinine_phosphokinase\": 4221,\n",
    "            \"diabetes\": 0,\n",
    "            \"ejection_fraction\": 22,\n",
    "            \"high_blood_pressure\": 0,\n",
    "            \"platelets\": 404567.23,\n",
    "            \"serum_creatinine\": 1.1,\n",
    "            \"serum_sodium\": 115,\n",
    "            \"sex\": 1,\n",
    "            \"smoking\": 0,\n",
    "            \"time\": 7\n",
    "          },\n",
    "      ]\n",
    "    }\n",
    "# Convert to JSON string\n",
    "input_data = json.dumps(data)\n",
    "with open(\"data.json\", \"w\") as _f:\n",
    "    _f.write(input_data)\n",
    "\n",
    "# Set the content type\n",
    "headers = {'Content-Type': 'application/json'}\n",
    "# If authentication is enabled, set the authorization header\n",
    "\n",
    "# Make the request and display the response\n",
    "resp = requests.post(scoring_uri, input_data, headers=headers)\n",
    "print(resp.json())"
   ]
  },
  {
   "cell_type": "code",
   "execution_count": 30,
   "metadata": {
    "jupyter": {
     "outputs_hidden": false,
     "source_hidden": false
    },
    "nteract": {
     "transient": {
      "deleting": false
     }
    }
   },
   "outputs": [
    {
     "data": {
      "text/plain": [
       "'2021-02-09T17:42:45,189026127+00:00 - iot-server/run \\n2021-02-09T17:42:45,190888064+00:00 - rsyslog/run \\n2021-02-09T17:42:45,192040387+00:00 - gunicorn/run \\nrsyslogd: /azureml-envs/azureml_20a8278aa8b20dd48cc50f56a6d2586c/lib/libuuid.so.1: no version information available (required by rsyslogd)\\n/usr/sbin/nginx: /azureml-envs/azureml_20a8278aa8b20dd48cc50f56a6d2586c/lib/libcrypto.so.1.0.0: no version information available (required by /usr/sbin/nginx)\\n/usr/sbin/nginx: /azureml-envs/azureml_20a8278aa8b20dd48cc50f56a6d2586c/lib/libcrypto.so.1.0.0: no version information available (required by /usr/sbin/nginx)\\n/usr/sbin/nginx: /azureml-envs/azureml_20a8278aa8b20dd48cc50f56a6d2586c/lib/libssl.so.1.0.0: no version information available (required by /usr/sbin/nginx)\\n/usr/sbin/nginx: /azureml-envs/azureml_20a8278aa8b20dd48cc50f56a6d2586c/lib/libssl.so.1.0.0: no version information available (required by /usr/sbin/nginx)\\n/usr/sbin/nginx: /azureml-envs/azureml_20a8278aa8b20dd48cc50f56a6d2586c/lib/libssl.so.1.0.0: no version information available (required by /usr/sbin/nginx)\\n2021-02-09T17:42:45,207392292+00:00 - nginx/run \\nEdgeHubConnectionString and IOTEDGE_IOTHUBHOSTNAME are not set. Exiting...\\n2021-02-09T17:42:45,338146590+00:00 - iot-server/finish 1 0\\n2021-02-09T17:42:45,339716021+00:00 - Exit code 1 is normal. Not restarting iot-server.\\nStarting gunicorn 19.9.0\\nListening at: http://127.0.0.1:31311 (11)\\nUsing worker: sync\\nworker timeout is set to 300\\nBooting worker with pid: 42\\nSPARK_HOME not set. Skipping PySpark Initialization.\\nGenerating new fontManager, this may take some time...\\nInitializing logger\\n2021-02-09 17:42:46,563 | root | INFO | Starting up app insights client\\n2021-02-09 17:42:46,563 | root | INFO | Starting up request id generator\\n2021-02-09 17:42:46,563 | root | INFO | Starting up app insight hooks\\n2021-02-09 17:42:46,564 | root | INFO | Invoking user\\'s init function\\n2021-02-09 17:42:49,038 | root | INFO | Users\\'s init has completed successfully\\n2021-02-09 17:42:49,040 | root | INFO | Skipping middleware: dbg_model_info as it\\'s not enabled.\\n2021-02-09 17:42:49,040 | root | INFO | Skipping middleware: dbg_resource_usage as it\\'s not enabled.\\n2021-02-09 17:42:49,115 | root | INFO | Scoring timeout is found from os.environ: 60000 ms\\n2021-02-09 17:42:52,715 | root | INFO | 200\\n127.0.0.1 - - [09/Feb/2021:17:42:52 +0000] \"GET /swagger.json HTTP/1.0\" 200 2852 \"-\" \"Go-http-client/1.1\"\\n2021-02-09 17:43:00,600 | root | INFO | 200\\n127.0.0.1 - - [09/Feb/2021:17:43:00 +0000] \"GET /swagger.json HTTP/1.0\" 200 2852 \"-\" \"Go-http-client/1.1\"\\n2021-02-09 17:43:12,551 | root | INFO | 200\\n127.0.0.1 - - [09/Feb/2021:17:43:12 +0000] \"GET /swagger.json HTTP/1.0\" 200 2852 \"-\" \"Mozilla/5.0 (Windows NT 10.0; Win64; x64) AppleWebKit/537.36 (KHTML, like Gecko) Chrome/86.0.4240.75 Safari/537.36\"\\n127.0.0.1 - - [09/Feb/2021:17:43:12 +0000] \"GET /favicon.ico HTTP/1.0\" 404 232 \"http://7a93d622-7028-4861-8b9a-7f3dfb46df1c.southcentralus.azurecontainer.io/swagger.json\" \"Mozilla/5.0 (Windows NT 10.0; Win64; x64) AppleWebKit/537.36 (KHTML, like Gecko) Chrome/86.0.4240.75 Safari/537.36\"\\n2021-02-09 17:46:54,888 | root | INFO | Validation Request Content-Type\\n2021-02-09 17:46:54,889 | root | INFO | Scoring Timer is set to 60.0 seconds\\n2021-02-09 17:46:54,956 | root | INFO | 200\\n127.0.0.1 - - [09/Feb/2021:17:46:55 +0000] \"POST /score HTTP/1.0\" 200 22 \"-\" \"python-requests/2.25.1\"\\n'"
      ]
     },
     "execution_count": 30,
     "metadata": {},
     "output_type": "execute_result"
    }
   ],
   "source": [
    "#Print the logs of the deployed service\n",
    "aci_service.get_logs()"
   ]
  },
  {
   "cell_type": "code",
   "execution_count": null,
   "metadata": {},
   "outputs": [],
   "source": [
    "#Delete the deployed service\n",
    "aci_service.delete()"
   ]
  }
 ],
 "metadata": {
  "kernel_info": {
   "name": "python3-azureml"
  },
  "kernelspec": {
   "display_name": "Python 3",
   "language": "python",
   "name": "python3"
  },
  "language_info": {
   "codemirror_mode": {
    "name": "ipython",
    "version": 3
   },
   "file_extension": ".py",
   "mimetype": "text/x-python",
   "name": "python",
   "nbconvert_exporter": "python",
   "pygments_lexer": "ipython3",
   "version": "3.8.5"
  },
  "nteract": {
   "version": "nteract-front-end@1.0.0"
  }
 },
 "nbformat": 4,
 "nbformat_minor": 2
}
