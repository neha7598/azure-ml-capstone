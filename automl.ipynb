{
 "cells": [
  {
   "cell_type": "markdown",
   "metadata": {},
   "source": [
    "# Automated ML"
   ]
  },
  {
   "cell_type": "code",
   "execution_count": 1,
   "metadata": {
    "gather": {
     "logged": 1598423888013
    },
    "jupyter": {
     "outputs_hidden": false,
     "source_hidden": false
    },
    "nteract": {
     "transient": {
      "deleting": false
     }
    }
   },
   "outputs": [],
   "source": [
    "from azureml.core import Workspace, Experiment\n",
    "from azureml.core.compute import ComputeTarget, AmlCompute\n",
    "from azureml.core.compute_target import ComputeTargetException\n",
    "from azureml.widgets import RunDetails\n",
    "from azureml.data.dataset_factory import TabularDatasetFactory\n",
    "from sklearn.model_selection import train_test_split\n",
    "import pandas as pd\n",
    "from azureml.core.dataset import Dataset\n",
    "from azureml.train.automl.utilities import get_primary_metrics\n",
    "from azureml.train.automl import AutoMLConfig\n",
    "from azureml.core.model import InferenceConfig\n",
    "from azureml.core.webservice import AciWebservice\n",
    "from azureml.core.webservice import Webservice\n",
    "from azureml.core.model import Model\n",
    "from azureml.core.environment import Environment\n",
    "from azureml.automl.core.shared import constants\n",
    "import joblib"
   ]
  },
  {
   "cell_type": "markdown",
   "metadata": {},
   "source": [
    "## Dataset\n",
    "\n",
    "### Overview\n",
    "\n",
    "The dataset used for this project is the [Heart Failure Prediction](https://www.kaggle.com/andrewmvd/heart-failure-clinical-data) dataset taken from Kaggle.\n",
    "\n",
    "This dataset contains 12 features that can be used to predict mortality by heart failure:\n",
    "\n",
    "- age: Age of the patient\n",
    "- amaemia: Decrease of red blood cells or hemoglobin\n",
    "- creatinine_phosphokinase: Level of the CPK enzyme in the blood (mcg/L)\n",
    "- diabetes: If the patient has diabetes\n",
    "- ejection_fraction: Percentage of blood leaving the heart at each contraction\n",
    "- high_blood_pressure: If the patient has hypertension\n",
    "- platelets: Platelets in the blood (kiloplatelets/mL)\n",
    "- serum_creatinine: Level of serum creatinine in the blood (mg/dL)\n",
    "- serum_sodium: Level of serum sodium in the blood (mEq/L)\n",
    "- sex: Woman or man\n",
    "- smoking: If the patient smokes or not\n",
    "- time: Follow-up period (days)\n",
    "\n",
    "The target column is DEATH_EVENT which tells if the patient deceased during the follow-up period. The task performed in this project is to predict whether or not a death event occurs."
   ]
  },
  {
   "cell_type": "code",
   "execution_count": 2,
   "metadata": {
    "gather": {
     "logged": 1598423890461
    },
    "jupyter": {
     "outputs_hidden": false,
     "source_hidden": false
    },
    "nteract": {
     "transient": {
      "deleting": false
     }
    }
   },
   "outputs": [
    {
     "name": "stdout",
     "output_type": "stream",
     "text": [
      "Workspace name: quick-starts-ws-138577\n",
      "Azure region: southcentralus\n",
      "Subscription id: 510b94ba-e453-4417-988b-fbdc37b55ca7\n",
      "Resource group: aml-quickstarts-138577\n"
     ]
    }
   ],
   "source": [
    "## Creating a new Experiment\n",
    "ws = Workspace.from_config()\n",
    "experiment_name = 'heart-failure-automl'\n",
    "\n",
    "experiment=Experiment(ws, experiment_name)\n",
    "\n",
    "print('Workspace name: ' + ws.name, \n",
    "      'Azure region: ' + ws.location, \n",
    "      'Subscription id: ' + ws.subscription_id, \n",
    "      'Resource group: ' + ws.resource_group, sep = '\\n')\n",
    "\n",
    "run = experiment.start_logging()"
   ]
  },
  {
   "cell_type": "code",
   "execution_count": 3,
   "metadata": {},
   "outputs": [
    {
     "name": "stdout",
     "output_type": "stream",
     "text": [
      "notebook138577 ComputeInstance Succeeded\n"
     ]
    }
   ],
   "source": [
    "#Checking and printing existing compute targets\n",
    "compute_targets= ws.compute_targets\n",
    "for name, ct in compute_targets.items():\n",
    "    print(name, ct.type, ct.provisioning_state)"
   ]
  },
  {
   "cell_type": "code",
   "execution_count": 4,
   "metadata": {},
   "outputs": [
    {
     "name": "stdout",
     "output_type": "stream",
     "text": [
      "Creating new cluster...\n",
      "Creating\n",
      "Succeeded\n",
      "AmlCompute wait for completion finished\n",
      "\n",
      "Minimum number of nodes requested have been provisioned\n"
     ]
    }
   ],
   "source": [
    "#Create compute cluster\n",
    "compute_cluster_name= \"cpu-compute\"\n",
    "\n",
    "#Check if compute cluster already exists\n",
    "try:\n",
    "    compute_cluster=ComputeTarget(workspace=ws, name=compute_cluster_name)\n",
    "    print(\"Found existing cluster, use it...\")\n",
    "except ComputeTargetException:\n",
    "    print(\"Creating new cluster...\")\n",
    "    compute_config = AmlCompute.provisioning_configuration(vm_size='STANDARD_D2_V2',max_nodes=5)\n",
    "    compute_cluster = ComputeTarget.create(ws, compute_cluster_name, compute_config)\n",
    "    \n",
    "compute_cluster.wait_for_completion(show_output=True)"
   ]
  },
  {
   "cell_type": "code",
   "execution_count": 5,
   "metadata": {},
   "outputs": [],
   "source": [
    "#Get data\n",
    "from azureml.data.dataset_factory import TabularDatasetFactory\n",
    "\n",
    "# Create TabularDataset using TabularDatasetFactory\n",
    "# Data is available at: \n",
    "# \"https://raw.githubusercontent.com/neha7598/azure-ml-capstone/main/data/heart_failure_clinical_records_dataset.csv\"\n",
    "\n",
    "path_to_data= \"https://raw.githubusercontent.com/neha7598/azure-ml-capstone/main/data/heart_failure_clinical_records_dataset.csv\"\n",
    "data=TabularDatasetFactory.from_delimited_files(path=path_to_data)"
   ]
  },
  {
   "cell_type": "code",
   "execution_count": 6,
   "metadata": {},
   "outputs": [
    {
     "data": {
      "text/html": [
       "<div>\n",
       "<style scoped>\n",
       "    .dataframe tbody tr th:only-of-type {\n",
       "        vertical-align: middle;\n",
       "    }\n",
       "\n",
       "    .dataframe tbody tr th {\n",
       "        vertical-align: top;\n",
       "    }\n",
       "\n",
       "    .dataframe thead th {\n",
       "        text-align: right;\n",
       "    }\n",
       "</style>\n",
       "<table border=\"1\" class=\"dataframe\">\n",
       "  <thead>\n",
       "    <tr style=\"text-align: right;\">\n",
       "      <th></th>\n",
       "      <th>age</th>\n",
       "      <th>anaemia</th>\n",
       "      <th>creatinine_phosphokinase</th>\n",
       "      <th>diabetes</th>\n",
       "      <th>ejection_fraction</th>\n",
       "      <th>high_blood_pressure</th>\n",
       "      <th>platelets</th>\n",
       "      <th>serum_creatinine</th>\n",
       "      <th>serum_sodium</th>\n",
       "      <th>sex</th>\n",
       "      <th>smoking</th>\n",
       "      <th>time</th>\n",
       "      <th>DEATH_EVENT</th>\n",
       "    </tr>\n",
       "  </thead>\n",
       "  <tbody>\n",
       "    <tr>\n",
       "      <th>285</th>\n",
       "      <td>55.0</td>\n",
       "      <td>1</td>\n",
       "      <td>170</td>\n",
       "      <td>1</td>\n",
       "      <td>40</td>\n",
       "      <td>0</td>\n",
       "      <td>336000.00</td>\n",
       "      <td>1.20</td>\n",
       "      <td>135</td>\n",
       "      <td>1</td>\n",
       "      <td>0</td>\n",
       "      <td>250</td>\n",
       "      <td>0</td>\n",
       "    </tr>\n",
       "    <tr>\n",
       "      <th>166</th>\n",
       "      <td>53.0</td>\n",
       "      <td>0</td>\n",
       "      <td>196</td>\n",
       "      <td>0</td>\n",
       "      <td>60</td>\n",
       "      <td>0</td>\n",
       "      <td>220000.00</td>\n",
       "      <td>0.70</td>\n",
       "      <td>133</td>\n",
       "      <td>1</td>\n",
       "      <td>1</td>\n",
       "      <td>134</td>\n",
       "      <td>0</td>\n",
       "    </tr>\n",
       "    <tr>\n",
       "      <th>174</th>\n",
       "      <td>65.0</td>\n",
       "      <td>0</td>\n",
       "      <td>198</td>\n",
       "      <td>1</td>\n",
       "      <td>35</td>\n",
       "      <td>1</td>\n",
       "      <td>281000.00</td>\n",
       "      <td>0.90</td>\n",
       "      <td>137</td>\n",
       "      <td>1</td>\n",
       "      <td>1</td>\n",
       "      <td>146</td>\n",
       "      <td>0</td>\n",
       "    </tr>\n",
       "    <tr>\n",
       "      <th>102</th>\n",
       "      <td>80.0</td>\n",
       "      <td>0</td>\n",
       "      <td>898</td>\n",
       "      <td>0</td>\n",
       "      <td>25</td>\n",
       "      <td>0</td>\n",
       "      <td>149000.00</td>\n",
       "      <td>1.10</td>\n",
       "      <td>144</td>\n",
       "      <td>1</td>\n",
       "      <td>1</td>\n",
       "      <td>87</td>\n",
       "      <td>0</td>\n",
       "    </tr>\n",
       "    <tr>\n",
       "      <th>220</th>\n",
       "      <td>73.0</td>\n",
       "      <td>0</td>\n",
       "      <td>582</td>\n",
       "      <td>0</td>\n",
       "      <td>20</td>\n",
       "      <td>0</td>\n",
       "      <td>263358.03</td>\n",
       "      <td>1.83</td>\n",
       "      <td>134</td>\n",
       "      <td>1</td>\n",
       "      <td>0</td>\n",
       "      <td>198</td>\n",
       "      <td>1</td>\n",
       "    </tr>\n",
       "    <tr>\n",
       "      <th>...</th>\n",
       "      <td>...</td>\n",
       "      <td>...</td>\n",
       "      <td>...</td>\n",
       "      <td>...</td>\n",
       "      <td>...</td>\n",
       "      <td>...</td>\n",
       "      <td>...</td>\n",
       "      <td>...</td>\n",
       "      <td>...</td>\n",
       "      <td>...</td>\n",
       "      <td>...</td>\n",
       "      <td>...</td>\n",
       "      <td>...</td>\n",
       "    </tr>\n",
       "    <tr>\n",
       "      <th>279</th>\n",
       "      <td>55.0</td>\n",
       "      <td>0</td>\n",
       "      <td>84</td>\n",
       "      <td>1</td>\n",
       "      <td>38</td>\n",
       "      <td>0</td>\n",
       "      <td>451000.00</td>\n",
       "      <td>1.30</td>\n",
       "      <td>136</td>\n",
       "      <td>0</td>\n",
       "      <td>0</td>\n",
       "      <td>246</td>\n",
       "      <td>0</td>\n",
       "    </tr>\n",
       "    <tr>\n",
       "      <th>115</th>\n",
       "      <td>58.0</td>\n",
       "      <td>1</td>\n",
       "      <td>400</td>\n",
       "      <td>0</td>\n",
       "      <td>40</td>\n",
       "      <td>0</td>\n",
       "      <td>164000.00</td>\n",
       "      <td>1.00</td>\n",
       "      <td>139</td>\n",
       "      <td>0</td>\n",
       "      <td>0</td>\n",
       "      <td>91</td>\n",
       "      <td>0</td>\n",
       "    </tr>\n",
       "    <tr>\n",
       "      <th>158</th>\n",
       "      <td>85.0</td>\n",
       "      <td>1</td>\n",
       "      <td>910</td>\n",
       "      <td>0</td>\n",
       "      <td>50</td>\n",
       "      <td>0</td>\n",
       "      <td>235000.00</td>\n",
       "      <td>1.30</td>\n",
       "      <td>134</td>\n",
       "      <td>1</td>\n",
       "      <td>0</td>\n",
       "      <td>121</td>\n",
       "      <td>0</td>\n",
       "    </tr>\n",
       "    <tr>\n",
       "      <th>24</th>\n",
       "      <td>75.0</td>\n",
       "      <td>0</td>\n",
       "      <td>582</td>\n",
       "      <td>1</td>\n",
       "      <td>30</td>\n",
       "      <td>1</td>\n",
       "      <td>263358.03</td>\n",
       "      <td>1.83</td>\n",
       "      <td>134</td>\n",
       "      <td>0</td>\n",
       "      <td>0</td>\n",
       "      <td>23</td>\n",
       "      <td>1</td>\n",
       "    </tr>\n",
       "    <tr>\n",
       "      <th>245</th>\n",
       "      <td>61.0</td>\n",
       "      <td>1</td>\n",
       "      <td>80</td>\n",
       "      <td>1</td>\n",
       "      <td>38</td>\n",
       "      <td>0</td>\n",
       "      <td>282000.00</td>\n",
       "      <td>1.40</td>\n",
       "      <td>137</td>\n",
       "      <td>1</td>\n",
       "      <td>0</td>\n",
       "      <td>213</td>\n",
       "      <td>0</td>\n",
       "    </tr>\n",
       "  </tbody>\n",
       "</table>\n",
       "<p>239 rows × 13 columns</p>\n",
       "</div>"
      ],
      "text/plain": [
       "      age  anaemia  creatinine_phosphokinase  diabetes  ejection_fraction  \\\n",
       "285  55.0        1                       170         1                 40   \n",
       "166  53.0        0                       196         0                 60   \n",
       "174  65.0        0                       198         1                 35   \n",
       "102  80.0        0                       898         0                 25   \n",
       "220  73.0        0                       582         0                 20   \n",
       "..    ...      ...                       ...       ...                ...   \n",
       "279  55.0        0                        84         1                 38   \n",
       "115  58.0        1                       400         0                 40   \n",
       "158  85.0        1                       910         0                 50   \n",
       "24   75.0        0                       582         1                 30   \n",
       "245  61.0        1                        80         1                 38   \n",
       "\n",
       "     high_blood_pressure  platelets  serum_creatinine  serum_sodium  sex  \\\n",
       "285                    0  336000.00              1.20           135    1   \n",
       "166                    0  220000.00              0.70           133    1   \n",
       "174                    1  281000.00              0.90           137    1   \n",
       "102                    0  149000.00              1.10           144    1   \n",
       "220                    0  263358.03              1.83           134    1   \n",
       "..                   ...        ...               ...           ...  ...   \n",
       "279                    0  451000.00              1.30           136    0   \n",
       "115                    0  164000.00              1.00           139    0   \n",
       "158                    0  235000.00              1.30           134    1   \n",
       "24                     1  263358.03              1.83           134    0   \n",
       "245                    0  282000.00              1.40           137    1   \n",
       "\n",
       "     smoking  time  DEATH_EVENT  \n",
       "285        0   250            0  \n",
       "166        1   134            0  \n",
       "174        1   146            0  \n",
       "102        1    87            0  \n",
       "220        0   198            1  \n",
       "..       ...   ...          ...  \n",
       "279        0   246            0  \n",
       "115        0    91            0  \n",
       "158        0   121            0  \n",
       "24         0    23            1  \n",
       "245        0   213            0  \n",
       "\n",
       "[239 rows x 13 columns]"
      ]
     },
     "execution_count": 6,
     "metadata": {},
     "output_type": "execute_result"
    }
   ],
   "source": [
    "data = data.to_pandas_dataframe()\n",
    "x=data.drop('DEATH_EVENT',axis=1)\n",
    "y=data['DEATH_EVENT']\n",
    "\n",
    "##split into train and test datasets\n",
    "x_train, x_test, y_train, y_test= train_test_split(x, y, test_size=0.20)\n",
    "\n",
    "#concatenate to form train and test datasets \n",
    "train_df=pd.concat([x_train, y_train], axis=1)\n",
    "test_df=pd.concat([x_test, y_test], axis=1)\n",
    "\n",
    "train_df"
   ]
  },
  {
   "cell_type": "code",
   "execution_count": 7,
   "metadata": {},
   "outputs": [
    {
     "name": "stdout",
     "output_type": "stream",
     "text": [
      "Uploading an estimated of 2 files\n",
      "Uploading ./data/test_data.csv\n",
      "Uploaded ./data/test_data.csv, 1 files out of an estimated total of 2\n",
      "Uploading ./data/train_data.csv\n",
      "Uploaded ./data/train_data.csv, 2 files out of an estimated total of 2\n",
      "Uploaded 2 files\n"
     ]
    },
    {
     "data": {
      "text/plain": [
       "$AZUREML_DATAREFERENCE_3e0ea4b9875a4793b3a948812510aa6c"
      ]
     },
     "execution_count": 7,
     "metadata": {},
     "output_type": "execute_result"
    }
   ],
   "source": [
    "#save pandas dataframe as .csv and upload to datastore\n",
    "if not os.path.isdir('data'):\n",
    "    os.mkdir('data')\n",
    "pd.DataFrame(train_df).to_csv(\"data/train_data.csv\", index=False)\n",
    "pd.DataFrame(test_df).to_csv(\"data/test_data.csv\", index=False)\n",
    "\n",
    "ds = ws.get_default_datastore()\n",
    "ds.upload(src_dir='./data', target_path='heart-failure', overwrite=True, show_progress=True)"
   ]
  },
  {
   "cell_type": "code",
   "execution_count": 8,
   "metadata": {},
   "outputs": [],
   "source": [
    "#Load dataset as TabularDataset\n",
    "train_data = Dataset.Tabular.from_delimited_files(path=ds.path('heart-failure/train_data.csv'))"
   ]
  },
  {
   "cell_type": "code",
   "execution_count": 9,
   "metadata": {},
   "outputs": [
    {
     "data": {
      "text/plain": [
       "['norm_macro_recall',\n",
       " 'AUC_weighted',\n",
       " 'precision_score_weighted',\n",
       " 'accuracy',\n",
       " 'average_precision_score_weighted']"
      ]
     },
     "execution_count": 9,
     "metadata": {},
     "output_type": "execute_result"
    }
   ],
   "source": [
    "get_primary_metrics(\"classification\")"
   ]
  },
  {
   "cell_type": "markdown",
   "metadata": {},
   "source": [
    "## AutoML Configuration\n",
    "The AutoML Config class is a way of leveraging the AutoML SDK to automate machine learning. \n",
    "\n",
    "The AutoML settings file is a dictionary that specifies all the parameters controlling the experiment like experiment_timeout_minutes, whether or not to enable early stoppong, number of cross validations, the primary metric, etc.\n",
    "\n",
    "In the AutoML Config, we specify the task, the training data to be used, the target column name, the compute target and we pass the automl settings dictionary."
   ]
  },
  {
   "cell_type": "code",
   "execution_count": 11,
   "metadata": {
    "gather": {
     "logged": 1598429217746
    },
    "jupyter": {
     "outputs_hidden": false,
     "source_hidden": false
    },
    "nteract": {
     "transient": {
      "deleting": false
     }
    }
   },
   "outputs": [],
   "source": [
    "# automl settings \n",
    "automl_settings = {\n",
    "    \"enable_early_stopping\" : True,\n",
    "    \"experiment_timeout_minutes\": 30,\n",
    "    \"n_cross_validations\": 4,\n",
    "    \"featurization\": 'auto',\n",
    "    \"primary_metric\": 'accuracy',\n",
    "    \"verbosity\": logging.INFO\n",
    "}\n",
    "\n",
    "# automl config \n",
    "automl_config = AutoMLConfig(\n",
    "    task='classification',\n",
    "    debug_log = 'automl_errors.log',\n",
    "    training_data=train_data,\n",
    "    label_column_name='DEATH_EVENT',\n",
    "    compute_target=compute_cluster,\n",
    "    **automl_settings\n",
    ")"
   ]
  },
  {
   "cell_type": "code",
   "execution_count": 12,
   "metadata": {
    "gather": {
     "logged": 1598431107951
    },
    "jupyter": {
     "outputs_hidden": false,
     "source_hidden": false
    },
    "nteract": {
     "transient": {
      "deleting": false
     }
    }
   },
   "outputs": [
    {
     "name": "stdout",
     "output_type": "stream",
     "text": [
      "Running on remote.\n"
     ]
    }
   ],
   "source": [
    "# Submit your experiment\n",
    "remote_run = experiment.submit(automl_config)"
   ]
  },
  {
   "cell_type": "markdown",
   "metadata": {},
   "source": [
    "## Run Details"
   ]
  },
  {
   "cell_type": "code",
   "execution_count": 13,
   "metadata": {
    "gather": {
     "logged": 1598431121770
    },
    "jupyter": {
     "outputs_hidden": false,
     "source_hidden": false
    },
    "nteract": {
     "transient": {
      "deleting": false
     }
    }
   },
   "outputs": [
    {
     "data": {
      "application/vnd.jupyter.widget-view+json": {
       "model_id": "6e8d012d4b2743489463215554a680e4",
       "version_major": 2,
       "version_minor": 0
      },
      "text/plain": [
       "_AutoMLWidget(widget_settings={'childWidgetDisplay': 'popup', 'send_telemetry': False, 'log_level': 'INFO', 's…"
      ]
     },
     "metadata": {},
     "output_type": "display_data"
    },
    {
     "data": {
      "application/aml.mini.widget.v1": "{\"status\": \"Completed\", \"workbench_run_details_uri\": \"https://ml.azure.com/experiments/heart-failure-automl/runs/AutoML_3e325779-ff8d-4e8c-8f0b-9a482989a051?wsid=/subscriptions/510b94ba-e453-4417-988b-fbdc37b55ca7/resourcegroups/aml-quickstarts-138577/workspaces/quick-starts-ws-138577\", \"run_id\": \"AutoML_3e325779-ff8d-4e8c-8f0b-9a482989a051\", \"run_properties\": {\"run_id\": \"AutoML_3e325779-ff8d-4e8c-8f0b-9a482989a051\", \"created_utc\": \"2021-02-11T14:14:38.333729Z\", \"properties\": {\"num_iterations\": \"1000\", \"training_type\": \"TrainFull\", \"acquisition_function\": \"EI\", \"primary_metric\": \"accuracy\", \"train_split\": \"0\", \"acquisition_parameter\": \"0\", \"num_cross_validation\": \"4\", \"target\": \"cpu-compute\", \"AMLSettingsJsonString\": \"{\\\"path\\\":null,\\\"name\\\":\\\"heart-failure-automl\\\",\\\"subscription_id\\\":\\\"510b94ba-e453-4417-988b-fbdc37b55ca7\\\",\\\"resource_group\\\":\\\"aml-quickstarts-138577\\\",\\\"workspace_name\\\":\\\"quick-starts-ws-138577\\\",\\\"region\\\":\\\"southcentralus\\\",\\\"compute_target\\\":\\\"cpu-compute\\\",\\\"spark_service\\\":null,\\\"azure_service\\\":\\\"remote\\\",\\\"many_models\\\":false,\\\"pipeline_fetch_max_batch_size\\\":1,\\\"iterations\\\":1000,\\\"primary_metric\\\":\\\"accuracy\\\",\\\"task_type\\\":\\\"classification\\\",\\\"data_script\\\":null,\\\"validation_size\\\":0.0,\\\"n_cross_validations\\\":4,\\\"y_min\\\":null,\\\"y_max\\\":null,\\\"num_classes\\\":null,\\\"featurization\\\":\\\"auto\\\",\\\"_ignore_package_version_incompatibilities\\\":false,\\\"is_timeseries\\\":false,\\\"max_cores_per_iteration\\\":1,\\\"max_concurrent_iterations\\\":1,\\\"iteration_timeout_minutes\\\":null,\\\"mem_in_mb\\\":null,\\\"enforce_time_on_windows\\\":false,\\\"experiment_timeout_minutes\\\":30,\\\"experiment_exit_score\\\":null,\\\"whitelist_models\\\":null,\\\"blacklist_algos\\\":[\\\"TensorFlowLinearClassifier\\\",\\\"TensorFlowDNN\\\"],\\\"supported_models\\\":[\\\"RandomForest\\\",\\\"AveragedPerceptronClassifier\\\",\\\"TensorFlowDNN\\\",\\\"ExtremeRandomTrees\\\",\\\"DecisionTree\\\",\\\"MultinomialNaiveBayes\\\",\\\"KNN\\\",\\\"SVM\\\",\\\"LinearSVM\\\",\\\"LightGBM\\\",\\\"LogisticRegression\\\",\\\"SGD\\\",\\\"BernoulliNaiveBayes\\\",\\\"TensorFlowLinearClassifier\\\",\\\"XGBoostClassifier\\\",\\\"GradientBoosting\\\"],\\\"auto_blacklist\\\":true,\\\"blacklist_samples_reached\\\":false,\\\"exclude_nan_labels\\\":true,\\\"verbosity\\\":20,\\\"_debug_log\\\":\\\"azureml_automl.log\\\",\\\"show_warnings\\\":false,\\\"model_explainability\\\":true,\\\"service_url\\\":null,\\\"sdk_url\\\":null,\\\"sdk_packages\\\":null,\\\"enable_onnx_compatible_models\\\":false,\\\"enable_split_onnx_featurizer_estimator_models\\\":false,\\\"vm_type\\\":\\\"STANDARD_D2_V2\\\",\\\"telemetry_verbosity\\\":20,\\\"send_telemetry\\\":true,\\\"enable_dnn\\\":false,\\\"scenario\\\":\\\"SDK-1.13.0\\\",\\\"environment_label\\\":null,\\\"force_text_dnn\\\":false,\\\"enable_feature_sweeping\\\":true,\\\"enable_early_stopping\\\":true,\\\"early_stopping_n_iters\\\":10,\\\"metrics\\\":null,\\\"enable_ensembling\\\":true,\\\"enable_stack_ensembling\\\":true,\\\"ensemble_iterations\\\":15,\\\"enable_tf\\\":false,\\\"enable_subsampling\\\":null,\\\"subsample_seed\\\":null,\\\"enable_nimbusml\\\":false,\\\"enable_streaming\\\":false,\\\"force_streaming\\\":false,\\\"track_child_runs\\\":true,\\\"allowed_private_models\\\":[],\\\"label_column_name\\\":\\\"DEATH_EVENT\\\",\\\"weight_column_name\\\":null,\\\"cv_split_column_names\\\":null,\\\"enable_local_managed\\\":false,\\\"_local_managed_run_id\\\":null,\\\"cost_mode\\\":1,\\\"lag_length\\\":0,\\\"metric_operation\\\":\\\"maximize\\\",\\\"preprocess\\\":true}\", \"DataPrepJsonString\": \"{\\\\\\\"training_data\\\\\\\": \\\\\\\"{\\\\\\\\\\\\\\\"blocks\\\\\\\\\\\\\\\": [{\\\\\\\\\\\\\\\"id\\\\\\\\\\\\\\\": \\\\\\\\\\\\\\\"66350aaa-24ce-49a4-90ac-6a78e9505d6b\\\\\\\\\\\\\\\", \\\\\\\\\\\\\\\"type\\\\\\\\\\\\\\\": \\\\\\\\\\\\\\\"Microsoft.DPrep.GetDatastoreFilesBlock\\\\\\\\\\\\\\\", \\\\\\\\\\\\\\\"arguments\\\\\\\\\\\\\\\": {\\\\\\\\\\\\\\\"datastores\\\\\\\\\\\\\\\": [{\\\\\\\\\\\\\\\"datastoreName\\\\\\\\\\\\\\\": \\\\\\\\\\\\\\\"workspaceblobstore\\\\\\\\\\\\\\\", \\\\\\\\\\\\\\\"path\\\\\\\\\\\\\\\": \\\\\\\\\\\\\\\"heart-failure/train_data.csv\\\\\\\\\\\\\\\", \\\\\\\\\\\\\\\"resourceGroup\\\\\\\\\\\\\\\": \\\\\\\\\\\\\\\"aml-quickstarts-138577\\\\\\\\\\\\\\\", \\\\\\\\\\\\\\\"subscription\\\\\\\\\\\\\\\": \\\\\\\\\\\\\\\"510b94ba-e453-4417-988b-fbdc37b55ca7\\\\\\\\\\\\\\\", \\\\\\\\\\\\\\\"workspaceName\\\\\\\\\\\\\\\": \\\\\\\\\\\\\\\"quick-starts-ws-138577\\\\\\\\\\\\\\\"}]}, \\\\\\\\\\\\\\\"localData\\\\\\\\\\\\\\\": {}, \\\\\\\\\\\\\\\"isEnabled\\\\\\\\\\\\\\\": true, \\\\\\\\\\\\\\\"name\\\\\\\\\\\\\\\": null, \\\\\\\\\\\\\\\"annotation\\\\\\\\\\\\\\\": null}, {\\\\\\\\\\\\\\\"id\\\\\\\\\\\\\\\": \\\\\\\\\\\\\\\"dafd89f7-8b45-4dae-bc92-35b16e190003\\\\\\\\\\\\\\\", \\\\\\\\\\\\\\\"type\\\\\\\\\\\\\\\": \\\\\\\\\\\\\\\"Microsoft.DPrep.ParseDelimitedBlock\\\\\\\\\\\\\\\", \\\\\\\\\\\\\\\"arguments\\\\\\\\\\\\\\\": {\\\\\\\\\\\\\\\"columnHeadersMode\\\\\\\\\\\\\\\": 3, \\\\\\\\\\\\\\\"fileEncoding\\\\\\\\\\\\\\\": 0, \\\\\\\\\\\\\\\"handleQuotedLineBreaks\\\\\\\\\\\\\\\": false, \\\\\\\\\\\\\\\"preview\\\\\\\\\\\\\\\": false, \\\\\\\\\\\\\\\"separator\\\\\\\\\\\\\\\": \\\\\\\\\\\\\\\",\\\\\\\\\\\\\\\", \\\\\\\\\\\\\\\"skipRows\\\\\\\\\\\\\\\": 0, \\\\\\\\\\\\\\\"skipRowsMode\\\\\\\\\\\\\\\": 0}, \\\\\\\\\\\\\\\"localData\\\\\\\\\\\\\\\": {}, \\\\\\\\\\\\\\\"isEnabled\\\\\\\\\\\\\\\": true, \\\\\\\\\\\\\\\"name\\\\\\\\\\\\\\\": null, \\\\\\\\\\\\\\\"annotation\\\\\\\\\\\\\\\": null}, {\\\\\\\\\\\\\\\"id\\\\\\\\\\\\\\\": \\\\\\\\\\\\\\\"07cbbb27-c1a1-43a6-95fe-6deabc4f6025\\\\\\\\\\\\\\\", \\\\\\\\\\\\\\\"type\\\\\\\\\\\\\\\": \\\\\\\\\\\\\\\"Microsoft.DPrep.DropColumnsBlock\\\\\\\\\\\\\\\", \\\\\\\\\\\\\\\"arguments\\\\\\\\\\\\\\\": {\\\\\\\\\\\\\\\"columns\\\\\\\\\\\\\\\": {\\\\\\\\\\\\\\\"type\\\\\\\\\\\\\\\": 0, \\\\\\\\\\\\\\\"details\\\\\\\\\\\\\\\": {\\\\\\\\\\\\\\\"selectedColumns\\\\\\\\\\\\\\\": [\\\\\\\\\\\\\\\"Path\\\\\\\\\\\\\\\"]}}}, \\\\\\\\\\\\\\\"localData\\\\\\\\\\\\\\\": {}, \\\\\\\\\\\\\\\"isEnabled\\\\\\\\\\\\\\\": true, \\\\\\\\\\\\\\\"name\\\\\\\\\\\\\\\": null, \\\\\\\\\\\\\\\"annotation\\\\\\\\\\\\\\\": null}, {\\\\\\\\\\\\\\\"id\\\\\\\\\\\\\\\": \\\\\\\\\\\\\\\"fdc4dac1-a4de-4507-8ec2-03d3d58ff264\\\\\\\\\\\\\\\", \\\\\\\\\\\\\\\"type\\\\\\\\\\\\\\\": \\\\\\\\\\\\\\\"Microsoft.DPrep.SetColumnTypesBlock\\\\\\\\\\\\\\\", \\\\\\\\\\\\\\\"arguments\\\\\\\\\\\\\\\": {\\\\\\\\\\\\\\\"columnConversion\\\\\\\\\\\\\\\": [{\\\\\\\\\\\\\\\"column\\\\\\\\\\\\\\\": {\\\\\\\\\\\\\\\"type\\\\\\\\\\\\\\\": 2, \\\\\\\\\\\\\\\"details\\\\\\\\\\\\\\\": {\\\\\\\\\\\\\\\"selectedColumn\\\\\\\\\\\\\\\": \\\\\\\\\\\\\\\"age\\\\\\\\\\\\\\\"}}, \\\\\\\\\\\\\\\"typeProperty\\\\\\\\\\\\\\\": 3}, {\\\\\\\\\\\\\\\"column\\\\\\\\\\\\\\\": {\\\\\\\\\\\\\\\"type\\\\\\\\\\\\\\\": 2, \\\\\\\\\\\\\\\"details\\\\\\\\\\\\\\\": {\\\\\\\\\\\\\\\"selectedColumn\\\\\\\\\\\\\\\": \\\\\\\\\\\\\\\"anaemia\\\\\\\\\\\\\\\"}}, \\\\\\\\\\\\\\\"typeProperty\\\\\\\\\\\\\\\": 2}, {\\\\\\\\\\\\\\\"column\\\\\\\\\\\\\\\": {\\\\\\\\\\\\\\\"type\\\\\\\\\\\\\\\": 2, \\\\\\\\\\\\\\\"details\\\\\\\\\\\\\\\": {\\\\\\\\\\\\\\\"selectedColumn\\\\\\\\\\\\\\\": \\\\\\\\\\\\\\\"creatinine_phosphokinase\\\\\\\\\\\\\\\"}}, \\\\\\\\\\\\\\\"typeProperty\\\\\\\\\\\\\\\": 2}, {\\\\\\\\\\\\\\\"column\\\\\\\\\\\\\\\": {\\\\\\\\\\\\\\\"type\\\\\\\\\\\\\\\": 2, \\\\\\\\\\\\\\\"details\\\\\\\\\\\\\\\": {\\\\\\\\\\\\\\\"selectedColumn\\\\\\\\\\\\\\\": \\\\\\\\\\\\\\\"diabetes\\\\\\\\\\\\\\\"}}, \\\\\\\\\\\\\\\"typeProperty\\\\\\\\\\\\\\\": 2}, {\\\\\\\\\\\\\\\"column\\\\\\\\\\\\\\\": {\\\\\\\\\\\\\\\"type\\\\\\\\\\\\\\\": 2, \\\\\\\\\\\\\\\"details\\\\\\\\\\\\\\\": {\\\\\\\\\\\\\\\"selectedColumn\\\\\\\\\\\\\\\": \\\\\\\\\\\\\\\"ejection_fraction\\\\\\\\\\\\\\\"}}, \\\\\\\\\\\\\\\"typeProperty\\\\\\\\\\\\\\\": 2}, {\\\\\\\\\\\\\\\"column\\\\\\\\\\\\\\\": {\\\\\\\\\\\\\\\"type\\\\\\\\\\\\\\\": 2, \\\\\\\\\\\\\\\"details\\\\\\\\\\\\\\\": {\\\\\\\\\\\\\\\"selectedColumn\\\\\\\\\\\\\\\": \\\\\\\\\\\\\\\"high_blood_pressure\\\\\\\\\\\\\\\"}}, \\\\\\\\\\\\\\\"typeProperty\\\\\\\\\\\\\\\": 2}, {\\\\\\\\\\\\\\\"column\\\\\\\\\\\\\\\": {\\\\\\\\\\\\\\\"type\\\\\\\\\\\\\\\": 2, \\\\\\\\\\\\\\\"details\\\\\\\\\\\\\\\": {\\\\\\\\\\\\\\\"selectedColumn\\\\\\\\\\\\\\\": \\\\\\\\\\\\\\\"platelets\\\\\\\\\\\\\\\"}}, \\\\\\\\\\\\\\\"typeProperty\\\\\\\\\\\\\\\": 3}, {\\\\\\\\\\\\\\\"column\\\\\\\\\\\\\\\": {\\\\\\\\\\\\\\\"type\\\\\\\\\\\\\\\": 2, \\\\\\\\\\\\\\\"details\\\\\\\\\\\\\\\": {\\\\\\\\\\\\\\\"selectedColumn\\\\\\\\\\\\\\\": \\\\\\\\\\\\\\\"serum_creatinine\\\\\\\\\\\\\\\"}}, \\\\\\\\\\\\\\\"typeProperty\\\\\\\\\\\\\\\": 3}, {\\\\\\\\\\\\\\\"column\\\\\\\\\\\\\\\": {\\\\\\\\\\\\\\\"type\\\\\\\\\\\\\\\": 2, \\\\\\\\\\\\\\\"details\\\\\\\\\\\\\\\": {\\\\\\\\\\\\\\\"selectedColumn\\\\\\\\\\\\\\\": \\\\\\\\\\\\\\\"serum_sodium\\\\\\\\\\\\\\\"}}, \\\\\\\\\\\\\\\"typeProperty\\\\\\\\\\\\\\\": 2}, {\\\\\\\\\\\\\\\"column\\\\\\\\\\\\\\\": {\\\\\\\\\\\\\\\"type\\\\\\\\\\\\\\\": 2, \\\\\\\\\\\\\\\"details\\\\\\\\\\\\\\\": {\\\\\\\\\\\\\\\"selectedColumn\\\\\\\\\\\\\\\": \\\\\\\\\\\\\\\"sex\\\\\\\\\\\\\\\"}}, \\\\\\\\\\\\\\\"typeProperty\\\\\\\\\\\\\\\": 2}, {\\\\\\\\\\\\\\\"column\\\\\\\\\\\\\\\": {\\\\\\\\\\\\\\\"type\\\\\\\\\\\\\\\": 2, \\\\\\\\\\\\\\\"details\\\\\\\\\\\\\\\": {\\\\\\\\\\\\\\\"selectedColumn\\\\\\\\\\\\\\\": \\\\\\\\\\\\\\\"smoking\\\\\\\\\\\\\\\"}}, \\\\\\\\\\\\\\\"typeProperty\\\\\\\\\\\\\\\": 2}, {\\\\\\\\\\\\\\\"column\\\\\\\\\\\\\\\": {\\\\\\\\\\\\\\\"type\\\\\\\\\\\\\\\": 2, \\\\\\\\\\\\\\\"details\\\\\\\\\\\\\\\": {\\\\\\\\\\\\\\\"selectedColumn\\\\\\\\\\\\\\\": \\\\\\\\\\\\\\\"time\\\\\\\\\\\\\\\"}}, \\\\\\\\\\\\\\\"typeProperty\\\\\\\\\\\\\\\": 2}, {\\\\\\\\\\\\\\\"column\\\\\\\\\\\\\\\": {\\\\\\\\\\\\\\\"type\\\\\\\\\\\\\\\": 2, \\\\\\\\\\\\\\\"details\\\\\\\\\\\\\\\": {\\\\\\\\\\\\\\\"selectedColumn\\\\\\\\\\\\\\\": \\\\\\\\\\\\\\\"DEATH_EVENT\\\\\\\\\\\\\\\"}}, \\\\\\\\\\\\\\\"typeProperty\\\\\\\\\\\\\\\": 2}]}, \\\\\\\\\\\\\\\"localData\\\\\\\\\\\\\\\": {}, \\\\\\\\\\\\\\\"isEnabled\\\\\\\\\\\\\\\": true, \\\\\\\\\\\\\\\"name\\\\\\\\\\\\\\\": null, \\\\\\\\\\\\\\\"annotation\\\\\\\\\\\\\\\": null}], \\\\\\\\\\\\\\\"inspectors\\\\\\\\\\\\\\\": [], \\\\\\\\\\\\\\\"meta\\\\\\\\\\\\\\\": {\\\\\\\\\\\\\\\"savedDatasetId\\\\\\\\\\\\\\\": \\\\\\\\\\\\\\\"0ad846c5-73c0-4eb3-b364-86ccedc9e4b3\\\\\\\\\\\\\\\", \\\\\\\\\\\\\\\"datasetType\\\\\\\\\\\\\\\": \\\\\\\\\\\\\\\"tabular\\\\\\\\\\\\\\\", \\\\\\\\\\\\\\\"subscriptionId\\\\\\\\\\\\\\\": \\\\\\\\\\\\\\\"510b94ba-e453-4417-988b-fbdc37b55ca7\\\\\\\\\\\\\\\", \\\\\\\\\\\\\\\"workspaceId\\\\\\\\\\\\\\\": \\\\\\\\\\\\\\\"df91d210-721a-4cb7-90b1-19aaae6037ff\\\\\\\\\\\\\\\", \\\\\\\\\\\\\\\"workspaceLocation\\\\\\\\\\\\\\\": \\\\\\\\\\\\\\\"southcentralus\\\\\\\\\\\\\\\"}}\\\\\\\", \\\\\\\"activities\\\\\\\": 0}\", \"EnableSubsampling\": null, \"runTemplate\": \"AutoML\", \"azureml.runsource\": \"automl\", \"display_task_type\": \"classification\", \"dependencies_versions\": \"{\\\"azureml-widgets\\\": \\\"1.20.0\\\", \\\"azureml-train\\\": \\\"1.20.0\\\", \\\"azureml-train-restclients-hyperdrive\\\": \\\"1.20.0\\\", \\\"azureml-train-core\\\": \\\"1.20.0\\\", \\\"azureml-train-automl\\\": \\\"1.20.0\\\", \\\"azureml-train-automl-runtime\\\": \\\"1.20.0\\\", \\\"azureml-train-automl-client\\\": \\\"1.20.0\\\", \\\"azureml-tensorboard\\\": \\\"1.20.0\\\", \\\"azureml-telemetry\\\": \\\"1.20.0\\\", \\\"azureml-sdk\\\": \\\"1.20.0\\\", \\\"azureml-samples\\\": \\\"0+unknown\\\", \\\"azureml-pipeline\\\": \\\"1.20.0\\\", \\\"azureml-pipeline-steps\\\": \\\"1.20.0\\\", \\\"azureml-pipeline-core\\\": \\\"1.20.0\\\", \\\"azureml-opendatasets\\\": \\\"1.20.0\\\", \\\"azureml-model-management-sdk\\\": \\\"1.0.1b6.post1\\\", \\\"azureml-mlflow\\\": \\\"1.20.0.post1\\\", \\\"azureml-interpret\\\": \\\"1.20.0\\\", \\\"azureml-explain-model\\\": \\\"1.20.0\\\", \\\"azureml-defaults\\\": \\\"1.20.0\\\", \\\"azureml-dataset-runtime\\\": \\\"1.20.0\\\", \\\"azureml-dataprep\\\": \\\"2.7.3\\\", \\\"azureml-dataprep-rslex\\\": \\\"1.5.0\\\", \\\"azureml-dataprep-native\\\": \\\"27.0.0\\\", \\\"azureml-datadrift\\\": \\\"1.20.0\\\", \\\"azureml-core\\\": \\\"1.20.0\\\", \\\"azureml-contrib-services\\\": \\\"1.20.0\\\", \\\"azureml-contrib-server\\\": \\\"1.20.0\\\", \\\"azureml-contrib-reinforcementlearning\\\": \\\"1.20.0\\\", \\\"azureml-contrib-pipeline-steps\\\": \\\"1.20.0\\\", \\\"azureml-contrib-notebook\\\": \\\"1.20.0\\\", \\\"azureml-contrib-interpret\\\": \\\"1.20.0\\\", \\\"azureml-contrib-gbdt\\\": \\\"1.20.0\\\", \\\"azureml-contrib-fairness\\\": \\\"1.20.0\\\", \\\"azureml-contrib-dataset\\\": \\\"1.20.0\\\", \\\"azureml-cli-common\\\": \\\"1.20.0\\\", \\\"azureml-automl-runtime\\\": \\\"1.20.0\\\", \\\"azureml-automl-core\\\": \\\"1.20.0\\\", \\\"azureml-accel-models\\\": \\\"1.20.0\\\"}\", \"_aml_system_scenario_identification\": \"Remote.Parent\", \"ClientType\": \"SDK\", \"environment_cpu_name\": \"AzureML-AutoML\", \"environment_cpu_label\": \"prod\", \"environment_gpu_name\": \"AzureML-AutoML-GPU\", \"environment_gpu_label\": \"prod\", \"root_attribution\": \"automl\", \"attribution\": \"AutoML\", \"Orchestrator\": \"AutoML\", \"CancelUri\": \"https://southcentralus.experiments.azureml.net/jasmine/v1.0/subscriptions/510b94ba-e453-4417-988b-fbdc37b55ca7/resourceGroups/aml-quickstarts-138577/providers/Microsoft.MachineLearningServices/workspaces/quick-starts-ws-138577/experimentids/d9fea18c-76b2-4c91-a316-551d4afd2a67/cancel/AutoML_3e325779-ff8d-4e8c-8f0b-9a482989a051\", \"ClientSdkVersion\": \"1.21.0\", \"snapshotId\": \"00000000-0000-0000-0000-000000000000\", \"SetupRunId\": \"AutoML_3e325779-ff8d-4e8c-8f0b-9a482989a051_setup\", \"SetupRunContainerId\": \"dcid.AutoML_3e325779-ff8d-4e8c-8f0b-9a482989a051_setup\", \"FeaturizationRunJsonPath\": \"featurizer_container.json\", \"FeaturizationRunId\": \"AutoML_3e325779-ff8d-4e8c-8f0b-9a482989a051_featurize\", \"ProblemInfoJsonString\": \"{\\\"dataset_num_categorical\\\": 0, \\\"is_sparse\\\": false, \\\"subsampling\\\": false, \\\"dataset_classes\\\": 2, \\\"dataset_features\\\": 12, \\\"dataset_samples\\\": 239, \\\"single_frequency_class_detected\\\": false}\", \"ModelExplainRunId\": \"AutoML_3e325779-ff8d-4e8c-8f0b-9a482989a051_ModelExplain\"}, \"tags\": {\"model_explain_run\": \"best_run\", \"_aml_system_azureml.automlComponent\": \"AutoML\", \"pipeline_id\": \"\", \"score\": \"\", \"predicted_cost\": \"\", \"fit_time\": \"\", \"training_percent\": \"\", \"iteration\": \"\", \"run_preprocessor\": \"\", \"run_algorithm\": \"\", \"dynamic_whitelisting_iterations\": \"<25>;\", \"automl_best_child_run_id\": \"AutoML_3e325779-ff8d-4e8c-8f0b-9a482989a051_26\", \"model_explain_best_run_child_id\": \"AutoML_3e325779-ff8d-4e8c-8f0b-9a482989a051_26\"}, \"end_time_utc\": \"2021-02-11T14:56:21.589808Z\", \"status\": \"Completed\", \"log_files\": {}, \"log_groups\": [], \"run_duration\": \"0:41:43\"}, \"child_runs\": [{\"run_id\": \"AutoML_3e325779-ff8d-4e8c-8f0b-9a482989a051_0\", \"run_number\": 6, \"metric\": null, \"status\": \"Completed\", \"run_type\": \"azureml.scriptrun\", \"training_percent\": \"100\", \"start_time\": \"2021-02-11T14:23:23.707969Z\", \"end_time\": \"2021-02-11T14:24:19.325454Z\", \"created_time\": \"2021-02-11T14:23:08.180819Z\", \"created_time_dt\": \"2021-02-11T14:23:08.180819Z\", \"duration\": \"0:01:11\", \"iteration\": \"0\", \"goal\": \"accuracy_max\", \"run_name\": \"MaxAbsScaler, LightGBM\", \"run_properties\": \"copy=True\", \"primary_metric\": 0.83262712, \"best_metric\": 0.83262712}, {\"run_id\": \"AutoML_3e325779-ff8d-4e8c-8f0b-9a482989a051_1\", \"run_number\": 7, \"metric\": null, \"status\": \"Completed\", \"run_type\": \"azureml.scriptrun\", \"training_percent\": \"100\", \"start_time\": \"2021-02-11T14:24:34.503377Z\", \"end_time\": \"2021-02-11T14:25:29.670466Z\", \"created_time\": \"2021-02-11T14:24:20.323383Z\", \"created_time_dt\": \"2021-02-11T14:24:20.323383Z\", \"duration\": \"0:01:09\", \"iteration\": \"1\", \"goal\": \"accuracy_max\", \"run_name\": \"MaxAbsScaler, XGBoostClassifier\", \"run_properties\": \"copy=True\", \"primary_metric\": 0.85353107, \"best_metric\": 0.85353107}, {\"run_id\": \"AutoML_3e325779-ff8d-4e8c-8f0b-9a482989a051_2\", \"run_number\": 8, \"metric\": null, \"status\": \"Completed\", \"run_type\": \"azureml.scriptrun\", \"training_percent\": \"100\", \"start_time\": \"2021-02-11T14:25:42.242693Z\", \"end_time\": \"2021-02-11T14:26:34.089905Z\", \"created_time\": \"2021-02-11T14:25:30.876962Z\", \"created_time_dt\": \"2021-02-11T14:25:30.876962Z\", \"duration\": \"0:01:03\", \"iteration\": \"2\", \"goal\": \"accuracy_max\", \"run_name\": \"MinMaxScaler, RandomForest\", \"run_properties\": \"copy=True, feature_range=(0, 1\", \"primary_metric\": 0.87443503, \"best_metric\": 0.87443503}, {\"run_id\": \"AutoML_3e325779-ff8d-4e8c-8f0b-9a482989a051_3\", \"run_number\": 9, \"metric\": null, \"status\": \"Completed\", \"run_type\": \"azureml.scriptrun\", \"training_percent\": \"100\", \"start_time\": \"2021-02-11T14:26:49.347825Z\", \"end_time\": \"2021-02-11T14:27:41.868701Z\", \"created_time\": \"2021-02-11T14:26:36.358816Z\", \"created_time_dt\": \"2021-02-11T14:26:36.358816Z\", \"duration\": \"0:01:05\", \"iteration\": \"3\", \"goal\": \"accuracy_max\", \"run_name\": \"MinMaxScaler, RandomForest\", \"run_properties\": \"copy=True, feature_range=(0, 1\", \"primary_metric\": 0.84964689, \"best_metric\": 0.87443503}, {\"run_id\": \"AutoML_3e325779-ff8d-4e8c-8f0b-9a482989a051_4\", \"run_number\": 10, \"metric\": null, \"status\": \"Completed\", \"run_type\": \"azureml.scriptrun\", \"training_percent\": \"100\", \"start_time\": \"2021-02-11T14:27:55.369513Z\", \"end_time\": \"2021-02-11T14:28:49.820847Z\", \"created_time\": \"2021-02-11T14:27:44.016147Z\", \"created_time_dt\": \"2021-02-11T14:27:44.016147Z\", \"duration\": \"0:01:05\", \"iteration\": \"4\", \"goal\": \"accuracy_max\", \"run_name\": \"MinMaxScaler, RandomForest\", \"run_properties\": \"copy=True, feature_range=(0, 1\", \"primary_metric\": 0.84519774, \"best_metric\": 0.87443503}, {\"run_id\": \"AutoML_3e325779-ff8d-4e8c-8f0b-9a482989a051_5\", \"run_number\": 11, \"metric\": null, \"status\": \"Completed\", \"run_type\": \"azureml.scriptrun\", \"training_percent\": \"100\", \"start_time\": \"2021-02-11T14:29:05.653945Z\", \"end_time\": \"2021-02-11T14:29:51.767927Z\", \"created_time\": \"2021-02-11T14:28:52.986734Z\", \"created_time_dt\": \"2021-02-11T14:28:52.986734Z\", \"duration\": \"0:00:58\", \"iteration\": \"5\", \"goal\": \"accuracy_max\", \"run_name\": \"MinMaxScaler, SVM\", \"run_properties\": \"copy=True, feature_range=(0, 1\", \"primary_metric\": 0.71560734, \"best_metric\": 0.87443503}, {\"run_id\": \"AutoML_3e325779-ff8d-4e8c-8f0b-9a482989a051_6\", \"run_number\": 12, \"metric\": null, \"status\": \"Completed\", \"run_type\": \"azureml.scriptrun\", \"training_percent\": \"100\", \"start_time\": \"2021-02-11T14:30:09.506Z\", \"end_time\": \"2021-02-11T14:31:04.577472Z\", \"created_time\": \"2021-02-11T14:29:54.895275Z\", \"created_time_dt\": \"2021-02-11T14:29:54.895275Z\", \"duration\": \"0:01:09\", \"iteration\": \"6\", \"goal\": \"accuracy_max\", \"run_name\": \"MaxAbsScaler, GradientBoosting\", \"run_properties\": \"copy=True\", \"primary_metric\": 0.85353107, \"best_metric\": 0.87443503}, {\"run_id\": \"AutoML_3e325779-ff8d-4e8c-8f0b-9a482989a051_7\", \"run_number\": 13, \"metric\": null, \"status\": \"Completed\", \"run_type\": \"azureml.scriptrun\", \"training_percent\": \"100\", \"start_time\": \"2021-02-11T14:31:20.020271Z\", \"end_time\": \"2021-02-11T14:32:08.656096Z\", \"created_time\": \"2021-02-11T14:31:07.495368Z\", \"created_time_dt\": \"2021-02-11T14:31:07.495368Z\", \"duration\": \"0:01:01\", \"iteration\": \"7\", \"goal\": \"accuracy_max\", \"run_name\": \"SparseNormalizer, LightGBM\", \"run_properties\": \"<azureml.automl.runtime.shared.model_wrappers.SparseNormalizer object at 0x7f97c282ff60\", \"primary_metric\": 0.74096045, \"best_metric\": 0.87443503}, {\"run_id\": \"AutoML_3e325779-ff8d-4e8c-8f0b-9a482989a051_8\", \"run_number\": 14, \"metric\": null, \"status\": \"Completed\", \"run_type\": \"azureml.scriptrun\", \"training_percent\": \"100\", \"start_time\": \"2021-02-11T14:32:22.868341Z\", \"end_time\": \"2021-02-11T14:33:16.585635Z\", \"created_time\": \"2021-02-11T14:32:11.695551Z\", \"created_time_dt\": \"2021-02-11T14:32:11.695551Z\", \"duration\": \"0:01:04\", \"iteration\": \"8\", \"goal\": \"accuracy_max\", \"run_name\": \"RobustScaler, ExtremeRandomTrees\", \"run_properties\": \"copy=True, quantile_range=[25, 75], with_centering=True,\\n             with_scaling=False\", \"primary_metric\": 0.84103107, \"best_metric\": 0.87443503}, {\"run_id\": \"AutoML_3e325779-ff8d-4e8c-8f0b-9a482989a051_9\", \"run_number\": 15, \"metric\": null, \"status\": \"Completed\", \"run_type\": \"azureml.scriptrun\", \"training_percent\": \"100\", \"start_time\": \"2021-02-11T14:33:32.409712Z\", \"end_time\": \"2021-02-11T14:34:24.728888Z\", \"created_time\": \"2021-02-11T14:33:19.092588Z\", \"created_time_dt\": \"2021-02-11T14:33:19.092588Z\", \"duration\": \"0:01:05\", \"iteration\": \"9\", \"goal\": \"accuracy_max\", \"run_name\": \"MinMaxScaler, LightGBM\", \"run_properties\": \"copy=True, feature_range=(0, 1\", \"primary_metric\": 0.83693503, \"best_metric\": 0.87443503}, {\"run_id\": \"AutoML_3e325779-ff8d-4e8c-8f0b-9a482989a051_10\", \"run_number\": 16, \"metric\": null, \"status\": \"Completed\", \"run_type\": \"azureml.scriptrun\", \"training_percent\": \"100\", \"start_time\": \"2021-02-11T14:34:42.13154Z\", \"end_time\": \"2021-02-11T14:35:35.090658Z\", \"created_time\": \"2021-02-11T14:34:27.304681Z\", \"created_time_dt\": \"2021-02-11T14:34:27.304681Z\", \"duration\": \"0:01:07\", \"iteration\": \"10\", \"goal\": \"accuracy_max\", \"run_name\": \"RobustScaler, ExtremeRandomTrees\", \"run_properties\": \"copy=True, quantile_range=[25, 75], with_centering=True,\\n             with_scaling=False\", \"primary_metric\": 0.84110169, \"best_metric\": 0.87443503}, {\"run_id\": \"AutoML_3e325779-ff8d-4e8c-8f0b-9a482989a051_11\", \"run_number\": 17, \"metric\": null, \"status\": \"Completed\", \"run_type\": \"azureml.scriptrun\", \"training_percent\": \"100\", \"start_time\": \"2021-02-11T14:35:48.190571Z\", \"end_time\": \"2021-02-11T14:36:36.57954Z\", \"created_time\": \"2021-02-11T14:35:37.240646Z\", \"created_time_dt\": \"2021-02-11T14:35:37.240646Z\", \"duration\": \"0:00:59\", \"iteration\": \"11\", \"goal\": \"accuracy_max\", \"run_name\": \"RobustScaler, LightGBM\", \"run_properties\": \"copy=True, quantile_range=[10, 90], with_centering=False,\\n             with_scaling=False\", \"primary_metric\": 0.79519774, \"best_metric\": 0.87443503}, {\"run_id\": \"AutoML_3e325779-ff8d-4e8c-8f0b-9a482989a051_12\", \"run_number\": 18, \"metric\": null, \"status\": \"Completed\", \"run_type\": \"azureml.scriptrun\", \"training_percent\": \"100\", \"start_time\": \"2021-02-11T14:36:49.887174Z\", \"end_time\": \"2021-02-11T14:37:41.192561Z\", \"created_time\": \"2021-02-11T14:36:38.347557Z\", \"created_time_dt\": \"2021-02-11T14:36:38.347557Z\", \"duration\": \"0:01:02\", \"iteration\": \"12\", \"goal\": \"accuracy_max\", \"run_name\": \"StandardScalerWrapper, XGBoostClassifier\", \"run_properties\": \"<azureml.automl.runtime.shared.model_wrappers.StandardScalerWrapper object at 0x7f1f5ac7e940\", \"primary_metric\": 0.80748588, \"best_metric\": 0.87443503}, {\"run_id\": \"AutoML_3e325779-ff8d-4e8c-8f0b-9a482989a051_13\", \"run_number\": 19, \"metric\": null, \"status\": \"Completed\", \"run_type\": \"azureml.scriptrun\", \"training_percent\": \"100\", \"start_time\": \"2021-02-11T14:37:57.60286Z\", \"end_time\": \"2021-02-11T14:38:48.256287Z\", \"created_time\": \"2021-02-11T14:37:45.550756Z\", \"created_time_dt\": \"2021-02-11T14:37:45.550756Z\", \"duration\": \"0:01:02\", \"iteration\": \"13\", \"goal\": \"accuracy_max\", \"run_name\": \"SparseNormalizer, XGBoostClassifier\", \"run_properties\": \"<azureml.automl.runtime.shared.model_wrappers.SparseNormalizer object at 0x7f4617811b00\", \"primary_metric\": 0.78262712, \"best_metric\": 0.87443503}, {\"run_id\": \"AutoML_3e325779-ff8d-4e8c-8f0b-9a482989a051_14\", \"run_number\": 20, \"metric\": null, \"status\": \"Completed\", \"run_type\": \"azureml.scriptrun\", \"training_percent\": \"100\", \"start_time\": \"2021-02-11T14:40:03.473867Z\", \"end_time\": \"2021-02-11T14:40:53.693912Z\", \"created_time\": \"2021-02-11T14:39:22.769011Z\", \"created_time_dt\": \"2021-02-11T14:39:22.769011Z\", \"duration\": \"0:01:30\", \"iteration\": \"14\", \"goal\": \"accuracy_max\", \"run_name\": \"StandardScalerWrapper, ExtremeRandomTrees\", \"run_properties\": \"<azureml.automl.runtime.shared.model_wrappers.StandardScalerWrapper object at 0x7f55d1afb278\", \"primary_metric\": 0.80338983, \"best_metric\": 0.87443503}, {\"run_id\": \"AutoML_3e325779-ff8d-4e8c-8f0b-9a482989a051_15\", \"run_number\": 21, \"metric\": null, \"status\": \"Completed\", \"run_type\": \"azureml.scriptrun\", \"training_percent\": \"100\", \"start_time\": \"2021-02-11T14:41:10.33023Z\", \"end_time\": \"2021-02-11T14:41:56.077924Z\", \"created_time\": \"2021-02-11T14:40:57.587336Z\", \"created_time_dt\": \"2021-02-11T14:40:57.587336Z\", \"duration\": \"0:00:58\", \"iteration\": \"15\", \"goal\": \"accuracy_max\", \"run_name\": \"StandardScalerWrapper, LightGBM\", \"run_properties\": \"<azureml.automl.runtime.shared.model_wrappers.StandardScalerWrapper object at 0x7fe60e286d30\", \"primary_metric\": 0.76567797, \"best_metric\": 0.87443503}, {\"run_id\": \"AutoML_3e325779-ff8d-4e8c-8f0b-9a482989a051_16\", \"run_number\": 22, \"metric\": null, \"status\": \"Completed\", \"run_type\": \"azureml.scriptrun\", \"training_percent\": \"100\", \"start_time\": \"2021-02-11T14:42:10.78275Z\", \"end_time\": \"2021-02-11T14:43:05.338974Z\", \"created_time\": \"2021-02-11T14:41:58.274876Z\", \"created_time_dt\": \"2021-02-11T14:41:58.274876Z\", \"duration\": \"0:01:07\", \"iteration\": \"16\", \"goal\": \"accuracy_max\", \"run_name\": \"SparseNormalizer, XGBoostClassifier\", \"run_properties\": \"<azureml.automl.runtime.shared.model_wrappers.SparseNormalizer object at 0x7fe0f541e7f0\", \"primary_metric\": 0.83276836, \"best_metric\": 0.87443503}, {\"run_id\": \"AutoML_3e325779-ff8d-4e8c-8f0b-9a482989a051_17\", \"run_number\": 23, \"metric\": null, \"status\": \"Completed\", \"run_type\": \"azureml.scriptrun\", \"training_percent\": \"100\", \"start_time\": \"2021-02-11T14:43:24.129501Z\", \"end_time\": \"2021-02-11T14:44:13.454532Z\", \"created_time\": \"2021-02-11T14:43:07.971699Z\", \"created_time_dt\": \"2021-02-11T14:43:07.971699Z\", \"duration\": \"0:01:05\", \"iteration\": \"17\", \"goal\": \"accuracy_max\", \"run_name\": \"MaxAbsScaler, ExtremeRandomTrees\", \"run_properties\": \"copy=True\", \"primary_metric\": 0.84110169, \"best_metric\": 0.87443503}, {\"run_id\": \"AutoML_3e325779-ff8d-4e8c-8f0b-9a482989a051_18\", \"run_number\": 24, \"metric\": null, \"status\": \"Completed\", \"run_type\": \"azureml.scriptrun\", \"training_percent\": \"100\", \"start_time\": \"2021-02-11T14:44:27.488801Z\", \"end_time\": \"2021-02-11T14:45:20.910192Z\", \"created_time\": \"2021-02-11T14:44:16.320426Z\", \"created_time_dt\": \"2021-02-11T14:44:16.320426Z\", \"duration\": \"0:01:04\", \"iteration\": \"18\", \"goal\": \"accuracy_max\", \"run_name\": \"MaxAbsScaler, LightGBM\", \"run_properties\": \"copy=True\", \"primary_metric\": 0.82422316, \"best_metric\": 0.87443503}, {\"run_id\": \"AutoML_3e325779-ff8d-4e8c-8f0b-9a482989a051_19\", \"run_number\": 25, \"metric\": null, \"status\": \"Completed\", \"run_type\": \"azureml.scriptrun\", \"training_percent\": \"100\", \"start_time\": \"2021-02-11T14:45:34.502953Z\", \"end_time\": \"2021-02-11T14:46:27.927814Z\", \"created_time\": \"2021-02-11T14:45:23.428668Z\", \"created_time_dt\": \"2021-02-11T14:45:23.428668Z\", \"duration\": \"0:01:04\", \"iteration\": \"19\", \"goal\": \"accuracy_max\", \"run_name\": \"RobustScaler, KNN\", \"run_properties\": \"copy=True, quantile_range=[10, 90], with_centering=True,\\n             with_scaling=False\", \"primary_metric\": 0.58983051, \"best_metric\": 0.87443503}, {\"run_id\": \"AutoML_3e325779-ff8d-4e8c-8f0b-9a482989a051_20\", \"run_number\": 26, \"metric\": null, \"status\": \"Completed\", \"run_type\": \"azureml.scriptrun\", \"training_percent\": \"100\", \"start_time\": \"2021-02-11T14:46:44.034896Z\", \"end_time\": \"2021-02-11T14:47:36.00087Z\", \"created_time\": \"2021-02-11T14:46:30.887718Z\", \"created_time_dt\": \"2021-02-11T14:46:30.887718Z\", \"duration\": \"0:01:05\", \"iteration\": \"20\", \"goal\": \"accuracy_max\", \"run_name\": \"StandardScalerWrapper, XGBoostClassifier\", \"run_properties\": \"<azureml.automl.runtime.shared.model_wrappers.StandardScalerWrapper object at 0x7f97b826dcc0\", \"primary_metric\": 0.84526836, \"best_metric\": 0.87443503}, {\"run_id\": \"AutoML_3e325779-ff8d-4e8c-8f0b-9a482989a051_21\", \"run_number\": 27, \"metric\": null, \"status\": \"Completed\", \"run_type\": \"azureml.scriptrun\", \"training_percent\": \"100\", \"start_time\": \"2021-02-11T14:47:52.334273Z\", \"end_time\": \"2021-02-11T14:48:40.961446Z\", \"created_time\": \"2021-02-11T14:47:39.356688Z\", \"created_time_dt\": \"2021-02-11T14:47:39.356688Z\", \"duration\": \"0:01:01\", \"iteration\": \"21\", \"goal\": \"accuracy_max\", \"run_name\": \"MaxAbsScaler, LightGBM\", \"run_properties\": \"copy=True\", \"primary_metric\": 0.78686441, \"best_metric\": 0.87443503}, {\"run_id\": \"AutoML_3e325779-ff8d-4e8c-8f0b-9a482989a051_22\", \"run_number\": 28, \"metric\": null, \"status\": \"Completed\", \"run_type\": \"azureml.scriptrun\", \"training_percent\": \"100\", \"start_time\": \"2021-02-11T14:48:56.363554Z\", \"end_time\": \"2021-02-11T14:49:49.937061Z\", \"created_time\": \"2021-02-11T14:48:43.287123Z\", \"created_time_dt\": \"2021-02-11T14:48:43.287123Z\", \"duration\": \"0:01:06\", \"iteration\": \"22\", \"goal\": \"accuracy_max\", \"run_name\": \"StandardScalerWrapper, RandomForest\", \"run_properties\": \"<azureml.automl.runtime.shared.model_wrappers.StandardScalerWrapper object at 0x7fb849844080\", \"primary_metric\": 0.84103107, \"best_metric\": 0.87443503}, {\"run_id\": \"AutoML_3e325779-ff8d-4e8c-8f0b-9a482989a051_23\", \"run_number\": 29, \"metric\": null, \"status\": \"Completed\", \"run_type\": \"azureml.scriptrun\", \"training_percent\": \"100\", \"start_time\": \"2021-02-11T14:50:05.139737Z\", \"end_time\": \"2021-02-11T14:50:56.356239Z\", \"created_time\": \"2021-02-11T14:49:51.862873Z\", \"created_time_dt\": \"2021-02-11T14:49:51.862873Z\", \"duration\": \"0:01:04\", \"iteration\": \"23\", \"goal\": \"accuracy_max\", \"run_name\": \"SparseNormalizer, LightGBM\", \"run_properties\": \"<azureml.automl.runtime.shared.model_wrappers.SparseNormalizer object at 0x7f31c40eaa58\", \"primary_metric\": 0.81186441, \"best_metric\": 0.87443503}, {\"run_id\": \"AutoML_3e325779-ff8d-4e8c-8f0b-9a482989a051_24\", \"run_number\": 30, \"metric\": null, \"status\": \"Completed\", \"run_type\": \"azureml.scriptrun\", \"training_percent\": \"100\", \"start_time\": \"2021-02-11T14:51:10.407322Z\", \"end_time\": \"2021-02-11T14:52:00.90384Z\", \"created_time\": \"2021-02-11T14:50:59.197913Z\", \"created_time_dt\": \"2021-02-11T14:50:59.197913Z\", \"duration\": \"0:01:01\", \"iteration\": \"24\", \"goal\": \"accuracy_max\", \"run_name\": \"SparseNormalizer, XGBoostClassifier\", \"run_properties\": \"<azureml.automl.runtime.shared.model_wrappers.SparseNormalizer object at 0x7f64c44d2f60\", \"primary_metric\": 0.79533898, \"best_metric\": 0.87443503}, {\"run_id\": \"AutoML_3e325779-ff8d-4e8c-8f0b-9a482989a051_25\", \"run_number\": 31, \"metric\": null, \"status\": \"Completed\", \"run_type\": \"azureml.scriptrun\", \"training_percent\": \"100\", \"start_time\": \"2021-02-11T14:52:17.412285Z\", \"end_time\": \"2021-02-11T14:53:06.598964Z\", \"created_time\": \"2021-02-11T14:52:04.563847Z\", \"created_time_dt\": \"2021-02-11T14:52:04.563847Z\", \"duration\": \"0:01:02\", \"iteration\": \"25\", \"goal\": \"accuracy_max\", \"run_name\": \"SparseNormalizer, RandomForest\", \"run_properties\": \"<azureml.automl.runtime.shared.model_wrappers.SparseNormalizer object at 0x7efcd2f10f98\", \"primary_metric\": 0.79915254, \"best_metric\": 0.87443503}, {\"run_id\": \"AutoML_3e325779-ff8d-4e8c-8f0b-9a482989a051_26\", \"run_number\": 32, \"metric\": null, \"status\": \"Completed\", \"run_type\": \"azureml.scriptrun\", \"training_percent\": \"100\", \"start_time\": \"2021-02-11T14:53:20.790349Z\", \"end_time\": \"2021-02-11T14:54:36.673486Z\", \"created_time\": \"2021-02-11T14:53:08.319041Z\", \"created_time_dt\": \"2021-02-11T14:53:08.319041Z\", \"duration\": \"0:01:28\", \"iteration\": \"26\", \"goal\": \"accuracy_max\", \"run_name\": \"VotingEnsemble\", \"run_properties\": \"classification_labels=None,\\n                              estimators=[('2',\\n                                           Pipeline(memory=None,\\n                                                    steps=[('minmaxscaler',\\n                                                            MinMaxScaler(copy=True,\\n                                                                         feature_range=(0,\\n                                                                                        1\", \"primary_metric\": 0.88700565, \"best_metric\": 0.88700565}, {\"run_id\": \"AutoML_3e325779-ff8d-4e8c-8f0b-9a482989a051_27\", \"run_number\": 33, \"metric\": null, \"status\": \"Completed\", \"run_type\": \"azureml.scriptrun\", \"training_percent\": \"100\", \"start_time\": \"2021-02-11T14:54:55.626636Z\", \"end_time\": \"2021-02-11T14:56:11.0158Z\", \"created_time\": \"2021-02-11T14:54:39.051607Z\", \"created_time_dt\": \"2021-02-11T14:54:39.051607Z\", \"duration\": \"0:01:31\", \"iteration\": \"27\", \"goal\": \"accuracy_max\", \"run_name\": \"StackEnsemble\", \"run_properties\": \"base_learners=[('2',\\n                                        Pipeline(memory=None,\\n                                                 steps=[('minmaxscaler',\\n                                                         MinMaxScaler(copy=True,\\n                                                                      feature_range=(0,\\n                                                                                     1\", \"primary_metric\": 0.86610169, \"best_metric\": 0.88700565}], \"children_metrics\": {\"categories\": [0], \"series\": {\"balanced_accuracy\": [{\"categories\": [\"0\", \"1\", \"2\", \"3\", \"4\", \"5\", \"6\", \"7\", \"8\", \"9\", \"10\", \"11\", \"12\", \"13\", \"14\", \"15\", \"16\", \"17\", \"18\", \"19\", \"20\", \"21\", \"22\", \"23\", \"24\", \"25\", \"26\", \"27\"], \"mode\": \"markers\", \"name\": \"balanced_accuracy\", \"stepped\": false, \"type\": \"scatter\", \"data\": [0.8060521372259176, 0.833389657162122, 0.8597721032533292, 0.8226747578480569, 0.8271014461041739, 0.633753290284099, 0.8357820016597295, 0.6533333171250372, 0.7979953984647502, 0.791973003462092, 0.7978126499267385, 0.7228030870320665, 0.766254489698007, 0.7463346964510316, 0.7399563267462818, 0.6901903745413053, 0.8075473525369226, 0.7934435011216141, 0.7944808320690863, 0.5110769521271767, 0.8229150458370613, 0.7221466510418693, 0.82602177098326, 0.7812728942181766, 0.7426720267501719, 0.7503806923535743, 0.8754471463673967, 0.851457044773797]}, {\"categories\": [\"0\", \"1\", \"2\", \"3\", \"4\", \"5\", \"6\", \"7\", \"8\", \"9\", \"10\", \"11\", \"12\", \"13\", \"14\", \"15\", \"16\", \"17\", \"18\", \"19\", \"20\", \"21\", \"22\", \"23\", \"24\", \"25\", \"26\", \"27\"], \"mode\": \"lines\", \"name\": \"balanced_accuracy_max\", \"stepped\": true, \"type\": \"scatter\", \"data\": [0.8060521372259176, 0.833389657162122, 0.8597721032533292, 0.8597721032533292, 0.8597721032533292, 0.8597721032533292, 0.8597721032533292, 0.8597721032533292, 0.8597721032533292, 0.8597721032533292, 0.8597721032533292, 0.8597721032533292, 0.8597721032533292, 0.8597721032533292, 0.8597721032533292, 0.8597721032533292, 0.8597721032533292, 0.8597721032533292, 0.8597721032533292, 0.8597721032533292, 0.8597721032533292, 0.8597721032533292, 0.8597721032533292, 0.8597721032533292, 0.8597721032533292, 0.8597721032533292, 0.8754471463673967, 0.8754471463673967]}], \"log_loss\": [{\"categories\": [\"0\", \"1\", \"2\", \"3\", \"4\", \"5\", \"6\", \"7\", \"8\", \"9\", \"10\", \"11\", \"12\", \"13\", \"14\", \"15\", \"16\", \"17\", \"18\", \"19\", \"20\", \"21\", \"22\", \"23\", \"24\", \"25\", \"26\", \"27\"], \"mode\": \"markers\", \"name\": \"log_loss\", \"stepped\": false, \"type\": \"scatter\", \"data\": [0.3728773844671085, 0.32338484610894686, 0.36288932311129574, 0.37387544259481376, 0.37274067085546714, 0.5637223606064417, 0.33139076630245556, 0.5088433125356442, 0.3968947183582785, 0.4085593783930369, 0.4150662125264856, 0.4728076913977318, 0.4950349111239869, 0.5074834111408637, 0.4618608405805667, 0.4967334106905536, 0.41423778490557467, 0.42463086222090374, 0.41298661106819823, 0.7901046370578462, 0.3633307150157648, 0.4701481505468782, 0.5528685081905279, 0.40212733021800434, 0.4675559117377082, 0.6641869431400156, 0.34071214863878496, 0.3393799184662514]}, {\"categories\": [\"0\", \"1\", \"2\", \"3\", \"4\", \"5\", \"6\", \"7\", \"8\", \"9\", \"10\", \"11\", \"12\", \"13\", \"14\", \"15\", \"16\", \"17\", \"18\", \"19\", \"20\", \"21\", \"22\", \"23\", \"24\", \"25\", \"26\", \"27\"], \"mode\": \"lines\", \"name\": \"log_loss_min\", \"stepped\": true, \"type\": \"scatter\", \"data\": [0.3728773844671085, 0.32338484610894686, 0.32338484610894686, 0.32338484610894686, 0.32338484610894686, 0.32338484610894686, 0.32338484610894686, 0.32338484610894686, 0.32338484610894686, 0.32338484610894686, 0.32338484610894686, 0.32338484610894686, 0.32338484610894686, 0.32338484610894686, 0.32338484610894686, 0.32338484610894686, 0.32338484610894686, 0.32338484610894686, 0.32338484610894686, 0.32338484610894686, 0.32338484610894686, 0.32338484610894686, 0.32338484610894686, 0.32338484610894686, 0.32338484610894686, 0.32338484610894686, 0.32338484610894686, 0.32338484610894686]}], \"f1_score_weighted\": [{\"categories\": [\"0\", \"1\", \"2\", \"3\", \"4\", \"5\", \"6\", \"7\", \"8\", \"9\", \"10\", \"11\", \"12\", \"13\", \"14\", \"15\", \"16\", \"17\", \"18\", \"19\", \"20\", \"21\", \"22\", \"23\", \"24\", \"25\", \"26\", \"27\"], \"mode\": \"markers\", \"name\": \"f1_score_weighted\", \"stepped\": false, \"type\": \"scatter\", \"data\": [0.8303034181569812, 0.8526135905591554, 0.8741015214971759, 0.8460537222525809, 0.8448270789497111, 0.6862217027143873, 0.8530806235261885, 0.7026106647103141, 0.8343108283167582, 0.8300300180942736, 0.832676083051237, 0.775225986593664, 0.8015710370478714, 0.7765228084872002, 0.7903888390987801, 0.7435377167462994, 0.8298074838516059, 0.8327122829344182, 0.8210781592768216, 0.5639950496457368, 0.8434974333089471, 0.7705608759035312, 0.8410330526018275, 0.8082836915440534, 0.7833856047818735, 0.7916598172464455, 0.8869402000645283, 0.8657106475511049]}, {\"categories\": [\"0\", \"1\", \"2\", \"3\", \"4\", \"5\", \"6\", \"7\", \"8\", \"9\", \"10\", \"11\", \"12\", \"13\", \"14\", \"15\", \"16\", \"17\", \"18\", \"19\", \"20\", \"21\", \"22\", \"23\", \"24\", \"25\", \"26\", \"27\"], \"mode\": \"lines\", \"name\": \"f1_score_weighted_max\", \"stepped\": true, \"type\": \"scatter\", \"data\": [0.8303034181569812, 0.8526135905591554, 0.8741015214971759, 0.8741015214971759, 0.8741015214971759, 0.8741015214971759, 0.8741015214971759, 0.8741015214971759, 0.8741015214971759, 0.8741015214971759, 0.8741015214971759, 0.8741015214971759, 0.8741015214971759, 0.8741015214971759, 0.8741015214971759, 0.8741015214971759, 0.8741015214971759, 0.8741015214971759, 0.8741015214971759, 0.8741015214971759, 0.8741015214971759, 0.8741015214971759, 0.8741015214971759, 0.8741015214971759, 0.8741015214971759, 0.8741015214971759, 0.8869402000645283, 0.8869402000645283]}], \"precision_score_micro\": [{\"categories\": [\"0\", \"1\", \"2\", \"3\", \"4\", \"5\", \"6\", \"7\", \"8\", \"9\", \"10\", \"11\", \"12\", \"13\", \"14\", \"15\", \"16\", \"17\", \"18\", \"19\", \"20\", \"21\", \"22\", \"23\", \"24\", \"25\", \"26\", \"27\"], \"mode\": \"markers\", \"name\": \"precision_score_micro\", \"stepped\": false, \"type\": \"scatter\", \"data\": [0.8326271186440678, 0.8535310734463277, 0.8744350282485875, 0.8496468926553673, 0.8451977401129944, 0.7156073446327684, 0.8535310734463277, 0.7409604519774011, 0.8410310734463277, 0.8369350282485876, 0.8411016949152542, 0.7951977401129943, 0.8074858757062148, 0.7826271186440678, 0.8033898305084747, 0.7656779661016948, 0.8327683615819209, 0.8411016949152542, 0.8242231638418079, 0.5898305084745762, 0.8452683615819209, 0.786864406779661, 0.8410310734463277, 0.811864406779661, 0.7953389830508474, 0.7991525423728815, 0.887005649717514, 0.8661016949152542]}, {\"categories\": [\"0\", \"1\", \"2\", \"3\", \"4\", \"5\", \"6\", \"7\", \"8\", \"9\", \"10\", \"11\", \"12\", \"13\", \"14\", \"15\", \"16\", \"17\", \"18\", \"19\", \"20\", \"21\", \"22\", \"23\", \"24\", \"25\", \"26\", \"27\"], \"mode\": \"lines\", \"name\": \"precision_score_micro_max\", \"stepped\": true, \"type\": \"scatter\", \"data\": [0.8326271186440678, 0.8535310734463277, 0.8744350282485875, 0.8744350282485875, 0.8744350282485875, 0.8744350282485875, 0.8744350282485875, 0.8744350282485875, 0.8744350282485875, 0.8744350282485875, 0.8744350282485875, 0.8744350282485875, 0.8744350282485875, 0.8744350282485875, 0.8744350282485875, 0.8744350282485875, 0.8744350282485875, 0.8744350282485875, 0.8744350282485875, 0.8744350282485875, 0.8744350282485875, 0.8744350282485875, 0.8744350282485875, 0.8744350282485875, 0.8744350282485875, 0.8744350282485875, 0.887005649717514, 0.887005649717514]}], \"average_precision_score_micro\": [{\"categories\": [\"0\", \"1\", \"2\", \"3\", \"4\", \"5\", \"6\", \"7\", \"8\", \"9\", \"10\", \"11\", \"12\", \"13\", \"14\", \"15\", \"16\", \"17\", \"18\", \"19\", \"20\", \"21\", \"22\", \"23\", \"24\", \"25\", \"26\", \"27\"], \"mode\": \"markers\", \"name\": \"average_precision_score_micro\", \"stepped\": false, \"type\": \"scatter\", \"data\": [0.9324806599076904, 0.9415952207946863, 0.9247212704796228, 0.9240224691372636, 0.914592345078108, 0.7846163253394316, 0.9390959913832663, 0.8584021978273728, 0.9216372219261387, 0.9240367761347219, 0.9087618413456986, 0.8897488188391033, 0.8998059988929643, 0.859921859733799, 0.8938350902769863, 0.8817169655635876, 0.8943731767091816, 0.9139004871366767, 0.9155983277022848, 0.5811131682076225, 0.9252806992593361, 0.8931739751772034, 0.919298561242364, 0.9036641279556672, 0.8809682187813239, 0.8216799945457987, 0.9387781197144919, 0.9386354148670197]}, {\"categories\": [\"0\", \"1\", \"2\", \"3\", \"4\", \"5\", \"6\", \"7\", \"8\", \"9\", \"10\", \"11\", \"12\", \"13\", \"14\", \"15\", \"16\", \"17\", \"18\", \"19\", \"20\", \"21\", \"22\", \"23\", \"24\", \"25\", \"26\", \"27\"], \"mode\": \"lines\", \"name\": \"average_precision_score_micro_max\", \"stepped\": true, \"type\": \"scatter\", \"data\": [0.9324806599076904, 0.9415952207946863, 0.9415952207946863, 0.9415952207946863, 0.9415952207946863, 0.9415952207946863, 0.9415952207946863, 0.9415952207946863, 0.9415952207946863, 0.9415952207946863, 0.9415952207946863, 0.9415952207946863, 0.9415952207946863, 0.9415952207946863, 0.9415952207946863, 0.9415952207946863, 0.9415952207946863, 0.9415952207946863, 0.9415952207946863, 0.9415952207946863, 0.9415952207946863, 0.9415952207946863, 0.9415952207946863, 0.9415952207946863, 0.9415952207946863, 0.9415952207946863, 0.9415952207946863, 0.9415952207946863]}], \"precision_score_weighted\": [{\"categories\": [\"0\", \"1\", \"2\", \"3\", \"4\", \"5\", \"6\", \"7\", \"8\", \"9\", \"10\", \"11\", \"12\", \"13\", \"14\", \"15\", \"16\", \"17\", \"18\", \"19\", \"20\", \"21\", \"22\", \"23\", \"24\", \"25\", \"26\", \"27\"], \"mode\": \"markers\", \"name\": \"precision_score_weighted\", \"stepped\": false, \"type\": \"scatter\", \"data\": [0.8351006210484839, 0.8564065053035559, 0.8777915484580849, 0.8503800550115104, 0.8474869268418733, 0.717748402024514, 0.8556690714411221, 0.7659906339982938, 0.8471954803057419, 0.8409941594559254, 0.8502758278589938, 0.8125370389512745, 0.8122591306162701, 0.7841832227365275, 0.8086666391123762, 0.7731048863435299, 0.835095865198642, 0.8498399609567666, 0.8275049524295879, 0.5632234992442317, 0.8496978872301275, 0.7948377942530037, 0.8457793257701263, 0.8120554232157311, 0.7967478184623149, 0.7982092678329799, 0.8895307169599654, 0.8699972758447334]}, {\"categories\": [\"0\", \"1\", \"2\", \"3\", \"4\", \"5\", \"6\", \"7\", \"8\", \"9\", \"10\", \"11\", \"12\", \"13\", \"14\", \"15\", \"16\", \"17\", \"18\", \"19\", \"20\", \"21\", \"22\", \"23\", \"24\", \"25\", \"26\", \"27\"], \"mode\": \"lines\", \"name\": \"precision_score_weighted_max\", \"stepped\": true, \"type\": \"scatter\", \"data\": [0.8351006210484839, 0.8564065053035559, 0.8777915484580849, 0.8777915484580849, 0.8777915484580849, 0.8777915484580849, 0.8777915484580849, 0.8777915484580849, 0.8777915484580849, 0.8777915484580849, 0.8777915484580849, 0.8777915484580849, 0.8777915484580849, 0.8777915484580849, 0.8777915484580849, 0.8777915484580849, 0.8777915484580849, 0.8777915484580849, 0.8777915484580849, 0.8777915484580849, 0.8777915484580849, 0.8777915484580849, 0.8777915484580849, 0.8777915484580849, 0.8777915484580849, 0.8777915484580849, 0.8895307169599654, 0.8895307169599654]}], \"average_precision_score_macro\": [{\"categories\": [\"0\", \"1\", \"2\", \"3\", \"4\", \"5\", \"6\", \"7\", \"8\", \"9\", \"10\", \"11\", \"12\", \"13\", \"14\", \"15\", \"16\", \"17\", \"18\", \"19\", \"20\", \"21\", \"22\", \"23\", \"24\", \"25\", \"26\", \"27\"], \"mode\": \"markers\", \"name\": \"average_precision_score_macro\", \"stepped\": false, \"type\": \"scatter\", \"data\": [0.9112446067252626, 0.9250624791177304, 0.908927574132502, 0.9006339364524135, 0.8874261846938454, 0.7525569181867123, 0.9164209444092346, 0.8308035443300776, 0.8959891437301397, 0.9152275645416401, 0.8745916511693188, 0.8969885466639281, 0.8827481665925262, 0.8166169303491972, 0.8724490415083321, 0.8644763135241997, 0.8674861058092076, 0.8999388308181655, 0.9034199239796175, 0.5184791418557014, 0.9035220914608486, 0.8971884354370765, 0.8962831119043903, 0.8707899249973, 0.8553651036741503, 0.8032398238762506, 0.9153582497473376, 0.9162826152398988]}, {\"categories\": [\"0\", \"1\", \"2\", \"3\", \"4\", \"5\", \"6\", \"7\", \"8\", \"9\", \"10\", \"11\", \"12\", \"13\", \"14\", \"15\", \"16\", \"17\", \"18\", \"19\", \"20\", \"21\", \"22\", \"23\", \"24\", \"25\", \"26\", \"27\"], \"mode\": \"lines\", \"name\": \"average_precision_score_macro_max\", \"stepped\": true, \"type\": \"scatter\", \"data\": [0.9112446067252626, 0.9250624791177304, 0.9250624791177304, 0.9250624791177304, 0.9250624791177304, 0.9250624791177304, 0.9250624791177304, 0.9250624791177304, 0.9250624791177304, 0.9250624791177304, 0.9250624791177304, 0.9250624791177304, 0.9250624791177304, 0.9250624791177304, 0.9250624791177304, 0.9250624791177304, 0.9250624791177304, 0.9250624791177304, 0.9250624791177304, 0.9250624791177304, 0.9250624791177304, 0.9250624791177304, 0.9250624791177304, 0.9250624791177304, 0.9250624791177304, 0.9250624791177304, 0.9250624791177304, 0.9250624791177304]}], \"recall_score_weighted\": [{\"categories\": [\"0\", \"1\", \"2\", \"3\", \"4\", \"5\", \"6\", \"7\", \"8\", \"9\", \"10\", \"11\", \"12\", \"13\", \"14\", \"15\", \"16\", \"17\", \"18\", \"19\", \"20\", \"21\", \"22\", \"23\", \"24\", \"25\", \"26\", \"27\"], \"mode\": \"markers\", \"name\": \"recall_score_weighted\", \"stepped\": false, \"type\": \"scatter\", \"data\": [0.8326271186440678, 0.8535310734463277, 0.8744350282485875, 0.8496468926553673, 0.8451977401129944, 0.7156073446327684, 0.8535310734463277, 0.7409604519774011, 0.8410310734463277, 0.8369350282485876, 0.8411016949152542, 0.7951977401129943, 0.8074858757062148, 0.7826271186440678, 0.8033898305084747, 0.7656779661016948, 0.8327683615819209, 0.8411016949152542, 0.8242231638418079, 0.5898305084745762, 0.8452683615819209, 0.786864406779661, 0.8410310734463277, 0.811864406779661, 0.7953389830508474, 0.7991525423728815, 0.887005649717514, 0.8661016949152542]}, {\"categories\": [\"0\", \"1\", \"2\", \"3\", \"4\", \"5\", \"6\", \"7\", \"8\", \"9\", \"10\", \"11\", \"12\", \"13\", \"14\", \"15\", \"16\", \"17\", \"18\", \"19\", \"20\", \"21\", \"22\", \"23\", \"24\", \"25\", \"26\", \"27\"], \"mode\": \"lines\", \"name\": \"recall_score_weighted_max\", \"stepped\": true, \"type\": \"scatter\", \"data\": [0.8326271186440678, 0.8535310734463277, 0.8744350282485875, 0.8744350282485875, 0.8744350282485875, 0.8744350282485875, 0.8744350282485875, 0.8744350282485875, 0.8744350282485875, 0.8744350282485875, 0.8744350282485875, 0.8744350282485875, 0.8744350282485875, 0.8744350282485875, 0.8744350282485875, 0.8744350282485875, 0.8744350282485875, 0.8744350282485875, 0.8744350282485875, 0.8744350282485875, 0.8744350282485875, 0.8744350282485875, 0.8744350282485875, 0.8744350282485875, 0.8744350282485875, 0.8744350282485875, 0.887005649717514, 0.887005649717514]}], \"f1_score_macro\": [{\"categories\": [\"0\", \"1\", \"2\", \"3\", \"4\", \"5\", \"6\", \"7\", \"8\", \"9\", \"10\", \"11\", \"12\", \"13\", \"14\", \"15\", \"16\", \"17\", \"18\", \"19\", \"20\", \"21\", \"22\", \"23\", \"24\", \"25\", \"26\", \"27\"], \"mode\": \"markers\", \"name\": \"f1_score_macro\", \"stepped\": false, \"type\": \"scatter\", \"data\": [0.80877082743458, 0.8352309344682235, 0.8599202520111936, 0.8285097733191099, 0.8270516799928564, 0.6341890300689715, 0.8361008978381869, 0.6508737670375602, 0.8112554494503839, 0.8063501745043327, 0.8097996725895207, 0.7376231847792732, 0.7751577096149465, 0.7485827373146559, 0.7565099880675239, 0.6984402989931939, 0.8085969634370798, 0.809102917277657, 0.7995839821461821, 0.4995391929721705, 0.8255742102724861, 0.7349622299055524, 0.8249266990145621, 0.7845141808812091, 0.7521562945550115, 0.761684500355166, 0.8740990734327544, 0.8506230878279174]}, {\"categories\": [\"0\", \"1\", \"2\", \"3\", \"4\", \"5\", \"6\", \"7\", \"8\", \"9\", \"10\", \"11\", \"12\", \"13\", \"14\", \"15\", \"16\", \"17\", \"18\", \"19\", \"20\", \"21\", \"22\", \"23\", \"24\", \"25\", \"26\", \"27\"], \"mode\": \"lines\", \"name\": \"f1_score_macro_max\", \"stepped\": true, \"type\": \"scatter\", \"data\": [0.80877082743458, 0.8352309344682235, 0.8599202520111936, 0.8599202520111936, 0.8599202520111936, 0.8599202520111936, 0.8599202520111936, 0.8599202520111936, 0.8599202520111936, 0.8599202520111936, 0.8599202520111936, 0.8599202520111936, 0.8599202520111936, 0.8599202520111936, 0.8599202520111936, 0.8599202520111936, 0.8599202520111936, 0.8599202520111936, 0.8599202520111936, 0.8599202520111936, 0.8599202520111936, 0.8599202520111936, 0.8599202520111936, 0.8599202520111936, 0.8599202520111936, 0.8599202520111936, 0.8740990734327544, 0.8740990734327544]}], \"accuracy\": [{\"categories\": [\"0\", \"1\", \"2\", \"3\", \"4\", \"5\", \"6\", \"7\", \"8\", \"9\", \"10\", \"11\", \"12\", \"13\", \"14\", \"15\", \"16\", \"17\", \"18\", \"19\", \"20\", \"21\", \"22\", \"23\", \"24\", \"25\", \"26\", \"27\"], \"mode\": \"markers\", \"name\": \"accuracy\", \"stepped\": false, \"type\": \"scatter\", \"data\": [0.8326271186440678, 0.8535310734463277, 0.8744350282485875, 0.8496468926553673, 0.8451977401129944, 0.7156073446327684, 0.8535310734463277, 0.7409604519774011, 0.8410310734463277, 0.8369350282485876, 0.8411016949152542, 0.7951977401129943, 0.8074858757062148, 0.7826271186440678, 0.8033898305084747, 0.7656779661016948, 0.8327683615819209, 0.8411016949152542, 0.8242231638418079, 0.5898305084745762, 0.8452683615819209, 0.786864406779661, 0.8410310734463277, 0.811864406779661, 0.7953389830508474, 0.7991525423728815, 0.887005649717514, 0.8661016949152542]}, {\"categories\": [\"0\", \"1\", \"2\", \"3\", \"4\", \"5\", \"6\", \"7\", \"8\", \"9\", \"10\", \"11\", \"12\", \"13\", \"14\", \"15\", \"16\", \"17\", \"18\", \"19\", \"20\", \"21\", \"22\", \"23\", \"24\", \"25\", \"26\", \"27\"], \"mode\": \"lines\", \"name\": \"accuracy_max\", \"stepped\": true, \"type\": \"scatter\", \"data\": [0.8326271186440678, 0.8535310734463277, 0.8744350282485875, 0.8744350282485875, 0.8744350282485875, 0.8744350282485875, 0.8744350282485875, 0.8744350282485875, 0.8744350282485875, 0.8744350282485875, 0.8744350282485875, 0.8744350282485875, 0.8744350282485875, 0.8744350282485875, 0.8744350282485875, 0.8744350282485875, 0.8744350282485875, 0.8744350282485875, 0.8744350282485875, 0.8744350282485875, 0.8744350282485875, 0.8744350282485875, 0.8744350282485875, 0.8744350282485875, 0.8744350282485875, 0.8744350282485875, 0.887005649717514, 0.887005649717514]}], \"recall_score_macro\": [{\"categories\": [\"0\", \"1\", \"2\", \"3\", \"4\", \"5\", \"6\", \"7\", \"8\", \"9\", \"10\", \"11\", \"12\", \"13\", \"14\", \"15\", \"16\", \"17\", \"18\", \"19\", \"20\", \"21\", \"22\", \"23\", \"24\", \"25\", \"26\", \"27\"], \"mode\": \"markers\", \"name\": \"recall_score_macro\", \"stepped\": false, \"type\": \"scatter\", \"data\": [0.8060521372259176, 0.833389657162122, 0.8597721032533292, 0.8226747578480569, 0.8271014461041739, 0.633753290284099, 0.8357820016597295, 0.6533333171250372, 0.7979953984647502, 0.791973003462092, 0.7978126499267385, 0.7228030870320665, 0.766254489698007, 0.7463346964510316, 0.7399563267462818, 0.6901903745413053, 0.8075473525369226, 0.7934435011216141, 0.7944808320690863, 0.5110769521271767, 0.8229150458370613, 0.7221466510418693, 0.82602177098326, 0.7812728942181766, 0.7426720267501719, 0.7503806923535743, 0.8754471463673967, 0.851457044773797]}, {\"categories\": [\"0\", \"1\", \"2\", \"3\", \"4\", \"5\", \"6\", \"7\", \"8\", \"9\", \"10\", \"11\", \"12\", \"13\", \"14\", \"15\", \"16\", \"17\", \"18\", \"19\", \"20\", \"21\", \"22\", \"23\", \"24\", \"25\", \"26\", \"27\"], \"mode\": \"lines\", \"name\": \"recall_score_macro_max\", \"stepped\": true, \"type\": \"scatter\", \"data\": [0.8060521372259176, 0.833389657162122, 0.8597721032533292, 0.8597721032533292, 0.8597721032533292, 0.8597721032533292, 0.8597721032533292, 0.8597721032533292, 0.8597721032533292, 0.8597721032533292, 0.8597721032533292, 0.8597721032533292, 0.8597721032533292, 0.8597721032533292, 0.8597721032533292, 0.8597721032533292, 0.8597721032533292, 0.8597721032533292, 0.8597721032533292, 0.8597721032533292, 0.8597721032533292, 0.8597721032533292, 0.8597721032533292, 0.8597721032533292, 0.8597721032533292, 0.8597721032533292, 0.8754471463673967, 0.8754471463673967]}], \"f1_score_micro\": [{\"categories\": [\"0\", \"1\", \"2\", \"3\", \"4\", \"5\", \"6\", \"7\", \"8\", \"9\", \"10\", \"11\", \"12\", \"13\", \"14\", \"15\", \"16\", \"17\", \"18\", \"19\", \"20\", \"21\", \"22\", \"23\", \"24\", \"25\", \"26\", \"27\"], \"mode\": \"markers\", \"name\": \"f1_score_micro\", \"stepped\": false, \"type\": \"scatter\", \"data\": [0.8326271186440678, 0.8535310734463277, 0.8744350282485875, 0.8496468926553673, 0.8451977401129944, 0.7156073446327684, 0.8535310734463277, 0.7409604519774011, 0.8410310734463278, 0.8369350282485876, 0.8411016949152542, 0.7951977401129944, 0.8074858757062148, 0.7826271186440678, 0.8033898305084747, 0.7656779661016948, 0.8327683615819209, 0.8411016949152542, 0.8242231638418079, 0.5898305084745762, 0.845268361581921, 0.7868644067796611, 0.8410310734463277, 0.811864406779661, 0.7953389830508474, 0.7991525423728815, 0.887005649717514, 0.8661016949152542]}, {\"categories\": [\"0\", \"1\", \"2\", \"3\", \"4\", \"5\", \"6\", \"7\", \"8\", \"9\", \"10\", \"11\", \"12\", \"13\", \"14\", \"15\", \"16\", \"17\", \"18\", \"19\", \"20\", \"21\", \"22\", \"23\", \"24\", \"25\", \"26\", \"27\"], \"mode\": \"lines\", \"name\": \"f1_score_micro_max\", \"stepped\": true, \"type\": \"scatter\", \"data\": [0.8326271186440678, 0.8535310734463277, 0.8744350282485875, 0.8744350282485875, 0.8744350282485875, 0.8744350282485875, 0.8744350282485875, 0.8744350282485875, 0.8744350282485875, 0.8744350282485875, 0.8744350282485875, 0.8744350282485875, 0.8744350282485875, 0.8744350282485875, 0.8744350282485875, 0.8744350282485875, 0.8744350282485875, 0.8744350282485875, 0.8744350282485875, 0.8744350282485875, 0.8744350282485875, 0.8744350282485875, 0.8744350282485875, 0.8744350282485875, 0.8744350282485875, 0.8744350282485875, 0.887005649717514, 0.887005649717514]}], \"matthews_correlation\": [{\"categories\": [\"0\", \"1\", \"2\", \"3\", \"4\", \"5\", \"6\", \"7\", \"8\", \"9\", \"10\", \"11\", \"12\", \"13\", \"14\", \"15\", \"16\", \"17\", \"18\", \"19\", \"20\", \"21\", \"22\", \"23\", \"24\", \"25\", \"26\", \"27\"], \"mode\": \"markers\", \"name\": \"matthews_correlation\", \"stepped\": false, \"type\": \"scatter\", \"data\": [0.6254886810844041, 0.6757323941335481, 0.7244459829211876, 0.6656353466553923, 0.6573447908757519, 0.3326159076776141, 0.6756771864327601, 0.4046594760568005, 0.6432531333086007, 0.6320023066973252, 0.6466246228355229, 0.5366653634141426, 0.5684805986584395, 0.5125497146124018, 0.5475879542430817, 0.45291808082998, 0.6266160643865326, 0.6451787877322169, 0.6097008596375221, 0.027205395201205265, 0.6601964299619512, 0.5140906788260113, 0.6550989309530079, 0.5772563766711217, 0.5314876312016957, 0.5391469013921417, 0.7512721116896034, 0.7066488296360232]}, {\"categories\": [\"0\", \"1\", \"2\", \"3\", \"4\", \"5\", \"6\", \"7\", \"8\", \"9\", \"10\", \"11\", \"12\", \"13\", \"14\", \"15\", \"16\", \"17\", \"18\", \"19\", \"20\", \"21\", \"22\", \"23\", \"24\", \"25\", \"26\", \"27\"], \"mode\": \"lines\", \"name\": \"matthews_correlation_max\", \"stepped\": true, \"type\": \"scatter\", \"data\": [0.6254886810844041, 0.6757323941335481, 0.7244459829211876, 0.7244459829211876, 0.7244459829211876, 0.7244459829211876, 0.7244459829211876, 0.7244459829211876, 0.7244459829211876, 0.7244459829211876, 0.7244459829211876, 0.7244459829211876, 0.7244459829211876, 0.7244459829211876, 0.7244459829211876, 0.7244459829211876, 0.7244459829211876, 0.7244459829211876, 0.7244459829211876, 0.7244459829211876, 0.7244459829211876, 0.7244459829211876, 0.7244459829211876, 0.7244459829211876, 0.7244459829211876, 0.7244459829211876, 0.7512721116896034, 0.7512721116896034]}], \"precision_score_macro\": [{\"categories\": [\"0\", \"1\", \"2\", \"3\", \"4\", \"5\", \"6\", \"7\", \"8\", \"9\", \"10\", \"11\", \"12\", \"13\", \"14\", \"15\", \"16\", \"17\", \"18\", \"19\", \"20\", \"21\", \"22\", \"23\", \"24\", \"25\", \"26\", \"27\"], \"mode\": \"markers\", \"name\": \"precision_score_macro\", \"stepped\": false, \"type\": \"scatter\", \"data\": [0.8203465616509096, 0.8429025926558822, 0.8651523100536258, 0.8439616513486652, 0.8304078879868961, 0.7084499601882914, 0.840273624401914, 0.7729147789183919, 0.8478807876905703, 0.8424192656924583, 0.8524761037822923, 0.8254729818348745, 0.8046859380982877, 0.7680551727206092, 0.8130608907586996, 0.7739987389016892, 0.8202894240128282, 0.8553209985101752, 0.816381874069231, 0.5166443675372246, 0.8384440870853914, 0.7998258253266071, 0.8294984620642516, 0.7968419607475741, 0.7919454466569237, 0.7913095193151256, 0.8762014411027568, 0.8558556308556309]}, {\"categories\": [\"0\", \"1\", \"2\", \"3\", \"4\", \"5\", \"6\", \"7\", \"8\", \"9\", \"10\", \"11\", \"12\", \"13\", \"14\", \"15\", \"16\", \"17\", \"18\", \"19\", \"20\", \"21\", \"22\", \"23\", \"24\", \"25\", \"26\", \"27\"], \"mode\": \"lines\", \"name\": \"precision_score_macro_max\", \"stepped\": true, \"type\": \"scatter\", \"data\": [0.8203465616509096, 0.8429025926558822, 0.8651523100536258, 0.8651523100536258, 0.8651523100536258, 0.8651523100536258, 0.8651523100536258, 0.8651523100536258, 0.8651523100536258, 0.8651523100536258, 0.8651523100536258, 0.8651523100536258, 0.8651523100536258, 0.8651523100536258, 0.8651523100536258, 0.8651523100536258, 0.8651523100536258, 0.8651523100536258, 0.8651523100536258, 0.8651523100536258, 0.8651523100536258, 0.8651523100536258, 0.8651523100536258, 0.8651523100536258, 0.8651523100536258, 0.8651523100536258, 0.8762014411027568, 0.8762014411027568]}], \"AUC_macro\": [{\"categories\": [\"0\", \"1\", \"2\", \"3\", \"4\", \"5\", \"6\", \"7\", \"8\", \"9\", \"10\", \"11\", \"12\", \"13\", \"14\", \"15\", \"16\", \"17\", \"18\", \"19\", \"20\", \"21\", \"22\", \"23\", \"24\", \"25\", \"26\", \"27\"], \"mode\": \"markers\", \"name\": \"AUC_macro\", \"stepped\": false, \"type\": \"scatter\", \"data\": [0.9282074461992627, 0.9400751943374697, 0.9176940700328056, 0.9209136116729988, 0.9035890029952931, 0.7655969056201727, 0.9314061534255693, 0.8628415155513198, 0.9147999437031851, 0.9282011654845416, 0.9007478575334, 0.9099394809239161, 0.9032105055151429, 0.8473543367187061, 0.8879965546565354, 0.8777552077255222, 0.8967170231411246, 0.9134774818142919, 0.9205702828185578, 0.47345016948474905, 0.9148791279828667, 0.906842717126334, 0.9124682790139305, 0.8987488343533755, 0.8757909648474476, 0.8348423932305511, 0.9298096362642255, 0.9328171193643755]}, {\"categories\": [\"0\", \"1\", \"2\", \"3\", \"4\", \"5\", \"6\", \"7\", \"8\", \"9\", \"10\", \"11\", \"12\", \"13\", \"14\", \"15\", \"16\", \"17\", \"18\", \"19\", \"20\", \"21\", \"22\", \"23\", \"24\", \"25\", \"26\", \"27\"], \"mode\": \"lines\", \"name\": \"AUC_macro_max\", \"stepped\": true, \"type\": \"scatter\", \"data\": [0.9282074461992627, 0.9400751943374697, 0.9400751943374697, 0.9400751943374697, 0.9400751943374697, 0.9400751943374697, 0.9400751943374697, 0.9400751943374697, 0.9400751943374697, 0.9400751943374697, 0.9400751943374697, 0.9400751943374697, 0.9400751943374697, 0.9400751943374697, 0.9400751943374697, 0.9400751943374697, 0.9400751943374697, 0.9400751943374697, 0.9400751943374697, 0.9400751943374697, 0.9400751943374697, 0.9400751943374697, 0.9400751943374697, 0.9400751943374697, 0.9400751943374697, 0.9400751943374697, 0.9400751943374697, 0.9400751943374697]}], \"AUC_weighted\": [{\"categories\": [\"0\", \"1\", \"2\", \"3\", \"4\", \"5\", \"6\", \"7\", \"8\", \"9\", \"10\", \"11\", \"12\", \"13\", \"14\", \"15\", \"16\", \"17\", \"18\", \"19\", \"20\", \"21\", \"22\", \"23\", \"24\", \"25\", \"26\", \"27\"], \"mode\": \"markers\", \"name\": \"AUC_weighted\", \"stepped\": false, \"type\": \"scatter\", \"data\": [0.9282074461992625, 0.9400751943374697, 0.9176280418301507, 0.9209136116729987, 0.9036089391994397, 0.7655969056201727, 0.9314061534255693, 0.8628415155513198, 0.9147999437031851, 0.9282011654845416, 0.9007478575334, 0.9099394809239162, 0.9032105055151429, 0.8473543367187062, 0.8879965546565354, 0.8777552077255222, 0.8967170231411246, 0.9134774818142919, 0.9205702828185578, 0.47345016948474905, 0.9148791279828667, 0.906842717126334, 0.9124682790139305, 0.8987488343533755, 0.8757909648474476, 0.8348423932305511, 0.9298096362642255, 0.9328171193643755]}, {\"categories\": [\"0\", \"1\", \"2\", \"3\", \"4\", \"5\", \"6\", \"7\", \"8\", \"9\", \"10\", \"11\", \"12\", \"13\", \"14\", \"15\", \"16\", \"17\", \"18\", \"19\", \"20\", \"21\", \"22\", \"23\", \"24\", \"25\", \"26\", \"27\"], \"mode\": \"lines\", \"name\": \"AUC_weighted_max\", \"stepped\": true, \"type\": \"scatter\", \"data\": [0.9282074461992625, 0.9400751943374697, 0.9400751943374697, 0.9400751943374697, 0.9400751943374697, 0.9400751943374697, 0.9400751943374697, 0.9400751943374697, 0.9400751943374697, 0.9400751943374697, 0.9400751943374697, 0.9400751943374697, 0.9400751943374697, 0.9400751943374697, 0.9400751943374697, 0.9400751943374697, 0.9400751943374697, 0.9400751943374697, 0.9400751943374697, 0.9400751943374697, 0.9400751943374697, 0.9400751943374697, 0.9400751943374697, 0.9400751943374697, 0.9400751943374697, 0.9400751943374697, 0.9400751943374697, 0.9400751943374697]}], \"AUC_micro\": [{\"categories\": [\"0\", \"1\", \"2\", \"3\", \"4\", \"5\", \"6\", \"7\", \"8\", \"9\", \"10\", \"11\", \"12\", \"13\", \"14\", \"15\", \"16\", \"17\", \"18\", \"19\", \"20\", \"21\", \"22\", \"23\", \"24\", \"25\", \"26\", \"27\"], \"mode\": \"markers\", \"name\": \"AUC_micro\", \"stepped\": false, \"type\": \"scatter\", \"data\": [0.9284924510836605, 0.9393239889559195, 0.9244952460180664, 0.9212524138976667, 0.916763172699416, 0.8014418250662325, 0.9368394299211592, 0.8460173880430272, 0.9195821962079862, 0.9200362483641356, 0.9057965862300105, 0.8865325856235436, 0.9041382385329886, 0.8594011738325512, 0.8885559705065594, 0.8745501771521593, 0.89868951291136, 0.9109592151042165, 0.9171771561492548, 0.600556991924415, 0.9202962311277091, 0.8873629464713205, 0.9180698593954483, 0.9023481039931055, 0.8783292237224296, 0.8503752114654155, 0.9362886223626671, 0.9357763972677072]}, {\"categories\": [\"0\", \"1\", \"2\", \"3\", \"4\", \"5\", \"6\", \"7\", \"8\", \"9\", \"10\", \"11\", \"12\", \"13\", \"14\", \"15\", \"16\", \"17\", \"18\", \"19\", \"20\", \"21\", \"22\", \"23\", \"24\", \"25\", \"26\", \"27\"], \"mode\": \"lines\", \"name\": \"AUC_micro_max\", \"stepped\": true, \"type\": \"scatter\", \"data\": [0.9284924510836605, 0.9393239889559195, 0.9393239889559195, 0.9393239889559195, 0.9393239889559195, 0.9393239889559195, 0.9393239889559195, 0.9393239889559195, 0.9393239889559195, 0.9393239889559195, 0.9393239889559195, 0.9393239889559195, 0.9393239889559195, 0.9393239889559195, 0.9393239889559195, 0.9393239889559195, 0.9393239889559195, 0.9393239889559195, 0.9393239889559195, 0.9393239889559195, 0.9393239889559195, 0.9393239889559195, 0.9393239889559195, 0.9393239889559195, 0.9393239889559195, 0.9393239889559195, 0.9393239889559195, 0.9393239889559195]}], \"weighted_accuracy\": [{\"categories\": [\"0\", \"1\", \"2\", \"3\", \"4\", \"5\", \"6\", \"7\", \"8\", \"9\", \"10\", \"11\", \"12\", \"13\", \"14\", \"15\", \"16\", \"17\", \"18\", \"19\", \"20\", \"21\", \"22\", \"23\", \"24\", \"25\", \"26\", \"27\"], \"mode\": \"markers\", \"name\": \"weighted_accuracy\", \"stepped\": false, \"type\": \"scatter\", \"data\": [0.8534685788002021, 0.8697479165827837, 0.8865263097903335, 0.8719262727513213, 0.8591112131611973, 0.7821771220599414, 0.8676732277861032, 0.8128049428728843, 0.8757650286588681, 0.8734810104089294, 0.8765265471681593, 0.8537206500089481, 0.8410905971555414, 0.8124076444982262, 0.8537998449363946, 0.8253483323035691, 0.8532040861161748, 0.8797468087017919, 0.8485869801902958, 0.6539280424752345, 0.8634677946983389, 0.839162746172943, 0.8528158073465812, 0.8367968485288855, 0.8384009825912154, 0.8377918412197578, 0.8960937904397048, 0.87778990254756]}, {\"categories\": [\"0\", \"1\", \"2\", \"3\", \"4\", \"5\", \"6\", \"7\", \"8\", \"9\", \"10\", \"11\", \"12\", \"13\", \"14\", \"15\", \"16\", \"17\", \"18\", \"19\", \"20\", \"21\", \"22\", \"23\", \"24\", \"25\", \"26\", \"27\"], \"mode\": \"lines\", \"name\": \"weighted_accuracy_max\", \"stepped\": true, \"type\": \"scatter\", \"data\": [0.8534685788002021, 0.8697479165827837, 0.8865263097903335, 0.8865263097903335, 0.8865263097903335, 0.8865263097903335, 0.8865263097903335, 0.8865263097903335, 0.8865263097903335, 0.8865263097903335, 0.8865263097903335, 0.8865263097903335, 0.8865263097903335, 0.8865263097903335, 0.8865263097903335, 0.8865263097903335, 0.8865263097903335, 0.8865263097903335, 0.8865263097903335, 0.8865263097903335, 0.8865263097903335, 0.8865263097903335, 0.8865263097903335, 0.8865263097903335, 0.8865263097903335, 0.8865263097903335, 0.8960937904397048, 0.8960937904397048]}], \"recall_score_micro\": [{\"categories\": [\"0\", \"1\", \"2\", \"3\", \"4\", \"5\", \"6\", \"7\", \"8\", \"9\", \"10\", \"11\", \"12\", \"13\", \"14\", \"15\", \"16\", \"17\", \"18\", \"19\", \"20\", \"21\", \"22\", \"23\", \"24\", \"25\", \"26\", \"27\"], \"mode\": \"markers\", \"name\": \"recall_score_micro\", \"stepped\": false, \"type\": \"scatter\", \"data\": [0.8326271186440678, 0.8535310734463277, 0.8744350282485875, 0.8496468926553673, 0.8451977401129944, 0.7156073446327684, 0.8535310734463277, 0.7409604519774011, 0.8410310734463277, 0.8369350282485876, 0.8411016949152542, 0.7951977401129943, 0.8074858757062148, 0.7826271186440678, 0.8033898305084747, 0.7656779661016948, 0.8327683615819209, 0.8411016949152542, 0.8242231638418079, 0.5898305084745762, 0.8452683615819209, 0.786864406779661, 0.8410310734463277, 0.811864406779661, 0.7953389830508474, 0.7991525423728815, 0.887005649717514, 0.8661016949152542]}, {\"categories\": [\"0\", \"1\", \"2\", \"3\", \"4\", \"5\", \"6\", \"7\", \"8\", \"9\", \"10\", \"11\", \"12\", \"13\", \"14\", \"15\", \"16\", \"17\", \"18\", \"19\", \"20\", \"21\", \"22\", \"23\", \"24\", \"25\", \"26\", \"27\"], \"mode\": \"lines\", \"name\": \"recall_score_micro_max\", \"stepped\": true, \"type\": \"scatter\", \"data\": [0.8326271186440678, 0.8535310734463277, 0.8744350282485875, 0.8744350282485875, 0.8744350282485875, 0.8744350282485875, 0.8744350282485875, 0.8744350282485875, 0.8744350282485875, 0.8744350282485875, 0.8744350282485875, 0.8744350282485875, 0.8744350282485875, 0.8744350282485875, 0.8744350282485875, 0.8744350282485875, 0.8744350282485875, 0.8744350282485875, 0.8744350282485875, 0.8744350282485875, 0.8744350282485875, 0.8744350282485875, 0.8744350282485875, 0.8744350282485875, 0.8744350282485875, 0.8744350282485875, 0.887005649717514, 0.887005649717514]}], \"norm_macro_recall\": [{\"categories\": [\"0\", \"1\", \"2\", \"3\", \"4\", \"5\", \"6\", \"7\", \"8\", \"9\", \"10\", \"11\", \"12\", \"13\", \"14\", \"15\", \"16\", \"17\", \"18\", \"19\", \"20\", \"21\", \"22\", \"23\", \"24\", \"25\", \"26\", \"27\"], \"mode\": \"markers\", \"name\": \"norm_macro_recall\", \"stepped\": false, \"type\": \"scatter\", \"data\": [0.6121042744518355, 0.6667793143242438, 0.7195442065066583, 0.6453495156961139, 0.6542028922083479, 0.267506580568198, 0.6715640033194591, 0.3066666342500745, 0.5959907969295004, 0.583946006924184, 0.595625299853477, 0.445606174064133, 0.5325089793960139, 0.492669392902063, 0.47991265349256357, 0.3803807490826105, 0.6150947050738449, 0.5868870022432282, 0.5889616641381725, 0.024186424579556776, 0.6458300916741224, 0.44429330208373846, 0.6520435419665201, 0.5625457884363533, 0.4853440535003436, 0.5007613847071484, 0.7508942927347934, 0.702914089547594]}, {\"categories\": [\"0\", \"1\", \"2\", \"3\", \"4\", \"5\", \"6\", \"7\", \"8\", \"9\", \"10\", \"11\", \"12\", \"13\", \"14\", \"15\", \"16\", \"17\", \"18\", \"19\", \"20\", \"21\", \"22\", \"23\", \"24\", \"25\", \"26\", \"27\"], \"mode\": \"lines\", \"name\": \"norm_macro_recall_max\", \"stepped\": true, \"type\": \"scatter\", \"data\": [0.6121042744518355, 0.6667793143242438, 0.7195442065066583, 0.7195442065066583, 0.7195442065066583, 0.7195442065066583, 0.7195442065066583, 0.7195442065066583, 0.7195442065066583, 0.7195442065066583, 0.7195442065066583, 0.7195442065066583, 0.7195442065066583, 0.7195442065066583, 0.7195442065066583, 0.7195442065066583, 0.7195442065066583, 0.7195442065066583, 0.7195442065066583, 0.7195442065066583, 0.7195442065066583, 0.7195442065066583, 0.7195442065066583, 0.7195442065066583, 0.7195442065066583, 0.7195442065066583, 0.7508942927347934, 0.7508942927347934]}], \"average_precision_score_weighted\": [{\"categories\": [\"0\", \"1\", \"2\", \"3\", \"4\", \"5\", \"6\", \"7\", \"8\", \"9\", \"10\", \"11\", \"12\", \"13\", \"14\", \"15\", \"16\", \"17\", \"18\", \"19\", \"20\", \"21\", \"22\", \"23\", \"24\", \"25\", \"26\", \"27\"], \"mode\": \"markers\", \"name\": \"average_precision_score_weighted\", \"stepped\": false, \"type\": \"scatter\", \"data\": [0.9292195687367655, 0.9394358542638922, 0.923457191954992, 0.9199517621004623, 0.9055419175014636, 0.7787059590376721, 0.9328525997072702, 0.8632514112111203, 0.915610199788715, 0.9302519017778104, 0.8989556546537021, 0.9134067476606903, 0.9010010873723093, 0.847213732036886, 0.8944204948376828, 0.8875999211928034, 0.8921864675153327, 0.9181184241458359, 0.9190570873888009, 0.5577957982369076, 0.9210367100844447, 0.9132443938809403, 0.9139308466637577, 0.8961684151928592, 0.8799299306390069, 0.8248161923794739, 0.9316850633756819, 0.9327184522045303]}, {\"categories\": [\"0\", \"1\", \"2\", \"3\", \"4\", \"5\", \"6\", \"7\", \"8\", \"9\", \"10\", \"11\", \"12\", \"13\", \"14\", \"15\", \"16\", \"17\", \"18\", \"19\", \"20\", \"21\", \"22\", \"23\", \"24\", \"25\", \"26\", \"27\"], \"mode\": \"lines\", \"name\": \"average_precision_score_weighted_max\", \"stepped\": true, \"type\": \"scatter\", \"data\": [0.9292195687367655, 0.9394358542638922, 0.9394358542638922, 0.9394358542638922, 0.9394358542638922, 0.9394358542638922, 0.9394358542638922, 0.9394358542638922, 0.9394358542638922, 0.9394358542638922, 0.9394358542638922, 0.9394358542638922, 0.9394358542638922, 0.9394358542638922, 0.9394358542638922, 0.9394358542638922, 0.9394358542638922, 0.9394358542638922, 0.9394358542638922, 0.9394358542638922, 0.9394358542638922, 0.9394358542638922, 0.9394358542638922, 0.9394358542638922, 0.9394358542638922, 0.9394358542638922, 0.9394358542638922, 0.9394358542638922]}]}, \"metricName\": null, \"primaryMetricName\": \"accuracy\", \"showLegend\": false}, \"run_metrics\": [{\"name\": \"experiment_status\", \"run_id\": \"AutoML_3e325779-ff8d-4e8c-8f0b-9a482989a051\", \"categories\": [0, 1, 2, 3, 4, 5, 6, 7, 8, 9, 10, 11, 12, 13], \"series\": [{\"data\": [\"DatasetEvaluation\", \"FeaturesGeneration\", \"DatasetFeaturization\", \"DatasetFeaturizationCompleted\", \"DatasetCrossValidationSplit\", \"ModelSelection\", \"BestRunExplainModel\", \"ModelExplanationDataSetSetup\", \"PickSurrogateModel\", \"EngineeredFeatureExplanations\", \"EngineeredFeatureExplanations\", \"RawFeaturesExplanations\", \"RawFeaturesExplanations\", \"BestRunExplainModel\"]}]}, {\"name\": \"experiment_status_description\", \"run_id\": \"AutoML_3e325779-ff8d-4e8c-8f0b-9a482989a051\", \"categories\": [0, 1, 2, 3, 4, 5, 6, 7, 8, 9, 10, 11, 12, 13], \"series\": [{\"data\": [\"Gathering dataset statistics.\", \"Generating features for the dataset.\", \"Beginning to fit featurizers and featurize the dataset.\", \"Completed fit featurizers and featurizing the dataset.\", \"Generating individually featurized CV splits.\", \"Beginning model selection.\", \"Best run model explanations started\", \"Model explanations data setup completed\", \"Choosing LightGBM as the surrogate model for explanations\", \"Computation of engineered features started\", \"Computation of engineered features completed\", \"Computation of raw features started\", \"Computation of raw features completed\", \"Best run model explanations completed\"]}]}, {\"name\": \"f1_score_micro\", \"run_id\": \"AutoML_3e325779-ff8d-4e8c-8f0b-9a482989a051\", \"categories\": [0], \"series\": [{\"data\": [0.887005649717514]}]}, {\"name\": \"recall_score_micro\", \"run_id\": \"AutoML_3e325779-ff8d-4e8c-8f0b-9a482989a051\", \"categories\": [0], \"series\": [{\"data\": [0.887005649717514]}]}, {\"name\": \"average_precision_score_micro\", \"run_id\": \"AutoML_3e325779-ff8d-4e8c-8f0b-9a482989a051\", \"categories\": [0], \"series\": [{\"data\": [0.9387781197144919]}]}, {\"name\": \"balanced_accuracy\", \"run_id\": \"AutoML_3e325779-ff8d-4e8c-8f0b-9a482989a051\", \"categories\": [0], \"series\": [{\"data\": [0.8754471463673967]}]}, {\"name\": \"AUC_macro\", \"run_id\": \"AutoML_3e325779-ff8d-4e8c-8f0b-9a482989a051\", \"categories\": [0], \"series\": [{\"data\": [0.9298096362642255]}]}, {\"name\": \"average_precision_score_macro\", \"run_id\": \"AutoML_3e325779-ff8d-4e8c-8f0b-9a482989a051\", \"categories\": [0], \"series\": [{\"data\": [0.9153582497473376]}]}, {\"name\": \"accuracy\", \"run_id\": \"AutoML_3e325779-ff8d-4e8c-8f0b-9a482989a051\", \"categories\": [0], \"series\": [{\"data\": [0.887005649717514]}]}, {\"name\": \"log_loss\", \"run_id\": \"AutoML_3e325779-ff8d-4e8c-8f0b-9a482989a051\", \"categories\": [0], \"series\": [{\"data\": [0.34071214863878496]}]}, {\"name\": \"recall_score_weighted\", \"run_id\": \"AutoML_3e325779-ff8d-4e8c-8f0b-9a482989a051\", \"categories\": [0], \"series\": [{\"data\": [0.887005649717514]}]}, {\"name\": \"AUC_micro\", \"run_id\": \"AutoML_3e325779-ff8d-4e8c-8f0b-9a482989a051\", \"categories\": [0], \"series\": [{\"data\": [0.9362886223626671]}]}, {\"name\": \"recall_score_macro\", \"run_id\": \"AutoML_3e325779-ff8d-4e8c-8f0b-9a482989a051\", \"categories\": [0], \"series\": [{\"data\": [0.8754471463673967]}]}, {\"name\": \"average_precision_score_weighted\", \"run_id\": \"AutoML_3e325779-ff8d-4e8c-8f0b-9a482989a051\", \"categories\": [0], \"series\": [{\"data\": [0.9316850633756819]}]}, {\"name\": \"f1_score_weighted\", \"run_id\": \"AutoML_3e325779-ff8d-4e8c-8f0b-9a482989a051\", \"categories\": [0], \"series\": [{\"data\": [0.8869402000645283]}]}, {\"name\": \"precision_score_micro\", \"run_id\": \"AutoML_3e325779-ff8d-4e8c-8f0b-9a482989a051\", \"categories\": [0], \"series\": [{\"data\": [0.887005649717514]}]}, {\"name\": \"norm_macro_recall\", \"run_id\": \"AutoML_3e325779-ff8d-4e8c-8f0b-9a482989a051\", \"categories\": [0], \"series\": [{\"data\": [0.7508942927347934]}]}, {\"name\": \"matthews_correlation\", \"run_id\": \"AutoML_3e325779-ff8d-4e8c-8f0b-9a482989a051\", \"categories\": [0], \"series\": [{\"data\": [0.7512721116896034]}]}, {\"name\": \"AUC_weighted\", \"run_id\": \"AutoML_3e325779-ff8d-4e8c-8f0b-9a482989a051\", \"categories\": [0], \"series\": [{\"data\": [0.9298096362642255]}]}, {\"name\": \"precision_score_weighted\", \"run_id\": \"AutoML_3e325779-ff8d-4e8c-8f0b-9a482989a051\", \"categories\": [0], \"series\": [{\"data\": [0.8895307169599654]}]}, {\"name\": \"precision_score_macro\", \"run_id\": \"AutoML_3e325779-ff8d-4e8c-8f0b-9a482989a051\", \"categories\": [0], \"series\": [{\"data\": [0.8762014411027568]}]}, {\"name\": \"weighted_accuracy\", \"run_id\": \"AutoML_3e325779-ff8d-4e8c-8f0b-9a482989a051\", \"categories\": [0], \"series\": [{\"data\": [0.8960937904397048]}]}, {\"name\": \"f1_score_macro\", \"run_id\": \"AutoML_3e325779-ff8d-4e8c-8f0b-9a482989a051\", \"categories\": [0], \"series\": [{\"data\": [0.8740990734327544]}]}], \"run_logs\": \"\\nRun is completed.\", \"graph\": {}, \"widget_settings\": {\"childWidgetDisplay\": \"popup\", \"send_telemetry\": false, \"log_level\": \"INFO\", \"sdk_version\": \"1.20.0\"}, \"loading\": false}"
     },
     "metadata": {},
     "output_type": "display_data"
    }
   ],
   "source": [
    "from azureml.widgets import RunDetails\n",
    "RunDetails(remote_run).show()"
   ]
  },
  {
   "cell_type": "code",
   "execution_count": 14,
   "metadata": {},
   "outputs": [
    {
     "data": {
      "text/plain": [
       "{'runId': 'AutoML_3e325779-ff8d-4e8c-8f0b-9a482989a051',\n",
       " 'target': 'cpu-compute',\n",
       " 'status': 'Completed',\n",
       " 'startTimeUtc': '2021-02-11T14:14:54.245623Z',\n",
       " 'endTimeUtc': '2021-02-11T14:56:21.589808Z',\n",
       " 'properties': {'num_iterations': '1000',\n",
       "  'training_type': 'TrainFull',\n",
       "  'acquisition_function': 'EI',\n",
       "  'primary_metric': 'accuracy',\n",
       "  'train_split': '0',\n",
       "  'acquisition_parameter': '0',\n",
       "  'num_cross_validation': '4',\n",
       "  'target': 'cpu-compute',\n",
       "  'AMLSettingsJsonString': '{\"path\":null,\"name\":\"heart-failure-automl\",\"subscription_id\":\"510b94ba-e453-4417-988b-fbdc37b55ca7\",\"resource_group\":\"aml-quickstarts-138577\",\"workspace_name\":\"quick-starts-ws-138577\",\"region\":\"southcentralus\",\"compute_target\":\"cpu-compute\",\"spark_service\":null,\"azure_service\":\"remote\",\"many_models\":false,\"pipeline_fetch_max_batch_size\":1,\"iterations\":1000,\"primary_metric\":\"accuracy\",\"task_type\":\"classification\",\"data_script\":null,\"validation_size\":0.0,\"n_cross_validations\":4,\"y_min\":null,\"y_max\":null,\"num_classes\":null,\"featurization\":\"auto\",\"_ignore_package_version_incompatibilities\":false,\"is_timeseries\":false,\"max_cores_per_iteration\":1,\"max_concurrent_iterations\":1,\"iteration_timeout_minutes\":null,\"mem_in_mb\":null,\"enforce_time_on_windows\":false,\"experiment_timeout_minutes\":30,\"experiment_exit_score\":null,\"whitelist_models\":null,\"blacklist_algos\":[\"TensorFlowLinearClassifier\",\"TensorFlowDNN\"],\"supported_models\":[\"RandomForest\",\"AveragedPerceptronClassifier\",\"TensorFlowDNN\",\"ExtremeRandomTrees\",\"DecisionTree\",\"MultinomialNaiveBayes\",\"KNN\",\"SVM\",\"LinearSVM\",\"LightGBM\",\"LogisticRegression\",\"SGD\",\"BernoulliNaiveBayes\",\"TensorFlowLinearClassifier\",\"XGBoostClassifier\",\"GradientBoosting\"],\"auto_blacklist\":true,\"blacklist_samples_reached\":false,\"exclude_nan_labels\":true,\"verbosity\":20,\"_debug_log\":\"azureml_automl.log\",\"show_warnings\":false,\"model_explainability\":true,\"service_url\":null,\"sdk_url\":null,\"sdk_packages\":null,\"enable_onnx_compatible_models\":false,\"enable_split_onnx_featurizer_estimator_models\":false,\"vm_type\":\"STANDARD_D2_V2\",\"telemetry_verbosity\":20,\"send_telemetry\":true,\"enable_dnn\":false,\"scenario\":\"SDK-1.13.0\",\"environment_label\":null,\"force_text_dnn\":false,\"enable_feature_sweeping\":true,\"enable_early_stopping\":true,\"early_stopping_n_iters\":10,\"metrics\":null,\"enable_ensembling\":true,\"enable_stack_ensembling\":true,\"ensemble_iterations\":15,\"enable_tf\":false,\"enable_subsampling\":null,\"subsample_seed\":null,\"enable_nimbusml\":false,\"enable_streaming\":false,\"force_streaming\":false,\"track_child_runs\":true,\"allowed_private_models\":[],\"label_column_name\":\"DEATH_EVENT\",\"weight_column_name\":null,\"cv_split_column_names\":null,\"enable_local_managed\":false,\"_local_managed_run_id\":null,\"cost_mode\":1,\"lag_length\":0,\"metric_operation\":\"maximize\",\"preprocess\":true}',\n",
       "  'DataPrepJsonString': '{\\\\\"training_data\\\\\": \\\\\"{\\\\\\\\\\\\\"blocks\\\\\\\\\\\\\": [{\\\\\\\\\\\\\"id\\\\\\\\\\\\\": \\\\\\\\\\\\\"66350aaa-24ce-49a4-90ac-6a78e9505d6b\\\\\\\\\\\\\", \\\\\\\\\\\\\"type\\\\\\\\\\\\\": \\\\\\\\\\\\\"Microsoft.DPrep.GetDatastoreFilesBlock\\\\\\\\\\\\\", \\\\\\\\\\\\\"arguments\\\\\\\\\\\\\": {\\\\\\\\\\\\\"datastores\\\\\\\\\\\\\": [{\\\\\\\\\\\\\"datastoreName\\\\\\\\\\\\\": \\\\\\\\\\\\\"workspaceblobstore\\\\\\\\\\\\\", \\\\\\\\\\\\\"path\\\\\\\\\\\\\": \\\\\\\\\\\\\"heart-failure/train_data.csv\\\\\\\\\\\\\", \\\\\\\\\\\\\"resourceGroup\\\\\\\\\\\\\": \\\\\\\\\\\\\"aml-quickstarts-138577\\\\\\\\\\\\\", \\\\\\\\\\\\\"subscription\\\\\\\\\\\\\": \\\\\\\\\\\\\"510b94ba-e453-4417-988b-fbdc37b55ca7\\\\\\\\\\\\\", \\\\\\\\\\\\\"workspaceName\\\\\\\\\\\\\": \\\\\\\\\\\\\"quick-starts-ws-138577\\\\\\\\\\\\\"}]}, \\\\\\\\\\\\\"localData\\\\\\\\\\\\\": {}, \\\\\\\\\\\\\"isEnabled\\\\\\\\\\\\\": true, \\\\\\\\\\\\\"name\\\\\\\\\\\\\": null, \\\\\\\\\\\\\"annotation\\\\\\\\\\\\\": null}, {\\\\\\\\\\\\\"id\\\\\\\\\\\\\": \\\\\\\\\\\\\"dafd89f7-8b45-4dae-bc92-35b16e190003\\\\\\\\\\\\\", \\\\\\\\\\\\\"type\\\\\\\\\\\\\": \\\\\\\\\\\\\"Microsoft.DPrep.ParseDelimitedBlock\\\\\\\\\\\\\", \\\\\\\\\\\\\"arguments\\\\\\\\\\\\\": {\\\\\\\\\\\\\"columnHeadersMode\\\\\\\\\\\\\": 3, \\\\\\\\\\\\\"fileEncoding\\\\\\\\\\\\\": 0, \\\\\\\\\\\\\"handleQuotedLineBreaks\\\\\\\\\\\\\": false, \\\\\\\\\\\\\"preview\\\\\\\\\\\\\": false, \\\\\\\\\\\\\"separator\\\\\\\\\\\\\": \\\\\\\\\\\\\",\\\\\\\\\\\\\", \\\\\\\\\\\\\"skipRows\\\\\\\\\\\\\": 0, \\\\\\\\\\\\\"skipRowsMode\\\\\\\\\\\\\": 0}, \\\\\\\\\\\\\"localData\\\\\\\\\\\\\": {}, \\\\\\\\\\\\\"isEnabled\\\\\\\\\\\\\": true, \\\\\\\\\\\\\"name\\\\\\\\\\\\\": null, \\\\\\\\\\\\\"annotation\\\\\\\\\\\\\": null}, {\\\\\\\\\\\\\"id\\\\\\\\\\\\\": \\\\\\\\\\\\\"07cbbb27-c1a1-43a6-95fe-6deabc4f6025\\\\\\\\\\\\\", \\\\\\\\\\\\\"type\\\\\\\\\\\\\": \\\\\\\\\\\\\"Microsoft.DPrep.DropColumnsBlock\\\\\\\\\\\\\", \\\\\\\\\\\\\"arguments\\\\\\\\\\\\\": {\\\\\\\\\\\\\"columns\\\\\\\\\\\\\": {\\\\\\\\\\\\\"type\\\\\\\\\\\\\": 0, \\\\\\\\\\\\\"details\\\\\\\\\\\\\": {\\\\\\\\\\\\\"selectedColumns\\\\\\\\\\\\\": [\\\\\\\\\\\\\"Path\\\\\\\\\\\\\"]}}}, \\\\\\\\\\\\\"localData\\\\\\\\\\\\\": {}, \\\\\\\\\\\\\"isEnabled\\\\\\\\\\\\\": true, \\\\\\\\\\\\\"name\\\\\\\\\\\\\": null, \\\\\\\\\\\\\"annotation\\\\\\\\\\\\\": null}, {\\\\\\\\\\\\\"id\\\\\\\\\\\\\": \\\\\\\\\\\\\"fdc4dac1-a4de-4507-8ec2-03d3d58ff264\\\\\\\\\\\\\", \\\\\\\\\\\\\"type\\\\\\\\\\\\\": \\\\\\\\\\\\\"Microsoft.DPrep.SetColumnTypesBlock\\\\\\\\\\\\\", \\\\\\\\\\\\\"arguments\\\\\\\\\\\\\": {\\\\\\\\\\\\\"columnConversion\\\\\\\\\\\\\": [{\\\\\\\\\\\\\"column\\\\\\\\\\\\\": {\\\\\\\\\\\\\"type\\\\\\\\\\\\\": 2, \\\\\\\\\\\\\"details\\\\\\\\\\\\\": {\\\\\\\\\\\\\"selectedColumn\\\\\\\\\\\\\": \\\\\\\\\\\\\"age\\\\\\\\\\\\\"}}, \\\\\\\\\\\\\"typeProperty\\\\\\\\\\\\\": 3}, {\\\\\\\\\\\\\"column\\\\\\\\\\\\\": {\\\\\\\\\\\\\"type\\\\\\\\\\\\\": 2, \\\\\\\\\\\\\"details\\\\\\\\\\\\\": {\\\\\\\\\\\\\"selectedColumn\\\\\\\\\\\\\": \\\\\\\\\\\\\"anaemia\\\\\\\\\\\\\"}}, \\\\\\\\\\\\\"typeProperty\\\\\\\\\\\\\": 2}, {\\\\\\\\\\\\\"column\\\\\\\\\\\\\": {\\\\\\\\\\\\\"type\\\\\\\\\\\\\": 2, \\\\\\\\\\\\\"details\\\\\\\\\\\\\": {\\\\\\\\\\\\\"selectedColumn\\\\\\\\\\\\\": \\\\\\\\\\\\\"creatinine_phosphokinase\\\\\\\\\\\\\"}}, \\\\\\\\\\\\\"typeProperty\\\\\\\\\\\\\": 2}, {\\\\\\\\\\\\\"column\\\\\\\\\\\\\": {\\\\\\\\\\\\\"type\\\\\\\\\\\\\": 2, \\\\\\\\\\\\\"details\\\\\\\\\\\\\": {\\\\\\\\\\\\\"selectedColumn\\\\\\\\\\\\\": \\\\\\\\\\\\\"diabetes\\\\\\\\\\\\\"}}, \\\\\\\\\\\\\"typeProperty\\\\\\\\\\\\\": 2}, {\\\\\\\\\\\\\"column\\\\\\\\\\\\\": {\\\\\\\\\\\\\"type\\\\\\\\\\\\\": 2, \\\\\\\\\\\\\"details\\\\\\\\\\\\\": {\\\\\\\\\\\\\"selectedColumn\\\\\\\\\\\\\": \\\\\\\\\\\\\"ejection_fraction\\\\\\\\\\\\\"}}, \\\\\\\\\\\\\"typeProperty\\\\\\\\\\\\\": 2}, {\\\\\\\\\\\\\"column\\\\\\\\\\\\\": {\\\\\\\\\\\\\"type\\\\\\\\\\\\\": 2, \\\\\\\\\\\\\"details\\\\\\\\\\\\\": {\\\\\\\\\\\\\"selectedColumn\\\\\\\\\\\\\": \\\\\\\\\\\\\"high_blood_pressure\\\\\\\\\\\\\"}}, \\\\\\\\\\\\\"typeProperty\\\\\\\\\\\\\": 2}, {\\\\\\\\\\\\\"column\\\\\\\\\\\\\": {\\\\\\\\\\\\\"type\\\\\\\\\\\\\": 2, \\\\\\\\\\\\\"details\\\\\\\\\\\\\": {\\\\\\\\\\\\\"selectedColumn\\\\\\\\\\\\\": \\\\\\\\\\\\\"platelets\\\\\\\\\\\\\"}}, \\\\\\\\\\\\\"typeProperty\\\\\\\\\\\\\": 3}, {\\\\\\\\\\\\\"column\\\\\\\\\\\\\": {\\\\\\\\\\\\\"type\\\\\\\\\\\\\": 2, \\\\\\\\\\\\\"details\\\\\\\\\\\\\": {\\\\\\\\\\\\\"selectedColumn\\\\\\\\\\\\\": \\\\\\\\\\\\\"serum_creatinine\\\\\\\\\\\\\"}}, \\\\\\\\\\\\\"typeProperty\\\\\\\\\\\\\": 3}, {\\\\\\\\\\\\\"column\\\\\\\\\\\\\": {\\\\\\\\\\\\\"type\\\\\\\\\\\\\": 2, \\\\\\\\\\\\\"details\\\\\\\\\\\\\": {\\\\\\\\\\\\\"selectedColumn\\\\\\\\\\\\\": \\\\\\\\\\\\\"serum_sodium\\\\\\\\\\\\\"}}, \\\\\\\\\\\\\"typeProperty\\\\\\\\\\\\\": 2}, {\\\\\\\\\\\\\"column\\\\\\\\\\\\\": {\\\\\\\\\\\\\"type\\\\\\\\\\\\\": 2, \\\\\\\\\\\\\"details\\\\\\\\\\\\\": {\\\\\\\\\\\\\"selectedColumn\\\\\\\\\\\\\": \\\\\\\\\\\\\"sex\\\\\\\\\\\\\"}}, \\\\\\\\\\\\\"typeProperty\\\\\\\\\\\\\": 2}, {\\\\\\\\\\\\\"column\\\\\\\\\\\\\": {\\\\\\\\\\\\\"type\\\\\\\\\\\\\": 2, \\\\\\\\\\\\\"details\\\\\\\\\\\\\": {\\\\\\\\\\\\\"selectedColumn\\\\\\\\\\\\\": \\\\\\\\\\\\\"smoking\\\\\\\\\\\\\"}}, \\\\\\\\\\\\\"typeProperty\\\\\\\\\\\\\": 2}, {\\\\\\\\\\\\\"column\\\\\\\\\\\\\": {\\\\\\\\\\\\\"type\\\\\\\\\\\\\": 2, \\\\\\\\\\\\\"details\\\\\\\\\\\\\": {\\\\\\\\\\\\\"selectedColumn\\\\\\\\\\\\\": \\\\\\\\\\\\\"time\\\\\\\\\\\\\"}}, \\\\\\\\\\\\\"typeProperty\\\\\\\\\\\\\": 2}, {\\\\\\\\\\\\\"column\\\\\\\\\\\\\": {\\\\\\\\\\\\\"type\\\\\\\\\\\\\": 2, \\\\\\\\\\\\\"details\\\\\\\\\\\\\": {\\\\\\\\\\\\\"selectedColumn\\\\\\\\\\\\\": \\\\\\\\\\\\\"DEATH_EVENT\\\\\\\\\\\\\"}}, \\\\\\\\\\\\\"typeProperty\\\\\\\\\\\\\": 2}]}, \\\\\\\\\\\\\"localData\\\\\\\\\\\\\": {}, \\\\\\\\\\\\\"isEnabled\\\\\\\\\\\\\": true, \\\\\\\\\\\\\"name\\\\\\\\\\\\\": null, \\\\\\\\\\\\\"annotation\\\\\\\\\\\\\": null}], \\\\\\\\\\\\\"inspectors\\\\\\\\\\\\\": [], \\\\\\\\\\\\\"meta\\\\\\\\\\\\\": {\\\\\\\\\\\\\"savedDatasetId\\\\\\\\\\\\\": \\\\\\\\\\\\\"0ad846c5-73c0-4eb3-b364-86ccedc9e4b3\\\\\\\\\\\\\", \\\\\\\\\\\\\"datasetType\\\\\\\\\\\\\": \\\\\\\\\\\\\"tabular\\\\\\\\\\\\\", \\\\\\\\\\\\\"subscriptionId\\\\\\\\\\\\\": \\\\\\\\\\\\\"510b94ba-e453-4417-988b-fbdc37b55ca7\\\\\\\\\\\\\", \\\\\\\\\\\\\"workspaceId\\\\\\\\\\\\\": \\\\\\\\\\\\\"df91d210-721a-4cb7-90b1-19aaae6037ff\\\\\\\\\\\\\", \\\\\\\\\\\\\"workspaceLocation\\\\\\\\\\\\\": \\\\\\\\\\\\\"southcentralus\\\\\\\\\\\\\"}}\\\\\", \\\\\"activities\\\\\": 0}',\n",
       "  'EnableSubsampling': None,\n",
       "  'runTemplate': 'AutoML',\n",
       "  'azureml.runsource': 'automl',\n",
       "  'display_task_type': 'classification',\n",
       "  'dependencies_versions': '{\"azureml-widgets\": \"1.20.0\", \"azureml-train\": \"1.20.0\", \"azureml-train-restclients-hyperdrive\": \"1.20.0\", \"azureml-train-core\": \"1.20.0\", \"azureml-train-automl\": \"1.20.0\", \"azureml-train-automl-runtime\": \"1.20.0\", \"azureml-train-automl-client\": \"1.20.0\", \"azureml-tensorboard\": \"1.20.0\", \"azureml-telemetry\": \"1.20.0\", \"azureml-sdk\": \"1.20.0\", \"azureml-samples\": \"0+unknown\", \"azureml-pipeline\": \"1.20.0\", \"azureml-pipeline-steps\": \"1.20.0\", \"azureml-pipeline-core\": \"1.20.0\", \"azureml-opendatasets\": \"1.20.0\", \"azureml-model-management-sdk\": \"1.0.1b6.post1\", \"azureml-mlflow\": \"1.20.0.post1\", \"azureml-interpret\": \"1.20.0\", \"azureml-explain-model\": \"1.20.0\", \"azureml-defaults\": \"1.20.0\", \"azureml-dataset-runtime\": \"1.20.0\", \"azureml-dataprep\": \"2.7.3\", \"azureml-dataprep-rslex\": \"1.5.0\", \"azureml-dataprep-native\": \"27.0.0\", \"azureml-datadrift\": \"1.20.0\", \"azureml-core\": \"1.20.0\", \"azureml-contrib-services\": \"1.20.0\", \"azureml-contrib-server\": \"1.20.0\", \"azureml-contrib-reinforcementlearning\": \"1.20.0\", \"azureml-contrib-pipeline-steps\": \"1.20.0\", \"azureml-contrib-notebook\": \"1.20.0\", \"azureml-contrib-interpret\": \"1.20.0\", \"azureml-contrib-gbdt\": \"1.20.0\", \"azureml-contrib-fairness\": \"1.20.0\", \"azureml-contrib-dataset\": \"1.20.0\", \"azureml-cli-common\": \"1.20.0\", \"azureml-automl-runtime\": \"1.20.0\", \"azureml-automl-core\": \"1.20.0\", \"azureml-accel-models\": \"1.20.0\"}',\n",
       "  '_aml_system_scenario_identification': 'Remote.Parent',\n",
       "  'ClientType': 'SDK',\n",
       "  'environment_cpu_name': 'AzureML-AutoML',\n",
       "  'environment_cpu_label': 'prod',\n",
       "  'environment_gpu_name': 'AzureML-AutoML-GPU',\n",
       "  'environment_gpu_label': 'prod',\n",
       "  'root_attribution': 'automl',\n",
       "  'attribution': 'AutoML',\n",
       "  'Orchestrator': 'AutoML',\n",
       "  'CancelUri': 'https://southcentralus.experiments.azureml.net/jasmine/v1.0/subscriptions/510b94ba-e453-4417-988b-fbdc37b55ca7/resourceGroups/aml-quickstarts-138577/providers/Microsoft.MachineLearningServices/workspaces/quick-starts-ws-138577/experimentids/d9fea18c-76b2-4c91-a316-551d4afd2a67/cancel/AutoML_3e325779-ff8d-4e8c-8f0b-9a482989a051',\n",
       "  'ClientSdkVersion': '1.21.0',\n",
       "  'snapshotId': '00000000-0000-0000-0000-000000000000',\n",
       "  'SetupRunId': 'AutoML_3e325779-ff8d-4e8c-8f0b-9a482989a051_setup',\n",
       "  'SetupRunContainerId': 'dcid.AutoML_3e325779-ff8d-4e8c-8f0b-9a482989a051_setup',\n",
       "  'FeaturizationRunJsonPath': 'featurizer_container.json',\n",
       "  'FeaturizationRunId': 'AutoML_3e325779-ff8d-4e8c-8f0b-9a482989a051_featurize',\n",
       "  'ProblemInfoJsonString': '{\"dataset_num_categorical\": 0, \"is_sparse\": false, \"subsampling\": false, \"dataset_classes\": 2, \"dataset_features\": 12, \"dataset_samples\": 239, \"single_frequency_class_detected\": false}',\n",
       "  'ModelExplainRunId': 'AutoML_3e325779-ff8d-4e8c-8f0b-9a482989a051_ModelExplain'},\n",
       " 'inputDatasets': [{'dataset': {'id': '0ad846c5-73c0-4eb3-b364-86ccedc9e4b3'}, 'consumptionDetails': {'type': 'RunInput', 'inputName': 'training_data', 'mechanism': 'Direct'}}],\n",
       " 'outputDatasets': [],\n",
       " 'logFiles': {},\n",
       " 'submittedBy': 'ODL_User 138577'}"
      ]
     },
     "execution_count": 14,
     "metadata": {},
     "output_type": "execute_result"
    }
   ],
   "source": [
    "remote_run.wait_for_completion()"
   ]
  },
  {
   "cell_type": "markdown",
   "metadata": {},
   "source": [
    "## Best Model"
   ]
  },
  {
   "cell_type": "code",
   "execution_count": 15,
   "metadata": {
    "gather": {
     "logged": 1598431425670
    },
    "jupyter": {
     "outputs_hidden": false,
     "source_hidden": false
    },
    "nteract": {
     "transient": {
      "deleting": false
     }
    }
   },
   "outputs": [
    {
     "name": "stderr",
     "output_type": "stream",
     "text": [
      "WARNING:root:The version of the SDK does not match the version the model was trained on.\n",
      "WARNING:root:The consistency in the result may not be guaranteed.\n",
      "WARNING:root:Package:azureml-automl-core, training version:1.21.0, current version:1.20.0\n",
      "Package:azureml-automl-runtime, training version:1.21.0, current version:1.20.0\n",
      "Package:azureml-core, training version:1.21.0.post1, current version:1.20.0\n",
      "Package:azureml-dataprep, training version:2.8.2, current version:2.7.3\n",
      "Package:azureml-dataprep-native, training version:28.0.0, current version:27.0.0\n",
      "Package:azureml-dataprep-rslex, training version:1.6.0, current version:1.5.0\n",
      "Package:azureml-dataset-runtime, training version:1.21.0, current version:1.20.0\n",
      "Package:azureml-defaults, training version:1.21.0, current version:1.20.0\n",
      "Package:azureml-interpret, training version:1.21.0, current version:1.20.0\n",
      "Package:azureml-pipeline-core, training version:1.21.0, current version:1.20.0\n",
      "Package:azureml-telemetry, training version:1.21.0, current version:1.20.0\n",
      "Package:azureml-train-automl-client, training version:1.21.0, current version:1.20.0\n",
      "Package:azureml-train-automl-runtime, training version:1.21.0, current version:1.20.0\n",
      "WARNING:root:Please ensure the version of your local conda dependencies match the version on which your model was trained in order to properly retrieve your model.\n"
     ]
    },
    {
     "name": "stdout",
     "output_type": "stream",
     "text": [
      "recall_score_weighted 0.887005649717514\n",
      "f1_score_macro 0.8740990734327544\n",
      "average_precision_score_weighted 0.9316850633756819\n",
      "norm_macro_recall 0.7508942927347934\n",
      "confusion_matrix aml://artifactId/ExperimentRun/dcid.AutoML_3e325779-ff8d-4e8c-8f0b-9a482989a051_26/confusion_matrix\n",
      "average_precision_score_micro 0.9387781197144919\n",
      "f1_score_micro 0.887005649717514\n",
      "precision_score_weighted 0.8895307169599654\n",
      "accuracy 0.887005649717514\n",
      "AUC_weighted 0.9298096362642255\n",
      "precision_score_micro 0.887005649717514\n",
      "f1_score_weighted 0.8869402000645283\n",
      "balanced_accuracy 0.8754471463673967\n",
      "average_precision_score_macro 0.9153582497473376\n",
      "AUC_macro 0.9298096362642255\n",
      "recall_score_macro 0.8754471463673967\n",
      "matthews_correlation 0.7512721116896034\n",
      "AUC_micro 0.9362886223626671\n",
      "recall_score_micro 0.887005649717514\n",
      "weighted_accuracy 0.8960937904397048\n",
      "precision_score_macro 0.8762014411027568\n",
      "log_loss 0.34071214863878496\n",
      "accuracy_table aml://artifactId/ExperimentRun/dcid.AutoML_3e325779-ff8d-4e8c-8f0b-9a482989a051_26/accuracy_table\n"
     ]
    }
   ],
   "source": [
    "#get best model and print all the metrics\n",
    "best_run, fitted_model = remote_run.get_output()\n",
    "\n",
    "best_run_metrics = best_run.get_metrics() \n",
    "for metric_name in best_run_metrics:\n",
    "    metric = best_run_metrics[metric_name]\n",
    "    print(metric_name, metric)"
   ]
  },
  {
   "cell_type": "code",
   "execution_count": 20,
   "metadata": {},
   "outputs": [
    {
     "data": {
      "text/plain": [
       "Pipeline(memory=None,\n",
       "         steps=[('datatransformer',\n",
       "                 DataTransformer(enable_dnn=None, enable_feature_sweeping=None,\n",
       "                                 feature_sweeping_config=None,\n",
       "                                 feature_sweeping_timeout=None,\n",
       "                                 featurization_config=None, force_text_dnn=None,\n",
       "                                 is_cross_validation=None,\n",
       "                                 is_onnx_compatible=None, logger=None,\n",
       "                                 observer=None, task=None, working_dir=None)),\n",
       "                ('prefittedsoftvotingclassifier',...\n",
       "                                                                                               objective='reg:logistic',\n",
       "                                                                                               random_state=0,\n",
       "                                                                                               reg_alpha=2.0833333333333335,\n",
       "                                                                                               reg_lambda=1.7708333333333335,\n",
       "                                                                                               scale_pos_weight=1,\n",
       "                                                                                               seed=None,\n",
       "                                                                                               silent=None,\n",
       "                                                                                               subsample=0.9,\n",
       "                                                                                               tree_method='hist',\n",
       "                                                                                               verbose=-10,\n",
       "                                                                                               verbosity=0))],\n",
       "                                                                     verbose=False))],\n",
       "                                               flatten_transform=None,\n",
       "                                               weights=[0.2857142857142857,\n",
       "                                                        0.14285714285714285,\n",
       "                                                        0.14285714285714285,\n",
       "                                                        0.2857142857142857,\n",
       "                                                        0.14285714285714285]))],\n",
       "         verbose=False)"
      ]
     },
     "execution_count": 20,
     "metadata": {},
     "output_type": "execute_result"
    }
   ],
   "source": [
    "# Details of best model as well as the parameters of the best run\n",
    "fitted_model"
   ]
  },
  {
   "cell_type": "code",
   "execution_count": 19,
   "metadata": {},
   "outputs": [
    {
     "data": {
      "text/html": [
       "<table style=\"width:100%\"><tr><th>Experiment</th><th>Id</th><th>Type</th><th>Status</th><th>Details Page</th><th>Docs Page</th></tr><tr><td>heart-failure-automl</td><td>AutoML_3e325779-ff8d-4e8c-8f0b-9a482989a051_26</td><td>azureml.scriptrun</td><td>Completed</td><td><a href=\"https://ml.azure.com/experiments/heart-failure-automl/runs/AutoML_3e325779-ff8d-4e8c-8f0b-9a482989a051_26?wsid=/subscriptions/510b94ba-e453-4417-988b-fbdc37b55ca7/resourcegroups/aml-quickstarts-138577/workspaces/quick-starts-ws-138577\" target=\"_blank\" rel=\"noopener\">Link to Azure Machine Learning studio</a></td><td><a href=\"https://docs.microsoft.com/en-us/python/api/azureml-core/azureml.core.run.Run?view=azure-ml-py\" target=\"_blank\" rel=\"noopener\">Link to Documentation</a></td></tr></table>"
      ],
      "text/plain": [
       "Run(Experiment: heart-failure-automl,\n",
       "Id: AutoML_3e325779-ff8d-4e8c-8f0b-9a482989a051_26,\n",
       "Type: azureml.scriptrun,\n",
       "Status: Completed)"
      ]
     },
     "execution_count": 19,
     "metadata": {},
     "output_type": "execute_result"
    }
   ],
   "source": [
    "best_run"
   ]
  },
  {
   "cell_type": "code",
   "execution_count": 21,
   "metadata": {
    "gather": {
     "logged": 1598431426111
    },
    "jupyter": {
     "outputs_hidden": false,
     "source_hidden": false
    },
    "nteract": {
     "transient": {
      "deleting": false
     }
    }
   },
   "outputs": [
    {
     "data": {
      "text/plain": [
       "['outputs/automl_model.pkl']"
      ]
     },
     "execution_count": 21,
     "metadata": {},
     "output_type": "execute_result"
    }
   ],
   "source": [
    "#Save the best model\n",
    "best_run.register_model(model_name = 'automl_best_model.pkl', model_path = './outputs/')\n",
    "joblib.dump(fitted_model, filename= \"outputs/automl_model.pkl\")"
   ]
  },
  {
   "cell_type": "markdown",
   "metadata": {},
   "source": [
    "## Model Deployment"
   ]
  },
  {
   "cell_type": "code",
   "execution_count": 22,
   "metadata": {},
   "outputs": [],
   "source": [
    "# Download score.py and env file\n",
    "best_run.download_file('outputs/scoring_file_v_1_0_0.py', 'inference/score.py')\n",
    "best_run.download_file(constants.CONDA_ENV_FILE_PATH,'automl_env.yml')"
   ]
  },
  {
   "cell_type": "code",
   "execution_count": 23,
   "metadata": {},
   "outputs": [
    {
     "name": "stdout",
     "output_type": "stream",
     "text": [
      "AutoML3e325779f26\n"
     ]
    }
   ],
   "source": [
    "# Register the model\n",
    "model_name = best_run.properties['model_name']\n",
    "description = 'AutoML Model trained on heart failure data to predict if death event occurs or not'\n",
    "tags = None\n",
    "model = remote_run.register_model(model_name = model_name, description = description, tags = tags)\n",
    "\n",
    "print(remote_run.model_id) # This will be written to the script file later in the notebook."
   ]
  },
  {
   "cell_type": "code",
   "execution_count": 25,
   "metadata": {},
   "outputs": [
    {
     "name": "stdout",
     "output_type": "stream",
     "text": [
      "automl-heart-failure\n",
      "Tips: You can try get_logs(): https://aka.ms/debugimage#dockerlog or local deployment: https://aka.ms/debugimage#debug-locally to debug if deployment takes longer than 10 minutes.\n",
      "Running..........................................\n",
      "Succeeded\n",
      "ACI service creation operation finished, operation \"Succeeded\"\n",
      "Healthy\n"
     ]
    }
   ],
   "source": [
    "# Create inference config\n",
    "script_file_name= 'inference/score.py'\n",
    "inference_config = InferenceConfig(entry_script=script_file_name)\n",
    "\n",
    "aciconfig = AciWebservice.deploy_configuration(cpu_cores = 1, \n",
    "                                               memory_gb = 1, \n",
    "                                               tags = {'area': \"hfData\", 'type': \"automl_classification\"}, \n",
    "                                               description = 'Heart Failure Prediction')\n",
    "\n",
    "aci_service_name = 'automl-heart-failure'\n",
    "print(aci_service_name)\n",
    "aci_service = Model.deploy(ws, aci_service_name, [model], inference_config, aciconfig)\n",
    "aci_service.wait_for_deployment(True)\n",
    "print(aci_service.state)"
   ]
  },
  {
   "cell_type": "code",
   "execution_count": 26,
   "metadata": {},
   "outputs": [],
   "source": [
    "# Enable Application Insights\n",
    "aci_service.update(enable_app_insights=True)"
   ]
  },
  {
   "cell_type": "code",
   "execution_count": 27,
   "metadata": {},
   "outputs": [
    {
     "name": "stdout",
     "output_type": "stream",
     "text": [
      "State Healthy\n",
      "Swagger URI http://c18b094b-8e53-466f-9940-747a62b057b6.southcentralus.azurecontainer.io/swagger.json\n",
      "Scoring URI http://c18b094b-8e53-466f-9940-747a62b057b6.southcentralus.azurecontainer.io/score\n"
     ]
    }
   ],
   "source": [
    "print(\"State \"+ aci_service.state)\n",
    "print(\"Swagger URI \" + aci_service.swagger_uri)\n",
    "print(\"Scoring URI \" + aci_service.scoring_uri)"
   ]
  },
  {
   "cell_type": "markdown",
   "metadata": {
    "collapsed": true,
    "gather": {
     "logged": 1598431657736
    },
    "jupyter": {
     "outputs_hidden": false,
     "source_hidden": false
    },
    "nteract": {
     "transient": {
      "deleting": false
     }
    }
   },
   "source": [
    "In the cell below, a request is sent to the web service deployed to test it."
   ]
  },
  {
   "cell_type": "code",
   "execution_count": 28,
   "metadata": {
    "gather": {
     "logged": 1598432707604
    },
    "jupyter": {
     "outputs_hidden": false,
     "source_hidden": false
    },
    "nteract": {
     "transient": {
      "deleting": false
     }
    }
   },
   "outputs": [
    {
     "name": "stdout",
     "output_type": "stream",
     "text": [
      "{\"result\": [1, 1]}\n"
     ]
    }
   ],
   "source": [
    "import requests\n",
    "import json\n",
    "\n",
    "# URL for the web service, should be similar to:\n",
    "# 'http://8530a665-66f3-49c8-a953-b82a2d312917.eastus.azurecontainer.io/score'\n",
    "scoring_uri = aci_service.scoring_uri\n",
    "# If the service is authenticated, set the key or token\n",
    "\n",
    "# Two sets of data to score, so we get two results back\n",
    "data = {\"data\":\n",
    "        [\n",
    "          {\n",
    "            \"age\": 70.0,\n",
    "            \"anaemia\": 1,\n",
    "            \"creatinine_phosphokinase\": 4020,\n",
    "            \"diabetes\": 1,\n",
    "            \"ejection_fraction\": 32,\n",
    "            \"high_blood_pressure\": 1,\n",
    "            \"platelets\": 234558.23,\n",
    "            \"serum_creatinine\": 1.4,\n",
    "            \"serum_sodium\": 125,\n",
    "            \"sex\": 0,\n",
    "            \"smoking\": 1,\n",
    "            \"time\": 12\n",
    "          },\n",
    "          {\n",
    "            \"age\": 75.0,\n",
    "            \"anaemia\": 0,\n",
    "            \"creatinine_phosphokinase\": 4221,\n",
    "            \"diabetes\": 0,\n",
    "            \"ejection_fraction\": 22,\n",
    "            \"high_blood_pressure\": 0,\n",
    "            \"platelets\": 404567.23,\n",
    "            \"serum_creatinine\": 1.1,\n",
    "            \"serum_sodium\": 115,\n",
    "            \"sex\": 1,\n",
    "            \"smoking\": 0,\n",
    "            \"time\": 7\n",
    "          },\n",
    "      ]\n",
    "    }\n",
    "# Convert to JSON string\n",
    "input_data = json.dumps(data)\n",
    "with open(\"data.json\", \"w\") as _f:\n",
    "    _f.write(input_data)\n",
    "\n",
    "# Set the content type\n",
    "headers = {'Content-Type': 'application/json'}\n",
    "# If authentication is enabled, set the authorization header\n",
    "\n",
    "# Make the request and display the response\n",
    "resp = requests.post(scoring_uri, input_data, headers=headers)\n",
    "print(resp.json())"
   ]
  },
  {
   "cell_type": "code",
   "execution_count": 29,
   "metadata": {
    "jupyter": {
     "outputs_hidden": false,
     "source_hidden": false
    },
    "nteract": {
     "transient": {
      "deleting": false
     }
    }
   },
   "outputs": [
    {
     "data": {
      "text/plain": [
       "'2021-02-11T15:10:24,605347107+00:00 - iot-server/run \\n2021-02-11T15:10:24,607125311+00:00 - rsyslog/run \\n2021-02-11T15:10:24,616079537+00:00 - nginx/run \\n2021-02-11T15:10:24,616498662+00:00 - gunicorn/run \\nrsyslogd: /azureml-envs/azureml_20a8278aa8b20dd48cc50f56a6d2586c/lib/libuuid.so.1: no version information available (required by rsyslogd)\\n/usr/sbin/nginx: /azureml-envs/azureml_20a8278aa8b20dd48cc50f56a6d2586c/lib/libcrypto.so.1.0.0: no version information available (required by /usr/sbin/nginx)\\n/usr/sbin/nginx: /azureml-envs/azureml_20a8278aa8b20dd48cc50f56a6d2586c/lib/libcrypto.so.1.0.0: no version information available (required by /usr/sbin/nginx)\\n/usr/sbin/nginx: /azureml-envs/azureml_20a8278aa8b20dd48cc50f56a6d2586c/lib/libssl.so.1.0.0: no version information available (required by /usr/sbin/nginx)\\n/usr/sbin/nginx: /azureml-envs/azureml_20a8278aa8b20dd48cc50f56a6d2586c/lib/libssl.so.1.0.0: no version information available (required by /usr/sbin/nginx)\\n/usr/sbin/nginx: /azureml-envs/azureml_20a8278aa8b20dd48cc50f56a6d2586c/lib/libssl.so.1.0.0: no version information available (required by /usr/sbin/nginx)\\nEdgeHubConnectionString and IOTEDGE_IOTHUBHOSTNAME are not set. Exiting...\\n2021-02-11T15:10:24,807159064+00:00 - iot-server/finish 1 0\\n2021-02-11T15:10:24,808598948+00:00 - Exit code 1 is normal. Not restarting iot-server.\\nStarting gunicorn 19.9.0\\nListening at: http://127.0.0.1:31311 (14)\\nUsing worker: sync\\nworker timeout is set to 300\\nBooting worker with pid: 43\\nSPARK_HOME not set. Skipping PySpark Initialization.\\nGenerating new fontManager, this may take some time...\\nInitializing logger\\n2021-02-11 15:10:25,925 | root | INFO | Starting up app insights client\\n2021-02-11 15:10:25,925 | root | INFO | Starting up request id generator\\n2021-02-11 15:10:25,925 | root | INFO | Starting up app insight hooks\\n2021-02-11 15:10:25,925 | root | INFO | Invoking user\\'s init function\\n2021-02-11 15:10:27,858 | root | INFO | Users\\'s init has completed successfully\\n2021-02-11 15:10:27,861 | root | INFO | Skipping middleware: dbg_model_info as it\\'s not enabled.\\n2021-02-11 15:10:27,861 | root | INFO | Skipping middleware: dbg_resource_usage as it\\'s not enabled.\\n2021-02-11 15:10:27,862 | root | INFO | Scoring timeout is found from os.environ: 60000 ms\\n2021-02-11 15:10:31,749 | root | INFO | 200\\n127.0.0.1 - - [11/Feb/2021:15:10:31 +0000] \"GET /swagger.json HTTP/1.0\" 200 2852 \"-\" \"Go-http-client/1.1\"\\n2021-02-11 15:11:51,337 | root | INFO | Validation Request Content-Type\\n2021-02-11 15:11:51,338 | root | INFO | Scoring Timer is set to 60.0 seconds\\n2021-02-11 15:11:51,394 | root | INFO | 200\\n127.0.0.1 - - [11/Feb/2021:15:11:51 +0000] \"POST /score HTTP/1.0\" 200 22 \"-\" \"python-requests/2.25.1\"\\n'"
      ]
     },
     "execution_count": 29,
     "metadata": {},
     "output_type": "execute_result"
    }
   ],
   "source": [
    "#Print the logs of the deployed service\n",
    "aci_service.get_logs()"
   ]
  },
  {
   "cell_type": "code",
   "execution_count": 30,
   "metadata": {},
   "outputs": [],
   "source": [
    "#Delete the deployed service\n",
    "aci_service.delete()"
   ]
  },
  {
   "cell_type": "code",
   "execution_count": null,
   "metadata": {},
   "outputs": [],
   "source": []
  }
 ],
 "metadata": {
  "kernel_info": {
   "name": "python3-azureml"
  },
  "kernelspec": {
   "display_name": "Python 3",
   "language": "python",
   "name": "python3"
  },
  "language_info": {
   "codemirror_mode": {
    "name": "ipython",
    "version": 3
   },
   "file_extension": ".py",
   "mimetype": "text/x-python",
   "name": "python",
   "nbconvert_exporter": "python",
   "pygments_lexer": "ipython3",
   "version": "3.6.9"
  },
  "nteract": {
   "version": "nteract-front-end@1.0.0"
  }
 },
 "nbformat": 4,
 "nbformat_minor": 2
}
